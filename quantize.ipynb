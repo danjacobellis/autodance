{
 "cells": [
  {
   "cell_type": "code",
   "execution_count": 1,
   "id": "b6420ca7-4d27-4fed-b23c-cad2a87caf69",
   "metadata": {},
   "outputs": [],
   "source": [
    "import torch\n",
    "import datasets\n",
    "import matplotlib.pyplot as plt\n",
    "from tft.transforms import WPT2D, IWPT2D \n",
    "from tft.utils import CompandGN, InvCompandGN, Quantize\n",
    "from torchvision.transforms.v2 import CenterCrop, PILToTensor, ToPILImage\n",
    "from pytorch_wavelets import DWTForward, DWTInverse"
   ]
  },
  {
   "cell_type": "code",
   "execution_count": 2,
   "id": "5b010de6-78ef-4429-9861-fced0b90516b",
   "metadata": {},
   "outputs": [
    {
     "data": {
      "application/vnd.jupyter.widget-view+json": {
       "model_id": "b994c436be1b4c5892e47cb26502a31c",
       "version_major": 2,
       "version_minor": 0
      },
      "text/plain": [
       "Resolving data files:   0%|          | 0/195 [00:00<?, ?it/s]"
      ]
     },
     "metadata": {},
     "output_type": "display_data"
    },
    {
     "data": {
      "application/vnd.jupyter.widget-view+json": {
       "model_id": "376b0f3b0c9949eab61671d420421422",
       "version_major": 2,
       "version_minor": 0
      },
      "text/plain": [
       "Resolving data files:   0%|          | 0/195 [00:00<?, ?it/s]"
      ]
     },
     "metadata": {},
     "output_type": "display_data"
    }
   ],
   "source": [
    "img = datasets.load_dataset('danjacobellis/LSDIR',split='validation')[28]['image']"
   ]
  },
  {
   "cell_type": "code",
   "execution_count": 3,
   "id": "64c5025d-076a-487b-96a0-28e4c513db3f",
   "metadata": {},
   "outputs": [],
   "source": [
    "x = PILToTensor()(CenterCrop(288)(img)).to(torch.float).unsqueeze(0)/127.5 - 1.0\n",
    "wt = DWTForward(J=1, mode='periodization', wave='bior4.4')\n",
    "iwt = DWTInverse(mode='periodization', wave='bior4.4')\n",
    "J = 5\n",
    "wpt = WPT2D(wt=wt, J=J)\n",
    "iwpt = IWPT2D(iwt=iwt, J=J)"
   ]
  },
  {
   "cell_type": "code",
   "execution_count": 4,
   "id": "324de85c-e643-4e7e-85d4-be17362abc01",
   "metadata": {},
   "outputs": [],
   "source": [
    "c = CompandGN(\n",
    "    num_features=3*(4**J),\n",
    "    num_groups=3*(4**J),\n",
    "    compand_eps=0.1,\n",
    "    compand_pow=0.5,\n",
    "    rescale=5\n",
    ")\n",
    "d = InvCompandGN(c)"
   ]
  },
  {
   "cell_type": "code",
   "execution_count": 5,
   "id": "229c80cd-07ff-4ced-864c-a26e652fd969",
   "metadata": {},
   "outputs": [
    {
     "name": "stdout",
     "output_type": "stream",
     "text": [
      "2 10.364762861728668\n",
      "3 15.199035425186157\n",
      "4 23.267954607009887\n",
      "5 30.369758625030517\n",
      "6 36.369516868591305\n",
      "7 42.567050476074215\n",
      "8 48.842146415710445\n",
      "9 55.123980064392086\n",
      "10 60.795152206420894\n",
      "11 66.97675468444824\n"
     ]
    }
   ],
   "source": [
    "for bits in range(2,12):\n",
    "    q = Quantize(bits=bits)\n",
    "    q.eval()\n",
    "    with torch.no_grad():\n",
    "        X = q(c(wpt(x)))\n",
    "        x_hat = iwpt(d(X))\n",
    "    PSNR = -10*torch.nn.functional.mse_loss(x,x_hat).log10().item() + 6.02\n",
    "    print(bits, PSNR)"
   ]
  }
 ],
 "metadata": {
  "kernelspec": {
   "display_name": "Python 3 (ipykernel)",
   "language": "python",
   "name": "python3"
  },
  "language_info": {
   "codemirror_mode": {
    "name": "ipython",
    "version": 3
   },
   "file_extension": ".py",
   "mimetype": "text/x-python",
   "name": "python",
   "nbconvert_exporter": "python",
   "pygments_lexer": "ipython3",
   "version": "3.10.12"
  }
 },
 "nbformat": 4,
 "nbformat_minor": 5
}
