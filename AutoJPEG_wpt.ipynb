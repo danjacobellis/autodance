{
 "cells": [
  {
   "cell_type": "code",
   "execution_count": 1,
   "id": "e3510095-2530-47e4-9be4-f7195bdc9d7c",
   "metadata": {
    "scrolled": true
   },
   "outputs": [
    {
     "data": {
      "application/vnd.jupyter.widget-view+json": {
       "model_id": "3dc3e0b721694034a14e204a5f3a257b",
       "version_major": 2,
       "version_minor": 0
      },
      "text/plain": [
       "Resolving data files:   0%|          | 0/195 [00:00<?, ?it/s]"
      ]
     },
     "metadata": {},
     "output_type": "display_data"
    },
    {
     "data": {
      "application/vnd.jupyter.widget-view+json": {
       "model_id": "5f910d8476c4427db6bc5a8d644d3f79",
       "version_major": 2,
       "version_minor": 0
      },
      "text/plain": [
       "Resolving data files:   0%|          | 0/195 [00:00<?, ?it/s]"
      ]
     },
     "metadata": {},
     "output_type": "display_data"
    },
    {
     "data": {
      "application/vnd.jupyter.widget-view+json": {
       "model_id": "6955edd898744c9d88943e3b64f04926",
       "version_major": 2,
       "version_minor": 0
      },
      "text/plain": [
       "Loading dataset shards:   0%|          | 0/178 [00:00<?, ?it/s]"
      ]
     },
     "metadata": {},
     "output_type": "display_data"
    }
   ],
   "source": [
    "device=\"cuda:0\"\n",
    "import io\n",
    "import torch\n",
    "import torch.nn as nn\n",
    "import PIL.Image\n",
    "import einops\n",
    "import matplotlib.pyplot as plt\n",
    "import numpy as np\n",
    "import datasets\n",
    "import math\n",
    "from IPython.display import HTML\n",
    "from types import SimpleNamespace\n",
    "from timm.optim import Mars\n",
    "from fastprogress import progress_bar, master_bar\n",
    "from torchvision.transforms.v2 import ToPILImage, PILToTensor, CenterCrop, RandomCrop\n",
    "from timm.models.efficientvit_mit import GELUTanh, EfficientVitBlock, ResidualBlock, build_local_block\n",
    "from pytorch_wavelets import DWTForward, DWTInverse\n",
    "from tft.transforms import WPT2D, IWPT2D\n",
    "from tft.utils import CompandGN, InvCompandGN, Quantize\n",
    "dataset = datasets.load_dataset(\"danjacobellis/LSDIR\")"
   ]
  },
  {
   "cell_type": "code",
   "execution_count": 2,
   "id": "1799aeda-0a03-431a-aaf9-f094984582d9",
   "metadata": {},
   "outputs": [],
   "source": [
    "def _divisors(n):\n",
    "    divs = []\n",
    "    i = 1\n",
    "    while i * i <= n:\n",
    "        if n % i == 0:\n",
    "            divs.append(i)\n",
    "            if i != n // i:\n",
    "                divs.append(n // i)\n",
    "        i += 1\n",
    "    return sorted(divs)\n",
    "\n",
    "class FactorizedConv2d(nn.Module):\n",
    "    def __init__(self, in_chs, out_chs, bias=False):\n",
    "        super().__init__()\n",
    "        self.in_chs, self.out_chs = in_chs, out_chs\n",
    "        g1, g2 = self._pick_groups(in_chs, out_chs)\n",
    "        self.g1, self.g2 = g1, g2\n",
    "        self.conv1 = nn.Conv2d(in_chs, in_chs, 1, groups=g1, bias=bias)\n",
    "        self.conv2 = nn.Conv2d(in_chs, out_chs, 1, groups=g2, bias=bias)\n",
    "\n",
    "    def _pick_groups(self, in_chs, out_chs):\n",
    "        divs = _divisors(in_chs)\n",
    "        best_g1, best_g2, best_cost = 1, in_chs, float('inf')\n",
    "        for d in divs:\n",
    "            g1, g2 = d, in_chs // d\n",
    "            cost = (in_chs * in_chs / g1) + (in_chs * out_chs / g2)\n",
    "            if cost < best_cost:\n",
    "                best_cost, best_g1, best_g2 = cost, g1, g2\n",
    "        return best_g1, best_g2\n",
    "\n",
    "    def forward(self, x):\n",
    "        x = self.conv1(x)\n",
    "        x = einops.rearrange(x, 'b (g1 g2) h w -> b (g2 g1) h w', g1=self.g1, g2=self.g2)\n",
    "        x = self.conv2(x)\n",
    "        return x\n",
    "\n",
    "class GroupNorm8(torch.nn.Module):\n",
    "    def __init__(self, num_features, eps=1e-7, affine=True):\n",
    "        super().__init__()\n",
    "        self.groupnorm = torch.nn.GroupNorm(num_groups=8,\n",
    "                                      num_channels=num_features,\n",
    "                                      eps=eps,\n",
    "                                      affine=affine)\n",
    "    def forward(self, x):\n",
    "        return self.groupnorm(x)\n",
    "\n",
    "class EfficientVitStageNoDS(nn.Module):\n",
    "    def __init__(self, in_chs, out_chs, depth, norm_layer, act_layer):\n",
    "        super(EfficientVitStageNoDS, self).__init__()\n",
    "        blocks = [\n",
    "            ResidualBlock(\n",
    "                build_local_block(\n",
    "                    in_channels=in_chs,\n",
    "                    out_channels=out_chs,\n",
    "                    stride=1,\n",
    "                    expand_ratio=4,\n",
    "                    norm_layer=norm_layer,\n",
    "                    act_layer=act_layer,\n",
    "                    fewer_norm=True,\n",
    "                    block_type='default'\n",
    "                ),\n",
    "                None,\n",
    "            )\n",
    "        ]\n",
    "        in_chs = out_chs\n",
    "        for _ in range(depth):\n",
    "            blocks.append(\n",
    "                EfficientVitBlock(\n",
    "                    in_channels=in_chs,\n",
    "                    head_dim=32,\n",
    "                    expand_ratio=4,\n",
    "                    norm_layer=norm_layer,\n",
    "                    act_layer=act_layer,\n",
    "                )\n",
    "            )\n",
    "        self.blocks = nn.Sequential(*blocks)\n",
    "\n",
    "    def forward(self, x):\n",
    "        return self.blocks(x)\n",
    "        \n",
    "def entropy_code(ints):\n",
    "    webp_bytes = []\n",
    "    for sample in ints:\n",
    "        c_groups = sample.shape[0] // 3\n",
    "        sample_webp = []\n",
    "        for g in range(c_groups):\n",
    "            group = sample[g*3 : g*3+3]\n",
    "            group = (group + 127).clamp_(0, 255).byte()\n",
    "            img = ToPILImage()(group)\n",
    "            buff = io.BytesIO()\n",
    "            img.save(buff, format='WEBP', lossless=True)\n",
    "            sample_webp.append(buff.getbuffer())\n",
    "        webp_bytes.append(sample_webp)\n",
    "    \n",
    "    return webp_bytes\n",
    "\n",
    "def entropy_decode(webp_bytes):\n",
    "    batch_out = []\n",
    "    for sample_buffers in webp_bytes:\n",
    "        group_tensors = []\n",
    "        for buff in sample_buffers:\n",
    "            with io.BytesIO(buff) as memfile:\n",
    "                img = PIL.Image.open(memfile).convert('RGB')\n",
    "            t = PILToTensor()(img).to(torch.int16) - 127\n",
    "            group_tensors.append(t)\n",
    "        sample_tensor = torch.cat(group_tensors, dim=0)\n",
    "        sample_tensor = sample_tensor.unsqueeze(0)\n",
    "        batch_out.append(sample_tensor)\n",
    "    decoded = torch.cat(batch_out, dim=0)\n",
    "    return decoded"
   ]
  },
  {
   "cell_type": "code",
   "execution_count": 3,
   "id": "9be69cf4-3f93-45de-8645-b2c9cb2ab6f2",
   "metadata": {},
   "outputs": [],
   "source": [
    "class AutoEncoder2D(nn.Module):\n",
    "    def __init__(self, channels, J, latent_dim, latent_bits):\n",
    "        super().__init__()\n",
    "        self.J=J\n",
    "        self.latent_dim=latent_dim\n",
    "        self.latent_bits=latent_bits\n",
    "        self.wt = DWTForward(J=1, mode='periodization', wave='bior4.4')\n",
    "        self.wpt = WPT2D(wt=self.wt, J=J)\n",
    "        self.compandGN = CompandGN(\n",
    "            num_features=channels*(4**J),\n",
    "            num_groups=channels*(4**J),\n",
    "            compand_eps=0.1,\n",
    "            compand_pow=0.5,\n",
    "            rescale=5\n",
    "        )\n",
    "        self.conv_down = FactorizedConv2d(channels*(4**J), latent_dim, bias=False)\n",
    "        self.latent_quantize = Quantize(bits=latent_bits)\n",
    "        self.latent_clamp = torch.nn.Hardtanh(min_val=-1.0,max_val=1.0)\n",
    "        self.conv_up = nn.Conv2d(latent_dim, channels*(4**J), kernel_size=1, padding=0, bias=False)\n",
    "        self.vit =  EfficientVitStageNoDS(\n",
    "            in_chs = channels*(4**J),\n",
    "            out_chs = channels*(4**J),\n",
    "            depth = 6,\n",
    "            norm_layer=GroupNorm8,\n",
    "            act_layer=GELUTanh,\n",
    "        )\n",
    "        self.decompand = InvCompandGN(self.compandGN)\n",
    "        self.iwt =  DWTInverse(mode='periodization', wave='bior4.4')\n",
    "        self.iwpt = IWPT2D(iwt=self.iwt,J=J)\n",
    "        self.reconstruct_clamp = torch.nn.Hardtanh(min_val=-1.0,max_val=1.0)\n",
    "\n",
    "    def encode(self, x):\n",
    "        x = self.wpt(x)\n",
    "        x = self.compandGN(x)\n",
    "        x = self.conv_down(x)\n",
    "        x = self.latent_quantize(x)\n",
    "        x = self.latent_clamp(x)\n",
    "        x = self.latent_quantize.scale*x\n",
    "        return x\n",
    "\n",
    "    def decode(self, x):\n",
    "        x = x/self.latent_quantize.scale\n",
    "        x = self.conv_up(x)\n",
    "        x = self.vit(x)\n",
    "        x = self.decompand(x)\n",
    "        x = self.iwpt(x)\n",
    "        x = self.reconstruct_clamp(x)\n",
    "        return x\n",
    "        \n",
    "    def forward(self, x):\n",
    "        x = self.decode(self.encode(x))\n",
    "        return x"
   ]
  },
  {
   "cell_type": "code",
   "execution_count": 4,
   "id": "31802a5a-cddf-4ebd-9d87-2aca01836585",
   "metadata": {},
   "outputs": [],
   "source": [
    "config = SimpleNamespace()\n",
    "config.F = 32\n",
    "config.latent_dim = 48\n",
    "config.latent_bits = 8\n",
    "config.channels = 3\n",
    "config.max_lr = 1e-3\n",
    "config.min_lr = config.max_lr / 1e3\n",
    "config.lr_pow = 6\n",
    "config.img_size = 224\n",
    "config.batch_size = 64\n",
    "config.num_workers = 32\n",
    "config.epochs = 3\n",
    "config.total_steps = config.epochs * (dataset['train'].num_rows // config.batch_size)"
   ]
  },
  {
   "cell_type": "code",
   "execution_count": 5,
   "id": "efcd33e0-b5ba-46a5-a126-b7aa9b80178f",
   "metadata": {},
   "outputs": [
    {
     "name": "stdout",
     "output_type": "stream",
     "text": [
      "815.966208 M parameters\n"
     ]
    }
   ],
   "source": [
    "model = AutoEncoder2D(\n",
    "    channels=config.channels,\n",
    "    J = int(config.F**0.5),\n",
    "    latent_dim=config.latent_dim,\n",
    "    latent_bits=config.latent_bits\n",
    ").to(device)\n",
    "\n",
    "print(f\"{sum(p.numel() for p in model.parameters())/1e6} M parameters\")\n",
    "\n",
    "optimizer = Mars(model.parameters(), lr=1.0, caution=True)\n",
    "\n",
    "def rc_sched(i_step, config):\n",
    "    t = i_step / config.total_steps\n",
    "    return (config.max_lr - config.min_lr) * (1 - ((np.cos(np.pi*t))**(2*config.lr_pow))) + config.min_lr\n",
    "\n",
    "schedule = torch.optim.lr_scheduler.LambdaLR(\n",
    "    optimizer,\n",
    "    lr_lambda=lambda i_step: rc_sched(i_step, config)\n",
    ")"
   ]
  },
  {
   "cell_type": "code",
   "execution_count": 6,
   "id": "c923fce2-de6a-4fb2-844f-ac0a5913cb77",
   "metadata": {},
   "outputs": [],
   "source": [
    "def collate_fn(batch):\n",
    "    return torch.cat([\n",
    "        PILToTensor()(\n",
    "            RandomCrop(config.img_size)(sample['image'])\n",
    "        ).unsqueeze(0) for sample in batch\n",
    "    ]).to(torch.float)/127.5 - 1.0"
   ]
  },
  {
   "cell_type": "code",
   "execution_count": null,
   "id": "1fd35e91-63fe-4268-aac3-d1bf00b1c085",
   "metadata": {},
   "outputs": [
    {
     "data": {
      "text/html": [
       "\n",
       "<style>\n",
       "    /* Turns off some styling */\n",
       "    progress {\n",
       "        /* gets rid of default border in Firefox and Opera. */\n",
       "        border: none;\n",
       "        /* Needs to be in here for Safari polyfill so background images work as expected. */\n",
       "        background-size: auto;\n",
       "    }\n",
       "    progress:not([value]), progress:not([value])::-webkit-progress-bar {\n",
       "        background: repeating-linear-gradient(45deg, #7e7e7e, #7e7e7e 10px, #5c5c5c 10px, #5c5c5c 20px);\n",
       "    }\n",
       "    .progress-bar-interrupted, .progress-bar-interrupted::-webkit-progress-bar {\n",
       "        background: #F44336;\n",
       "    }\n",
       "</style>\n"
      ],
      "text/plain": [
       "<IPython.core.display.HTML object>"
      ]
     },
     "metadata": {},
     "output_type": "display_data"
    },
    {
     "data": {
      "text/html": [
       "\n",
       "    <div>\n",
       "      <progress value='0' class='' max='3' style='width:300px; height:20px; vertical-align: middle;'></progress>\n",
       "      0.00% [0/3 00:00&lt;?]\n",
       "    </div>\n",
       "    \n",
       "\n",
       "\n",
       "    <div>\n",
       "      <progress value='55' class='' max='1327' style='width:300px; height:20px; vertical-align: middle;'></progress>\n",
       "      4.14% [55/1327 00:38&lt;14:48 PSNR: 6.18, LR: 1.22e-05]\n",
       "    </div>\n",
       "    "
      ],
      "text/plain": [
       "<IPython.core.display.HTML object>"
      ]
     },
     "metadata": {},
     "output_type": "display_data"
    }
   ],
   "source": [
    "model.train()\n",
    "learning_rates = [optimizer.param_groups[0]['lr']]\n",
    "mb = master_bar(range(config.epochs))\n",
    "losses = []\n",
    "for i_epoch in mb:\n",
    "    model.train()\n",
    "    dataloader_train = torch.utils.data.DataLoader(\n",
    "            dataset['train'],\n",
    "            batch_size=config.batch_size,\n",
    "            num_workers=config.num_workers,\n",
    "            drop_last=True,\n",
    "            shuffle=True,\n",
    "            collate_fn=collate_fn\n",
    "        )\n",
    "    pb = progress_bar(dataloader_train, parent=mb)\n",
    "    for i_batch, x in enumerate(pb):\n",
    "        x = x.to(device)\n",
    "\n",
    "        x_hat = model(x)\n",
    "     \n",
    "        loss = torch.nn.functional.mse_loss(x, x_hat)\n",
    "        losses.append(loss.item())\n",
    "        loss.backward()\n",
    "        optimizer.step()\n",
    "        optimizer.zero_grad()\n",
    "        schedule.step()\n",
    "        learning_rates.append(optimizer.param_groups[0]['lr'])\n",
    "    \n",
    "        pb.comment = f\"PSNR: {-10*loss.log10().item()+6.02:.3g}, LR: {learning_rates[-1]:.3g}\""
   ]
  },
  {
   "cell_type": "code",
   "execution_count": 8,
   "id": "082e9000-a698-4d03-a9aa-5663f8512e1d",
   "metadata": {},
   "outputs": [
    {
     "data": {
      "text/html": [
       "\n",
       "    <div>\n",
       "      <progress value='48' class='' max='48' style='width:300px; height:20px; vertical-align: middle;'></progress>\n",
       "      100.00% [48/48 4:34:56&lt;00:00]\n",
       "    </div>\n",
       "    "
      ],
      "text/plain": [
       "<IPython.core.display.HTML object>"
      ]
     },
     "metadata": {},
     "output_type": "display_data"
    },
    {
     "data": {
      "text/html": [
       "\n",
       "    <div>\n",
       "      <progress value='1327' class='' max='1327' style='width:300px; height:20px; vertical-align: middle;'></progress>\n",
       "      100.00% [1327/1327 05:43&lt;00:00 PSNR: 31, LR: 1e-06]\n",
       "    </div>\n",
       "    "
      ],
      "text/plain": [
       "<IPython.core.display.HTML object>"
      ]
     },
     "metadata": {},
     "output_type": "display_data"
    },
    {
     "data": {
      "image/png": "[encoded data removed]",
      "text/plain": [
       "<Figure size 640x480 with 1 Axes>"
      ]
     },
     "metadata": {},
     "output_type": "display_data"
    }
   ],
   "source": [
    "display(HTML(mb.main_bar.progress))\n",
    "display(HTML(pb.progress))\n",
    "plt.plot(-10*np.log10(losses)+6.02)\n",
    "plt.yticks(range(20,36));\n",
    "plt.ylim([20,35])\n",
    "plt.grid()"
   ]
  },
  {
   "cell_type": "code",
   "execution_count": null,
   "id": "bcb1f01c-2e40-43df-a46d-c4c575e8802a",
   "metadata": {},
   "outputs": [],
   "source": [
    "from walloc.walloc import latent_to_pil, pil_to_latent\n",
    "model.eval()\n",
    "config.img_size=512\n",
    "img = CenterCrop(config.img_size)(dataset['validation'][28]['image'])\n",
    "x = PILToTensor()(img).to(device).unsqueeze(0).to(torch.float) / 127.5 - 1.0\n",
    "x_orig = x[0]\n",
    "orig_dim = x.numel()\n",
    "with torch.no_grad():\n",
    "    latent = (2**config.latent_bits/2 - 1)*model.encode(x)\n",
    "webp = latent_to_pil(latent.cpu(),n_bits=config.latent_bits, C=3)\n",
    "buff = io.BytesIO()\n",
    "webp[0].save(buff, format='WEBP', lossless=True)\n",
    "size_bytes = len(buff.getbuffer())\n",
    "print(f\"{size_bytes/1e3} KB\")\n",
    "print(f\"{orig_dim/size_bytes}x compression ratio\")\n",
    "print(f\"{orig_dim/latent.numel()}x dimension reduction\")\n",
    "latent_decoded = pil_to_latent(webp, N=config.latent_dim, n_bits=config.latent_bits, C=3).to(device)\n",
    "with torch.no_grad():\n",
    "    x_hat = model.decode(latent_decoded/(2**config.latent_bits/2 - 1))\n",
    "mse = torch.nn.functional.mse_loss(x,x_hat)\n",
    "PSNR = -10*mse.log10().item() + 6.02\n",
    "print(f\"{PSNR} dB PSNR\")\n",
    "\n",
    "display(webp[0])\n",
    "ToPILImage()(x_hat[0]/2+0.5)"
   ]
  },
  {
   "cell_type": "code",
   "execution_count": null,
   "id": "cd7862bc-0d72-411d-90c2-126861f18fb0",
   "metadata": {},
   "outputs": [],
   "source": [
    "plt.hist(np.array(webp[0]).flatten(),bins=256,range=(-0.5,255.5),width=0.9,density=True);\n",
    "plt.xlim([127-20,127+20])"
   ]
  },
  {
   "cell_type": "code",
   "execution_count": null,
   "id": "5ef7d5b5-3e02-48d5-a476-de2086f8d2fe",
   "metadata": {},
   "outputs": [],
   "source": [
    "channel_bits = [np.log2(latent[0,i].unique().numel()) for i in range(config.latent_channels)]\n",
    "plt.hist(channel_bits,bins=20);\n",
    "print(np.mean(channel_bits))"
   ]
  },
  {
   "cell_type": "code",
   "execution_count": null,
   "id": "7f3581a7-9022-4c0b-8b39-bc30245f6550",
   "metadata": {},
   "outputs": [],
   "source": [
    "img.crop((0,0,config.img_size,config.img_size)).save(\"test.jpg\",quality=80)\n",
    "jpeg = PIL.Image.open(\"test.jpg\")\n",
    "MSE = torch.nn.functional.mse_loss(PILToTensor()(jpeg).to(torch.float)/255, x_orig.to(\"cpu\")/2 + 0.5)\n",
    "print(f\"{-10*MSE.log10()} PSNR\")\n",
    "!du -sh test.jpg\n",
    "# display(jpeg)"
   ]
  }
 ],
 "metadata": {
  "kernelspec": {
   "display_name": "Python 3 (ipykernel)",
   "language": "python",
   "name": "python3"
  },
  "language_info": {
   "codemirror_mode": {
    "name": "ipython",
    "version": 3
   },
   "file_extension": ".py",
   "mimetype": "text/x-python",
   "name": "python",
   "nbconvert_exporter": "python",
   "pygments_lexer": "ipython3",
   "version": "3.10.12"
  }
 },
 "nbformat": 4,
 "nbformat_minor": 5
}
