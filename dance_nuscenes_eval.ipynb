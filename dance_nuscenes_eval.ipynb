{
 "cells": [
  {
   "cell_type": "code",
   "execution_count": 1,
   "id": "e3510095-2530-47e4-9be4-f7195bdc9d7c",
   "metadata": {},
   "outputs": [],
   "source": [
    "import io\n",
    "import torch\n",
    "import torch.nn as nn\n",
    "import PIL.Image\n",
    "import einops\n",
    "import matplotlib.pyplot as plt\n",
    "import numpy as np\n",
    "import datasets\n",
    "import math\n",
    "import random\n",
    "import av\n",
    "import time\n",
    "import os\n",
    "from IPython.display import HTML\n",
    "from types import SimpleNamespace\n",
    "from timm.optim import Mars\n",
    "from fastprogress import progress_bar, master_bar\n",
    "from torchvision.transforms.v2 import ToPILImage, PILToTensor, CenterCrop, RandomCrop\n",
    "from autocodec.codec import AutoCodecND, pil_to_latent, latent_to_pil"
   ]
  },
  {
   "cell_type": "code",
   "execution_count": 2,
   "id": "7b9dab96-10b8-4c95-b58c-14a305f1c7f5",
   "metadata": {},
   "outputs": [
    {
     "data": {
      "application/vnd.jupyter.widget-view+json": {
       "model_id": "38b6e394ff9842ceb621180cc2f5fab3",
       "version_major": 2,
       "version_minor": 0
      },
      "text/plain": [
       "Resolving data files:   0%|          | 0/20 [00:00<?, ?it/s]"
      ]
     },
     "metadata": {},
     "output_type": "display_data"
    },
    {
     "data": {
      "application/vnd.jupyter.widget-view+json": {
       "model_id": "1e5028e7a5e941378cb3fd17bc7b8555",
       "version_major": 2,
       "version_minor": 0
      },
      "text/plain": [
       "Resolving data files:   0%|          | 0/115 [00:00<?, ?it/s]"
      ]
     },
     "metadata": {},
     "output_type": "display_data"
    },
    {
     "data": {
      "application/vnd.jupyter.widget-view+json": {
       "model_id": "ad28870537314b778f0238467f0a02b4",
       "version_major": 2,
       "version_minor": 0
      },
      "text/plain": [
       "Resolving data files:   0%|          | 0/20 [00:00<?, ?it/s]"
      ]
     },
     "metadata": {},
     "output_type": "display_data"
    },
    {
     "data": {
      "application/vnd.jupyter.widget-view+json": {
       "model_id": "4537cfe0d10342d2886e654fb113df09",
       "version_major": 2,
       "version_minor": 0
      },
      "text/plain": [
       "Resolving data files:   0%|          | 0/115 [00:00<?, ?it/s]"
      ]
     },
     "metadata": {},
     "output_type": "display_data"
    },
    {
     "data": {
      "application/vnd.jupyter.widget-view+json": {
       "model_id": "ad334e531f1b4e14aa5705fa57fd3cf6",
       "version_major": 2,
       "version_minor": 0
      },
      "text/plain": [
       "Loading dataset shards:   0%|          | 0/74 [00:00<?, ?it/s]"
      ]
     },
     "metadata": {},
     "output_type": "display_data"
    }
   ],
   "source": [
    "dataset = datasets.load_dataset(\"danjacobellis/nuscenes_front\").cast_column('video', datasets.Video()).with_format(\"torch\")"
   ]
  },
  {
   "cell_type": "code",
   "execution_count": 3,
   "id": "31802a5a-cddf-4ebd-9d87-2aca01836585",
   "metadata": {},
   "outputs": [
    {
     "name": "stdout",
     "output_type": "stream",
     "text": [
      "[64, 72, 80, 88, 96, 112, 120, 136, 144, 160]\n"
     ]
    }
   ],
   "source": [
    "device = \"cuda\"\n",
    "config = SimpleNamespace()\n",
    "config.F = 8\n",
    "config.latent_dim = 96\n",
    "config.input_channels = 3\n",
    "config.lightweight_encode = True\n",
    "config.lightweight_decode = False\n",
    "config.encoder_depth = 6\n",
    "config.λ = 1e-2\n",
    "config.ema_decay = 0.999\n",
    "config.consistency_start = 0.05\n",
    "config.consistency_loss = 1.0\n",
    "config.max_lr = 1e-3\n",
    "config.min_lr = config.max_lr / 1e3\n",
    "config.lr_pow = 6\n",
    "config.n_frames=32\n",
    "config.progressive_sizes = [8*int(s) for s in np.linspace(2,2.75,10)**3]; print(config.progressive_sizes)\n",
    "config.batch_size = 4\n",
    "config.num_workers = 20\n",
    "config.epochs = 300\n",
    "config.total_steps = config.epochs * (dataset['train'].num_rows // config.batch_size)\n",
    "config.checkpoint = \"../hf/dance/LF_nuscenes_f8c96_v1.0.pth\""
   ]
  },
  {
   "cell_type": "code",
   "execution_count": 4,
   "id": "4b0114f6-08a4-4b7b-a910-be53bbc0e995",
   "metadata": {},
   "outputs": [
    {
     "name": "stdout",
     "output_type": "stream",
     "text": [
      "268.818528 M parameters\n"
     ]
    }
   ],
   "source": [
    "model = AutoCodecND(\n",
    "    dim=3,\n",
    "    input_channels=config.input_channels,\n",
    "    J = int(np.log2(config.F)),\n",
    "    latent_dim=config.latent_dim,\n",
    "    lightweight_encode = config.lightweight_encode,\n",
    "    lightweight_decode = config.lightweight_decode,\n",
    "    post_filter = False\n",
    ").to(device)\n",
    "\n",
    "if config.checkpoint:\n",
    "    checkpoint = torch.load(config.checkpoint,weights_only=False)\n",
    "    model.load_state_dict(checkpoint['state_dict'])\n",
    "\n",
    "print(f\"{sum(p.numel() for p in model.parameters())/1e6} M parameters\")"
   ]
  },
  {
   "cell_type": "code",
   "execution_count": 5,
   "id": "5f943008-ea34-4474-90ac-295993a981d1",
   "metadata": {},
   "outputs": [],
   "source": [
    "def collate_fn(batch,epoch):\n",
    "    n_frames = config.n_frames\n",
    "    h = get_epoch_size(epoch)\n",
    "    w = get_epoch_size(epoch)\n",
    "    batch_tensors = []\n",
    "    for sample in batch:\n",
    "        video = sample['video']\n",
    "        len_video = len(video)\n",
    "        start = random.randint(0, len_video - n_frames)\n",
    "        indices = range(start, start + n_frames)\n",
    "        frames = video.get_batch(indices)\n",
    "        H, W = frames.shape[1], frames.shape[2]\n",
    "        i = random.randint(0, H - h)\n",
    "        j = random.randint(0, W - w)\n",
    "        frames_cropped = frames[:, i:i+h, j:j+w, :]\n",
    "        frames_cropped = frames_cropped.permute(3, 0, 1, 2)\n",
    "        batch_tensors.append(frames_cropped)\n",
    "    return torch.stack(batch_tensors, dim=0).to(torch.float)/127.5 - 1.0"
   ]
  },
  {
   "cell_type": "code",
   "execution_count": 19,
   "id": "d7c62b49-b7c0-48e4-9877-b82930500339",
   "metadata": {},
   "outputs": [],
   "source": [
    "from IPython.display import display, clear_output\n",
    "from ipywidgets import interact\n",
    "\n",
    "model.eval()\n",
    "config.n_frames=256\n",
    "def get_epoch_size(epoch):\n",
    "    return 256\n",
    "x = collate_fn(dataset['validation'].select([1]),0).to(device)\n",
    "orig_dim = x.numel()\n",
    "\n",
    "with torch.no_grad():\n",
    "    z = model.encode(x)\n",
    "    latent = model.quantize.compand(z).round().to(torch.int16) + 128\n",
    "    x = latent.cpu().to(torch.uint8).numpy()[0]\n",
    "# latent = einops.rearrange(latent, 'b c d h w -> b (c d) h w').cpu()\n",
    "\n",
    "# webp = latent_to_pil(latent, n_bits=8, C=3)\n",
    "# # display(webp[0])\n",
    "# buff = io.BytesIO()\n",
    "# webp[0].save(buff, format='WEBP', lossless=True)\n",
    "# size_bytes = len(buff.getbuffer())\n",
    "\n",
    "# print(f\"Compressed size: {size_bytes / 1e3:.2f} KB\")\n",
    "# print(f\"Compression ratio: {orig_dim / size_bytes:.2f}x\")\n",
    "# print(f\"Dimension reduction: {orig_dim / latent.numel():.2f}x\")\n",
    "\n",
    "# latent_decoded = pil_to_latent(webp, N=latent.shape[1], n_bits=8, C=3)\n",
    "# latent_decoded = einops.rearrange(latent_decoded, 'b (c d) h w -> b c d h w', d=32).to(device)\n",
    "\n",
    "# with torch.no_grad():\n",
    "#     x_hat = model.decode(latent_decoded).clamp(-1, 1)\n",
    "\n",
    "# mse = torch.nn.functional.mse_loss(x, x_hat)\n",
    "# PSNR = -10 * mse.log10().item() + 6.02\n",
    "\n",
    "# print(f\"PSNR: {PSNR:.2f} dB\")\n",
    "\n",
    "# original_volume = x[0].cpu().numpy()\n",
    "# reconstructed_volume = x_hat[0].cpu().numpy()\n",
    "\n",
    "# def show_slices(slice_idx):\n",
    "#     clear_output(wait=True)\n",
    "#     orig_slice = ToPILImage()(einops.rearrange(original_volume[:,slice_idx],'c h w -> h w c')/2+0.5)\n",
    "#     recon_slice = ToPILImage()(einops.rearrange(reconstructed_volume[:,slice_idx],'c h w -> h w c')/2+0.5)\n",
    "#     display(orig_slice)\n",
    "#     display(recon_slice)\n",
    "\n",
    "# interact(show_slices, slice_idx=(0, original_volume.shape[1]-1, 1));"
   ]
  },
  {
   "cell_type": "code",
   "execution_count": 32,
   "id": "ec66c8be-c895-46a2-9958-83cf6be0aea3",
   "metadata": {},
   "outputs": [
    {
     "name": "stderr",
     "output_type": "stream",
     "text": [
      "x265 [info]: frame I:      1, Avg QP:4.00  kb/s: 336.70  \n",
      "x265 [info]: frame P:      7, Avg QP:4.00  kb/s: 359.32  \n",
      "x265 [info]: frame B:     24, Avg QP:4.00  kb/s: 363.05  \n",
      "x265 [info]: Weighted P-Frames: Y:0.0% UV:0.0%\n",
      "x265 [info]: consecutive B-frames: 12.5% 0.0% 12.5% 25.0% 50.0% \n",
      "x265 [info]: lossless compression ratio 2.27::1\n",
      "\n",
      "encoded 32 frames in 21.67s (1.48 fps), 361.41 kb/s, Avg QP:4.00\n",
      "x265 [info]: HEVC encoder version 3.5+1-f0c1022b6\n",
      "x265 [info]: build info [Linux][GCC 10.2.1][64 bit] 8bit+10bit+12bit\n",
      "x265 [info]: using cpu capabilities: MMX2 SSE2Fast LZCNT SSSE3 SSE4.2 AVX FMA3 BMI2 AVX2\n",
      "x265 [info]: Unknown profile, Level-8.5 (Main tier)\n",
      "x265 [info]: Thread pool created using 32 threads\n",
      "x265 [info]: Slices                              : 1\n",
      "x265 [info]: frame threads / pool features       : 5 / wpp(5 rows)\n",
      "x265 [warning]: Source height < 720p; disabling lookahead-slices\n",
      "x265 [info]: Coding QT: max CU size, min CU size : 64 / 8\n",
      "x265 [info]: Residual QT: max TU size, max depth : 32 / 1 inter / 1 intra\n",
      "x265 [info]: ME / range / subpel / merge         : hex / 57 / 2 / 3\n",
      "x265 [info]: Keyframe min / max / scenecut / bias  : 1 / 250 / 40 / 5.00 \n",
      "x265 [info]: Lookahead / bframes / badapt        : 20 / 4 / 2\n",
      "x265 [info]: b-pyramid / weightp / weightb       : 1 / 1 / 0\n",
      "x265 [info]: References / ref-limit  cu / depth  : 3 / off / on\n",
      "x265 [info]: Rate Control                        : Lossless\n",
      "x265 [info]: tools: rd=3 psy-rd=2.00 early-skip rskip mode=1 signhide tmvp\n",
      "x265 [info]: tools: b-intra strong-intra-smoothing deblock sao\n",
      "x265 [info]: frame I:      1, Avg QP:4.00  kb/s: 336.70  \n",
      "x265 [info]: frame P:      7, Avg QP:4.00  kb/s: 359.32  \n",
      "x265 [info]: frame B:     24, Avg QP:4.00  kb/s: 363.05  \n",
      "x265 [info]: Weighted P-Frames: Y:0.0% UV:0.0%\n",
      "x265 [info]: consecutive B-frames: 12.5% 0.0% 12.5% 25.0% 50.0% \n",
      "x265 [info]: lossless compression ratio 2.27::1\n",
      "\n",
      "encoded 32 frames in 0.21s (152.58 fps), 361.41 kb/s, Avg QP:4.00\n",
      "x265 [info]: HEVC encoder version 3.5+1-f0c1022b6\n",
      "x265 [info]: build info [Linux][GCC 10.2.1][64 bit] 8bit+10bit+12bit\n",
      "x265 [info]: using cpu capabilities: MMX2 SSE2Fast LZCNT SSSE3 SSE4.2 AVX FMA3 BMI2 AVX2\n",
      "x265 [warning]: halving the quality when psy-rd is enabled for 444 input. Setting cbQpOffset = 6 and crQpOffset = 6\n",
      "x265 [info]: Main 4:4:4 profile, Level-8.5 (Main tier)\n",
      "x265 [info]: Thread pool created using 32 threads\n",
      "x265 [info]: Slices                              : 1\n",
      "x265 [info]: frame threads / pool features       : 5 / wpp(3 rows)\n",
      "x265 [warning]: Source height < 720p; disabling lookahead-slices\n",
      "x265 [info]: Coding QT: max CU size, min CU size : 64 / 8\n",
      "x265 [info]: Residual QT: max TU size, max depth : 32 / 1 inter / 1 intra\n",
      "x265 [info]: ME / range / subpel / merge         : hex / 57 / 2 / 3\n",
      "x265 [info]: Keyframe min / max / scenecut / bias  : 1 / 250 / 40 / 5.00 \n",
      "x265 [info]: Cb/Cr QP Offset                     : 6 / 6\n",
      "x265 [info]: Lookahead / bframes / badapt        : 20 / 4 / 2\n",
      "x265 [info]: b-pyramid / weightp / weightb       : 1 / 1 / 0\n",
      "x265 [info]: References / ref-limit  cu / depth  : 3 / off / on\n",
      "x265 [info]: Rate Control                        : Lossless\n",
      "x265 [info]: tools: rd=3 psy-rd=2.00 early-skip rskip mode=1 signhide tmvp\n",
      "x265 [info]: tools: b-intra strong-intra-smoothing deblock sao\n",
      "x265 [info]: frame I:      1, Avg QP:4.00  kb/s: 340.23  \n",
      "x265 [info]: frame P:      7, Avg QP:4.00  kb/s: 363.93  \n",
      "x265 [info]: frame B:     24, Avg QP:4.00  kb/s: 366.10  \n",
      "x265 [info]: Weighted P-Frames: Y:0.0% UV:0.0%\n",
      "x265 [info]: consecutive B-frames: 12.5% 0.0% 0.0% 50.0% 37.5% \n",
      "x265 [info]: lossless compression ratio 0.81::1\n",
      "\n",
      "encoded 32 frames in 0.31s (102.11 fps), 364.82 kb/s, Avg QP:4.00\n"
     ]
    },
    {
     "name": "stdout",
     "output_type": "stream",
     "text": [
      "grayscale_ffv1: Time = 0.04s, Size = 1.33MB\n",
      "grayscale_h264: Time = 0.18s, Size = 1.35MB\n",
      "grayscale_hevc: Time = 0.22s, Size = 1.38MB\n",
      "3ch_ffv1: Time = 0.04s, Size = 1.34MB\n",
      "3ch_h264: Time = 0.20s, Size = 1.37MB\n",
      "3ch_hevc: Time = 0.32s, Size = 1.39MB\n",
      "3ch_vp9: Time = 1.55s, Size = 1.33MB\n",
      "4ch_ffv1: Time = 0.03s, Size = 1.35MB\n"
     ]
    }
   ],
   "source": [
    "def tile_grayscale(x, f):\n",
    "    channels = x[:, f, :, :]  # (96, 32, 32)\n",
    "    frame = np.zeros((320, 320), dtype=np.uint8)  # Single 2D array\n",
    "    for i in range(10):\n",
    "        for j in range(10):\n",
    "            idx = i * 10 + j\n",
    "            if idx < 96:\n",
    "                frame[i*32:(i+1)*32, j*32:(j+1)*32] = channels[idx]\n",
    "    return frame\n",
    "\n",
    "def tile_3ch(x, f):\n",
    "    channels = x[:, f, :, :]  # (96, 32, 32)\n",
    "    groups = channels.reshape(32, 3, 32, 32)  # (32, 3, 32, 32)\n",
    "    y_plane = np.zeros((192, 192), dtype=np.uint8)\n",
    "    u_plane = np.zeros((192, 192), dtype=np.uint8)\n",
    "    v_plane = np.zeros((192, 192), dtype=np.uint8)\n",
    "    for i in range(6):\n",
    "        for j in range(6):\n",
    "            idx = i * 6 + j\n",
    "            if idx < 32:\n",
    "                y_plane[i*32:(i+1)*32, j*32:(j+1)*32] = groups[idx, 0, :, :]\n",
    "                u_plane[i*32:(i+1)*32, j*32:(j+1)*32] = groups[idx, 1, :, :]\n",
    "                v_plane[i*32:(i+1)*32, j*32:(j+1)*32] = groups[idx, 2, :, :]\n",
    "    return [y_plane, u_plane, v_plane]\n",
    "\n",
    "def tile_4ch(x, f):\n",
    "    channels = x[:, f, :, :]  # (96, 32, 32)\n",
    "    groups = channels.reshape(24, 4, 32, 32)  # (24, 4, 32, 32)\n",
    "    y_plane = np.zeros((160, 160), dtype=np.uint8)\n",
    "    u_plane = np.zeros((160, 160), dtype=np.uint8)\n",
    "    v_plane = np.zeros((160, 160), dtype=np.uint8)\n",
    "    a_plane = np.zeros((160, 160), dtype=np.uint8)\n",
    "    for i in range(5):\n",
    "        for j in range(5):\n",
    "            idx = i * 5 + j\n",
    "            if idx < 24:\n",
    "                y_plane[i*32:(i+1)*32, j*32:(j+1)*32] = groups[idx, 0, :, :]\n",
    "                u_plane[i*32:(i+1)*32, j*32:(j+1)*32] = groups[idx, 1, :, :]\n",
    "                v_plane[i*32:(i+1)*32, j*32:(j+1)*32] = groups[idx, 2, :, :]\n",
    "                a_plane[i*32:(i+1)*32, j*32:(j+1)*32] = groups[idx, 3, :, :]\n",
    "    return [y_plane, u_plane, v_plane, a_plane]\n",
    "\n",
    "# Codec settings\n",
    "codecs = {\n",
    "    'ffv1': {'codec': 'ffv1', 'options': {'level': '3', 'coder': '1'}},\n",
    "    'h264': {'codec': 'libx264', 'options': {'qp': '0', 'preset': 'veryslow'}},\n",
    "    'hevc': {'codec': 'libx265', 'options': {'x265-params': 'lossless=1'}},\n",
    "    'vp9': {'codec': 'vp9', 'options': {'lossless': '1'}}\n",
    "}\n",
    "\n",
    "# Processing options\n",
    "options = {\n",
    "    'grayscale': {'tile_func': tile_grayscale, 'width': 320, 'height': 320, 'pix_fmt': 'gray8'},\n",
    "    '3ch': {'tile_func': tile_3ch, 'width': 192, 'height': 192, 'pix_fmt': 'yuv444p'},\n",
    "    '4ch': {'tile_func': tile_4ch, 'width': 160, 'height': 160, 'pix_fmt': 'yuva444p'}\n",
    "}\n",
    "\n",
    "# Encode and measure\n",
    "results = {}\n",
    "for opt_name, opt in options.items():\n",
    "    for codec_name, codec in codecs.items():\n",
    "        # Skip unsupported combinations\n",
    "        if opt_name == 'grayscale' and codec_name == 'vp9':\n",
    "            continue\n",
    "        if opt_name == '4ch' and codec_name == 'h264':\n",
    "            continue\n",
    "        if opt_name == '4ch' and codec_name == 'hevc':\n",
    "            continue\n",
    "        if opt_name == '4ch' and codec_name == 'vp9':\n",
    "            continue\n",
    "        \n",
    "        filename = f\"{opt_name}_{codec_name}.mkv\"\n",
    "        start_time = time.time()\n",
    "        \n",
    "        with av.open(filename, 'w') as container:\n",
    "            stream = container.add_stream(codec['codec'], rate=1)\n",
    "            stream.width = opt['width']\n",
    "            stream.height = opt['height']\n",
    "            stream.pix_fmt = opt['pix_fmt']\n",
    "            stream.options = codec['options']\n",
    "            \n",
    "            for f in range(32):\n",
    "                frame_data = opt['tile_func'](x, f)\n",
    "                if opt['pix_fmt'] == 'gray8':\n",
    "                    # Single 2D array for grayscale\n",
    "                    frame = av.VideoFrame.from_ndarray(frame_data, format=opt['pix_fmt'])\n",
    "                else:\n",
    "                    # Planar format: create empty frame and copy planes\n",
    "                    frame = av.VideoFrame(opt['width'], opt['height'], opt['pix_fmt'])\n",
    "                    for i, plane_data in enumerate(frame_data):\n",
    "                        frame.planes[i].update(plane_data)\n",
    "                \n",
    "                packet = stream.encode(frame)\n",
    "                container.mux(packet)\n",
    "            \n",
    "            # Flush encoder\n",
    "            packet = stream.encode(None)\n",
    "            container.mux(packet)\n",
    "        \n",
    "        encoding_time = time.time() - start_time\n",
    "        file_size = os.path.getsize(filename) / (1024 * 1024)  # MB\n",
    "        results[f\"{opt_name}_{codec_name}\"] = {'time (s)': encoding_time, 'size (MB)': file_size}\n",
    "\n",
    "# Print results\n",
    "for key, value in results.items():\n",
    "    print(f\"{key}: Time = {value['time (s)']:.2f}s, Size = {value['size (MB)']:.2f}MB\")"
   ]
  }
 ],
 "metadata": {
  "kernelspec": {
   "display_name": "Python 3 (ipykernel)",
   "language": "python",
   "name": "python3"
  },
  "language_info": {
   "codemirror_mode": {
    "name": "ipython",
    "version": 3
   },
   "file_extension": ".py",
   "mimetype": "text/x-python",
   "name": "python",
   "nbconvert_exporter": "python",
   "pygments_lexer": "ipython3",
   "version": "3.10.12"
  }
 },
 "nbformat": 4,
 "nbformat_minor": 5
}
