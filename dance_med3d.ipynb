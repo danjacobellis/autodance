{
 "cells": [
  {
   "cell_type": "code",
   "execution_count": 1,
   "id": "e3510095-2530-47e4-9be4-f7195bdc9d7c",
   "metadata": {},
   "outputs": [],
   "source": [
    "import io\n",
    "import torch\n",
    "import torch.nn as nn\n",
    "import PIL.Image\n",
    "import einops\n",
    "import matplotlib.pyplot as plt\n",
    "import numpy as np\n",
    "import datasets\n",
    "import math\n",
    "from IPython.display import HTML\n",
    "from types import SimpleNamespace\n",
    "from timm.optim import Mars\n",
    "from fastprogress import progress_bar, master_bar\n",
    "from torchvision.transforms.v2 import ToPILImage, PILToTensor, CenterCrop, RandomCrop\n",
    "from codec import AutoEncoderND\n",
    "from tft.wavelet import WPT3D, IWPT3D\n",
    "from tft.utils import compand, decompand\n",
    "from tft.transforms import RandomCrop3D"
   ]
  },
  {
   "cell_type": "code",
   "execution_count": 2,
   "id": "7b9dab96-10b8-4c95-b58c-14a305f1c7f5",
   "metadata": {},
   "outputs": [],
   "source": [
    "medmnist_types = ['organ', 'adrenal', 'fracture', 'nodule', 'synapse', 'vessel']\n",
    "dataset_train = datasets.concatenate_datasets([datasets.load_dataset(f\"danjacobellis/{type}mnist3d_64\", split='train') for type in medmnist_types])\n",
    "dataset_valid = datasets.concatenate_datasets([datasets.load_dataset(f\"danjacobellis/{type}mnist3d_64\", split='validation') for type in medmnist_types])"
   ]
  },
  {
   "cell_type": "code",
   "execution_count": 3,
   "id": "31802a5a-cddf-4ebd-9d87-2aca01836585",
   "metadata": {},
   "outputs": [],
   "source": [
    "device = \"cuda\"\n",
    "config = SimpleNamespace()\n",
    "config.F = 8\n",
    "config.latent_dim = 32\n",
    "config.input_channels = 1\n",
    "config.encoder_depth = 6\n",
    "config.λ = 1e-2\n",
    "config.max_lr = 1e-3\n",
    "config.min_lr = config.max_lr / 1e3\n",
    "config.lr_pow = 6\n",
    "config.vol_size = 56\n",
    "config.batch_size = 64\n",
    "config.num_workers = 32\n",
    "config.epochs = 600\n",
    "config.total_steps = config.epochs * (dataset_train.num_rows // config.batch_size)\n",
    "config.checkpoint = None"
   ]
  },
  {
   "cell_type": "code",
   "execution_count": 4,
   "id": "4b0114f6-08a4-4b7b-a910-be53bbc0e995",
   "metadata": {},
   "outputs": [
    {
     "name": "stdout",
     "output_type": "stream",
     "text": [
      "33.887232 M parameters\n"
     ]
    }
   ],
   "source": [
    "model = AutoEncoderND(\n",
    "    dim=3,\n",
    "    input_channels=config.input_channels,\n",
    "    J = int(np.log2(config.F)),\n",
    "    latent_dim=config.latent_dim,\n",
    "    num_res_blocks=config.encoder_depth\n",
    ").to(device)\n",
    "\n",
    "if config.checkpoint:\n",
    "    checkpoint = torch.load(config.checkpoint,weights_only=False)\n",
    "    model.load_state_dict(checkpoint['state_dict'])\n",
    "\n",
    "print(f\"{sum(p.numel() for p in model.parameters())/1e6} M parameters\")\n",
    "\n",
    "optimizer = Mars(model.parameters(), lr=1.0, caution=True)\n",
    "\n",
    "def rc_sched(i_step, config):\n",
    "    t = i_step / config.total_steps\n",
    "    return (config.max_lr - config.min_lr) * (1 - ((np.cos(np.pi*t))**(2*config.lr_pow))) + config.min_lr\n",
    "\n",
    "schedule = torch.optim.lr_scheduler.LambdaLR(\n",
    "    optimizer,\n",
    "    lr_lambda=lambda i_step: rc_sched(i_step, config)\n",
    ")"
   ]
  },
  {
   "cell_type": "code",
   "execution_count": 5,
   "id": "5f943008-ea34-4474-90ac-295993a981d1",
   "metadata": {},
   "outputs": [],
   "source": [
    "rand_crop = RandomCrop3D(config.vol_size)\n",
    "def pil_to_grid3d(img):\n",
    "    x = torch.tensor(np.array(img))\n",
    "    x = einops.rearrange(x, '(a y) (b z) c -> (a b c) y z', a=4, b=4, c=4)\n",
    "    return x\n",
    "def collate_fn(batch):\n",
    "    return torch.cat([\n",
    "        rand_crop(pil_to_grid3d(sample['image']).unsqueeze(0).unsqueeze(0)) for sample in batch\n",
    "    ]).to(torch.float)/127.5 - 1.0"
   ]
  },
  {
   "cell_type": "code",
   "execution_count": 6,
   "id": "4a5e5228-d6e0-4ce9-94fe-7631a7953e6c",
   "metadata": {},
   "outputs": [
    {
     "data": {
      "text/html": [
       "\n",
       "<style>\n",
       "    /* Turns off some styling */\n",
       "    progress {\n",
       "        /* gets rid of default border in Firefox and Opera. */\n",
       "        border: none;\n",
       "        /* Needs to be in here for Safari polyfill so background images work as expected. */\n",
       "        background-size: auto;\n",
       "    }\n",
       "    progress:not([value]), progress:not([value])::-webkit-progress-bar {\n",
       "        background: repeating-linear-gradient(45deg, #7e7e7e, #7e7e7e 10px, #5c5c5c 10px, #5c5c5c 20px);\n",
       "    }\n",
       "    .progress-bar-interrupted, .progress-bar-interrupted::-webkit-progress-bar {\n",
       "        background: #F44336;\n",
       "    }\n",
       "</style>\n"
      ],
      "text/plain": [
       "<IPython.core.display.HTML object>"
      ]
     },
     "metadata": {},
     "output_type": "display_data"
    },
    {
     "data": {
      "text/html": [],
      "text/plain": [
       "<IPython.core.display.HTML object>"
      ]
     },
     "metadata": {},
     "output_type": "display_data"
    }
   ],
   "source": [
    "learning_rates = [optimizer.param_groups[0]['lr']]\n",
    "mb = master_bar(range(config.epochs))\n",
    "losses = []\n",
    "rate_losses = []\n",
    "model.train()\n",
    "for i_epoch in mb:\n",
    "    model.train()\n",
    "    dataloader_train = torch.utils.data.DataLoader(\n",
    "            dataset_train,\n",
    "            batch_size=config.batch_size,\n",
    "            num_workers=config.num_workers,\n",
    "            drop_last=True,\n",
    "            shuffle=True,\n",
    "            collate_fn=collate_fn\n",
    "        )\n",
    "    pb = progress_bar(dataloader_train, parent=mb)\n",
    "    for i_batch, x in enumerate(pb):\n",
    "        x = x.to(device)\n",
    "\n",
    "        x_hat, rate = model(x)\n",
    "        rate_losses.append(rate.item())\n",
    "        loss = torch.nn.functional.mse_loss(x, x_hat).log10()\n",
    "        losses.append(loss.item())\n",
    "        loss+= config.λ * rate\n",
    "        \n",
    "        loss.backward()\n",
    "        optimizer.step()\n",
    "        optimizer.zero_grad()\n",
    "        schedule.step()\n",
    "        learning_rates.append(optimizer.param_groups[0]['lr'])\n",
    "    \n",
    "        pb.comment = f\"PSNR: {-10*losses[-1]+6.02:.3g}, R: {rate_losses[-1]:.2g}, LR: {learning_rates[-1]:.2g}\""
   ]
  },
  {
   "cell_type": "code",
   "execution_count": 7,
   "id": "609e63e0-736e-4466-94fb-0e6a3ad576ab",
   "metadata": {},
   "outputs": [
    {
     "data": {
      "text/html": [
       "\n",
       "    <div>\n",
       "      <progress value='600' class='' max='600' style='width:300px; height:20px; vertical-align: middle;'></progress>\n",
       "      100.00% [600/600 8:09:19&lt;00:00]\n",
       "    </div>\n",
       "    "
      ],
      "text/plain": [
       "<IPython.core.display.HTML object>"
      ]
     },
     "metadata": {},
     "output_type": "display_data"
    },
    {
     "data": {
      "text/html": [
       "\n",
       "    <div>\n",
       "      <progress value='107' class='' max='107' style='width:300px; height:20px; vertical-align: middle;'></progress>\n",
       "      100.00% [107/107 00:48&lt;00:00 PSNR: 25.8, R: 1.8, LR: 1e-06]\n",
       "    </div>\n",
       "    "
      ],
      "text/plain": [
       "<IPython.core.display.HTML object>"
      ]
     },
     "metadata": {},
     "output_type": "display_data"
    },
    {
     "data": {
      "image/png": "[encoded data removed]",
      "text/plain": [
       "<Figure size 640x480 with 2 Axes>"
      ]
     },
     "metadata": {},
     "output_type": "display_data"
    }
   ],
   "source": [
    "display(HTML(mb.main_bar.progress))\n",
    "display(HTML(pb.progress))\n",
    "fig, ax1 = plt.subplots()\n",
    "ax1.plot(-10*np.array(losses)+6.02)\n",
    "ax1.set_yticks(range(15,36))\n",
    "ax1.set_ylim([15,35])\n",
    "ax1.grid(True)\n",
    "ax1.tick_params(axis='y', labelcolor='blue')\n",
    "ax2 = ax1.twinx()\n",
    "ax2.plot(-10*np.array(rate_losses), color='red', alpha=0.5)\n",
    "ax2.tick_params(axis='y', labelcolor='red')\n",
    "plt.show()"
   ]
  },
  {
   "cell_type": "code",
   "execution_count": 8,
   "id": "95c3db23-0451-4d51-9558-b93bfb088cb8",
   "metadata": {},
   "outputs": [],
   "source": [
    "torch.save({\n",
    "    'config': config,\n",
    "    'state_dict': model.state_dict()\n",
    "}, '../hf/dance/dance_v0.2_m3d_f8c32.pth')"
   ]
  },
  {
   "cell_type": "code",
   "execution_count": 9,
   "id": "d7c62b49-b7c0-48e4-9877-b82930500339",
   "metadata": {},
   "outputs": [
    {
     "data": {
      "image/jpeg": "[encoded data removed]",
      "text/plain": [
       "<PIL.Image.Image image mode=CMYK size=64x64>"
      ]
     },
     "metadata": {},
     "output_type": "display_data"
    },
    {
     "name": "stdout",
     "output_type": "stream",
     "text": [
      "Compressed size: 5.70 KB\n",
      "Compression ratio: 45.96x\n",
      "Dimension reduction: 16.00x\n",
      "PSNR: 22.73 dB\n"
     ]
    },
    {
     "data": {
      "application/vnd.jupyter.widget-view+json": {
       "model_id": "11ce221dc1e7466bb6ad7d3841491638",
       "version_major": 2,
       "version_minor": 0
      },
      "text/plain": [
       "interactive(children=(IntSlider(value=31, description='slice_idx', max=63), Output()), _dom_classes=('widget-i…"
      ]
     },
     "metadata": {},
     "output_type": "display_data"
    }
   ],
   "source": [
    "from walloc import walloc\n",
    "from IPython.display import display, clear_output\n",
    "from ipywidgets import interact\n",
    "\n",
    "model.eval()\n",
    "sample = dataset_valid[0]\n",
    "x = pil_to_grid3d(sample['image']).unsqueeze(0).unsqueeze(0).to(device).to(torch.float) / 127.5 - 1.0\n",
    "orig_dim = x.numel()\n",
    "\n",
    "with torch.no_grad():\n",
    "    latent = model.encode(x).clamp(-127.49, 127.49).round()\n",
    "latent = einops.rearrange(latent, 'b c d h w -> b (c d) h w').cpu()\n",
    "\n",
    "webp = walloc.latent_to_pil(latent, n_bits=8, C=4)\n",
    "display(webp[0])\n",
    "buff = io.BytesIO()\n",
    "webp[0].save(buff, format='WEBP', lossless=True)\n",
    "size_bytes = len(buff.getbuffer())\n",
    "\n",
    "print(f\"Compressed size: {size_bytes / 1e3:.2f} KB\")\n",
    "print(f\"Compression ratio: {orig_dim / size_bytes:.2f}x\")\n",
    "print(f\"Dimension reduction: {orig_dim / latent.numel():.2f}x\")\n",
    "\n",
    "latent_decoded = walloc.pil_to_latent(webp, N=256, n_bits=8, C=4)\n",
    "latent_decoded = einops.rearrange(latent_decoded, 'b (c d) h w -> b c d h w', d=8).to(device)\n",
    "\n",
    "with torch.no_grad():\n",
    "    x_hat = model.decode(latent_decoded).clamp(-1, 1)\n",
    "\n",
    "mse = torch.nn.functional.mse_loss(x, x_hat)\n",
    "PSNR = -10 * mse.log10().item() + 6.02\n",
    "\n",
    "print(f\"PSNR: {PSNR:.2f} dB\")\n",
    "\n",
    "original_volume = x[0,0].cpu().numpy()\n",
    "reconstructed_volume = x_hat[0,0].cpu().numpy()\n",
    "\n",
    "def show_slices(slice_idx):\n",
    "    clear_output(wait=True)\n",
    "    orig_slice = ToPILImage()(original_volume[slice_idx]/2+0.5).resize((256,256), resample=PIL.Image.Resampling.LANCZOS)\n",
    "    recon_slice = ToPILImage()(reconstructed_volume[slice_idx]/2+0.5).resize((256,256), resample=PIL.Image.Resampling.LANCZOS)\n",
    "    display(orig_slice)\n",
    "    display(recon_slice)\n",
    "\n",
    "interact(show_slices, slice_idx=(0, original_volume.shape[0]-1, 1));"
   ]
  },
  {
   "cell_type": "code",
   "execution_count": 10,
   "id": "a71ec44a-1d8b-41cc-9d0e-01a331cdf081",
   "metadata": {},
   "outputs": [
    {
     "name": "stdout",
     "output_type": "stream",
     "text": [
      "bpc: 4.156044630450958, cr: 30.798514304239117\n"
     ]
    },
    {
     "data": {
      "image/png": "[encoded data removed]",
      "text/plain": [
       "<Figure size 640x480 with 1 Axes>"
      ]
     },
     "metadata": {},
     "output_type": "display_data"
    }
   ],
   "source": [
    "from torch.distributions import Categorical\n",
    "x_int8 = torch.tensor(np.array(webp[0]))\n",
    "h = plt.hist(x_int8.flatten(),range=(-0.5,255.5),bins=256,width=0.8,density=True)\n",
    "bpc = np.log2(np.exp(1))*Categorical(torch.tensor(h[0])).entropy()\n",
    "plt.xlim([110,143])\n",
    "print(f\"bpc: {bpc.item()}, cr: {orig_dim/latent.numel()*(8/bpc.item())}\")"
   ]
  }
 ],
 "metadata": {
  "kernelspec": {
   "display_name": "Python 3 (ipykernel)",
   "language": "python",
   "name": "python3"
  },
  "language_info": {
   "codemirror_mode": {
    "name": "ipython",
    "version": 3
   },
   "file_extension": ".py",
   "mimetype": "text/x-python",
   "name": "python",
   "nbconvert_exporter": "python",
   "pygments_lexer": "ipython3",
   "version": "3.10.12"
  }
 },
 "nbformat": 4,
 "nbformat_minor": 5
}
