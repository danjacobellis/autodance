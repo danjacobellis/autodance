{
 "cells": [
  {
   "cell_type": "code",
   "execution_count": 1,
   "id": "e3510095-2530-47e4-9be4-f7195bdc9d7c",
   "metadata": {},
   "outputs": [],
   "source": [
    "import io\n",
    "import torch\n",
    "import torch.nn as nn\n",
    "import PIL.Image\n",
    "import einops\n",
    "import matplotlib.pyplot as plt\n",
    "import numpy as np\n",
    "import datasets\n",
    "import math\n",
    "from IPython.display import HTML\n",
    "from types import SimpleNamespace\n",
    "from timm.optim import Mars\n",
    "from fastprogress import progress_bar, master_bar\n",
    "from torchvision.transforms.v2 import ToPILImage, PILToTensor, CenterCrop, RandomCrop\n",
    "from codec import AutoEncoderND\n",
    "from tft.wavelet import WPT3D, IWPT3D\n",
    "from tft.utils import compand, decompand\n",
    "from tft.transforms import RandomCrop3D"
   ]
  },
  {
   "cell_type": "code",
   "execution_count": null,
   "id": "7b9dab96-10b8-4c95-b58c-14a305f1c7f5",
   "metadata": {},
   "outputs": [],
   "source": [
    "medmnist_types = ['organ', 'adrenal', 'fracture', 'nodule', 'synapse', 'vessel']\n",
    "dataset_train = datasets.concatenate_datasets([datasets.load_dataset(f\"danjacobellis/{type}mnist3d_64\", split='train') for type in medmnist_types])\n",
    "dataset_valid = datasets.concatenate_datasets([datasets.load_dataset(f\"danjacobellis/{type}mnist3d_64\", split='validation') for type in medmnist_types])"
   ]
  },
  {
   "cell_type": "code",
   "execution_count": null,
   "id": "31802a5a-cddf-4ebd-9d87-2aca01836585",
   "metadata": {},
   "outputs": [],
   "source": [
    "device = \"cuda\"\n",
    "config = SimpleNamespace()\n",
    "config.F = 8\n",
    "config.latent_dim = 32\n",
    "config.input_channels = 1\n",
    "config.encoder_depth = 6\n",
    "config.λ = 1e-1\n",
    "config.max_lr = 1e-3\n",
    "config.min_lr = config.max_lr / 1e3\n",
    "config.lr_pow = 6\n",
    "config.vol_size = 56\n",
    "config.batch_size = 64\n",
    "config.num_workers = 32\n",
    "config.epochs = 96\n",
    "config.total_steps = config.epochs * (dataset_train.num_rows // config.batch_size)\n",
    "config.checkpoint = None"
   ]
  },
  {
   "cell_type": "code",
   "execution_count": null,
   "id": "4b0114f6-08a4-4b7b-a910-be53bbc0e995",
   "metadata": {},
   "outputs": [],
   "source": [
    "model = AutoEncoderND(\n",
    "    dim=3,\n",
    "    input_channels=config.input_channels,\n",
    "    J = int(np.log2(config.F)),\n",
    "    latent_dim=config.latent_dim,\n",
    "    num_res_blocks=config.encoder_depth\n",
    ").to(device)\n",
    "\n",
    "if config.checkpoint:\n",
    "    checkpoint = torch.load(config.checkpoint,weights_only=False)\n",
    "    model.load_state_dict(checkpoint['state_dict'])\n",
    "\n",
    "print(f\"{sum(p.numel() for p in model.parameters())/1e6} M parameters\")\n",
    "\n",
    "optimizer = Mars(model.parameters(), lr=1.0, caution=True)\n",
    "\n",
    "def rc_sched(i_step, config):\n",
    "    t = i_step / config.total_steps\n",
    "    return (config.max_lr - config.min_lr) * (1 - ((np.cos(np.pi*t))**(2*config.lr_pow))) + config.min_lr\n",
    "\n",
    "schedule = torch.optim.lr_scheduler.LambdaLR(\n",
    "    optimizer,\n",
    "    lr_lambda=lambda i_step: rc_sched(i_step, config)\n",
    ")"
   ]
  },
  {
   "cell_type": "code",
   "execution_count": null,
   "id": "5f943008-ea34-4474-90ac-295993a981d1",
   "metadata": {},
   "outputs": [],
   "source": [
    "rand_crop = RandomCrop3D(config.vol_size)\n",
    "def pil_to_grid3d(img):\n",
    "    x = torch.tensor(np.array(img))\n",
    "    x = einops.rearrange(x, '(a y) (b z) c -> (a b c) y z', a=4, b=4, c=4)\n",
    "    return x\n",
    "def collate_fn(batch):\n",
    "    return torch.cat([\n",
    "        rand_crop(pil_to_grid3d(sample['image']).unsqueeze(0).unsqueeze(0)) for sample in batch\n",
    "    ]).to(torch.float)/127.5 - 1.0"
   ]
  },
  {
   "cell_type": "code",
   "execution_count": null,
   "id": "4a5e5228-d6e0-4ce9-94fe-7631a7953e6c",
   "metadata": {},
   "outputs": [],
   "source": [
    "learning_rates = [optimizer.param_groups[0]['lr']]\n",
    "mb = master_bar(range(config.epochs))\n",
    "losses = []\n",
    "rate_losses = []\n",
    "model.train()\n",
    "for i_epoch in mb:\n",
    "    model.train()\n",
    "    dataloader_train = torch.utils.data.DataLoader(\n",
    "            dataset_train,\n",
    "            batch_size=config.batch_size,\n",
    "            num_workers=config.num_workers,\n",
    "            drop_last=True,\n",
    "            shuffle=True,\n",
    "            collate_fn=collate_fn\n",
    "        )\n",
    "    pb = progress_bar(dataloader_train, parent=mb)\n",
    "    for i_batch, x in enumerate(pb):\n",
    "        x = x.to(device)\n",
    "\n",
    "        x_hat, rate = model(x)\n",
    "        rate_losses.append(rate.item())\n",
    "        loss = torch.nn.functional.mse_loss(x, x_hat).log10()\n",
    "        losses.append(loss.item())\n",
    "        loss+= config.λ * rate\n",
    "        \n",
    "        loss.backward()\n",
    "        optimizer.step()\n",
    "        optimizer.zero_grad()\n",
    "        schedule.step()\n",
    "        learning_rates.append(optimizer.param_groups[0]['lr'])\n",
    "    \n",
    "        pb.comment = f\"PSNR: {-10*losses[-1]+6.02:.3g}, R: {rate_losses[-1]:.2g}, LR: {learning_rates[-1]:.2g}\""
   ]
  },
  {
   "cell_type": "code",
   "execution_count": 1,
   "id": "862dddfb-4975-4c6b-8891-ab0832680b14",
   "metadata": {},
   "outputs": [],
   "source": [
    "# batch = dataset_train.select(range(8))\n",
    "# x = collate_fn(batch)\n",
    "# from IPython.display import display, clear_output\n",
    "# from ipywidgets import interact\n",
    "# volume = x[3,0].numpy()\n",
    "# def show_slice(index):\n",
    "#     clear_output(wait=True)  # Clear previous output\n",
    "#     slice_data = volume[index, :, :]\n",
    "#     img = ToPILImage()(slice_data/2+0.5).resize((256,256),resample=PIL.Image.Resampling.LANCZOS)\n",
    "#     display(img)\n",
    "# interact(show_slice, index=(0, 47, 1));"
   ]
  }
 ],
 "metadata": {
  "kernelspec": {
   "display_name": "Python 3 (ipykernel)",
   "language": "python",
   "name": "python3"
  },
  "language_info": {
   "codemirror_mode": {
    "name": "ipython",
    "version": 3
   },
   "file_extension": ".py",
   "mimetype": "text/x-python",
   "name": "python",
   "nbconvert_exporter": "python",
   "pygments_lexer": "ipython3",
   "version": "3.10.12"
  }
 },
 "nbformat": 4,
 "nbformat_minor": 5
}
