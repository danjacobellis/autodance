{
 "cells": [
  {
   "cell_type": "code",
   "execution_count": 1,
   "id": "8f5dab30-acbc-418c-adff-1ed8bc74de54",
   "metadata": {},
   "outputs": [],
   "source": [
    "import torch\n",
    "from evit import EfficientVitLargeStageND, GroupNorm8\n",
    "from timm.models.efficientvit_mit import GELUTanh"
   ]
  },
  {
   "cell_type": "code",
   "execution_count": 2,
   "id": "ef9a70c9-74b8-43f8-be57-0a2ebcc6de80",
   "metadata": {},
   "outputs": [
    {
     "name": "stdout",
     "output_type": "stream",
     "text": [
      "1D output shape: torch.Size([1, 32, 128])\n"
     ]
    }
   ],
   "source": [
    "model_1d = EfficientVitLargeStageND(dim=1, in_chs=32, depth=6, norm_layer=GroupNorm8, act_layer=GELUTanh)\n",
    "input_tensor_1d = torch.randn(1, 32, 128)\n",
    "output_tensor_1d = model_1d(input_tensor_1d)\n",
    "print(\"1D output shape:\", output_tensor_1d.shape)"
   ]
  },
  {
   "cell_type": "code",
   "execution_count": 3,
   "id": "b902ffe7-5e55-40e7-8114-cd4be14e54cf",
   "metadata": {},
   "outputs": [
    {
     "name": "stdout",
     "output_type": "stream",
     "text": [
      "2D output shape: torch.Size([1, 32, 64, 64])\n"
     ]
    }
   ],
   "source": [
    "model_2d = EfficientVitLargeStageND(dim=2, in_chs=32, depth=6, norm_layer=GroupNorm8, act_layer=GELUTanh)\n",
    "input_tensor_2d = torch.randn(1, 32, 64, 64)\n",
    "output_tensor_2d = model_2d(input_tensor_2d)\n",
    "print(\"2D output shape:\", output_tensor_2d.shape)"
   ]
  },
  {
   "cell_type": "code",
   "execution_count": 4,
   "id": "4bde6ad7-2e94-4d66-b568-23b762ca2557",
   "metadata": {},
   "outputs": [
    {
     "name": "stdout",
     "output_type": "stream",
     "text": [
      "3D output shape: torch.Size([1, 32, 32, 32, 32])\n"
     ]
    }
   ],
   "source": [
    "model_3d = EfficientVitLargeStageND(dim=3, in_chs=32, depth=6, norm_layer=GroupNorm8, act_layer=GELUTanh)\n",
    "input_tensor_3d = torch.randn(1, 32, 32, 32, 32)\n",
    "output_tensor_3d = model_3d(input_tensor_3d)\n",
    "print(\"3D output shape:\", output_tensor_3d.shape)"
   ]
  }
 ],
 "metadata": {
  "kernelspec": {
   "display_name": "Python 3 (ipykernel)",
   "language": "python",
   "name": "python3"
  },
  "language_info": {
   "codemirror_mode": {
    "name": "ipython",
    "version": 3
   },
   "file_extension": ".py",
   "mimetype": "text/x-python",
   "name": "python",
   "nbconvert_exporter": "python",
   "pygments_lexer": "ipython3",
   "version": "3.10.12"
  }
 },
 "nbformat": 4,
 "nbformat_minor": 5
}
