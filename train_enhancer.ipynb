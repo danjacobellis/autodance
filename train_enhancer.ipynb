{
 "cells": [
  {
   "cell_type": "code",
   "execution_count": 1,
   "id": "277a7639-27fb-4538-8ef3-be369d5347d9",
   "metadata": {},
   "outputs": [
    {
     "name": "stdout",
     "output_type": "stream",
     "text": [
      "env: CUDA_VISIBLE_DEVICES=MIG-768d9c1d-110f-52e2-b0a2-3252f78280f8\n"
     ]
    }
   ],
   "source": [
    "%env CUDA_VISIBLE_DEVICES=MIG-768d9c1d-110f-52e2-b0a2-3252f78280f8\n",
    "device=\"cuda:0\"\n",
    "import torch\n",
    "import torch.nn as nn\n",
    "import PIL.Image\n",
    "import numpy as np\n",
    "import datasets\n",
    "from types import SimpleNamespace\n",
    "from torchvision import transforms\n",
    "from diffusers import (\n",
    "    AutoencoderKL,\n",
    "    FluxTransformer2DModel,\n",
    "    FluxControlNetModel,\n",
    "    FlowMatchEulerDiscreteScheduler,\n",
    "    FluxControlNetPipeline,\n",
    "    FluxPipeline,\n",
    ")\n",
    "from accelerate import Accelerator\n",
    "from tqdm.auto import tqdm\n",
    "from codec import AutoEncoderND  # Your codec module\n",
    "from IPython.display import display\n",
    "from torchvision.transforms.v2 import ToPILImage, PILToTensor, CenterCrop"
   ]
  },
  {
   "cell_type": "code",
   "execution_count": 2,
   "id": "7007fa65-4e9d-46b8-962c-b15b324861f2",
   "metadata": {},
   "outputs": [
    {
     "data": {
      "application/vnd.jupyter.widget-view+json": {
       "model_id": "f50de00437144111b99f2ef77516dc84",
       "version_major": 2,
       "version_minor": 0
      },
      "text/plain": [
       "Resolving data files:   0%|          | 0/195 [00:00<?, ?it/s]"
      ]
     },
     "metadata": {},
     "output_type": "display_data"
    },
    {
     "data": {
      "application/vnd.jupyter.widget-view+json": {
       "model_id": "3f620d98eebc4ceda34993511a864761",
       "version_major": 2,
       "version_minor": 0
      },
      "text/plain": [
       "Resolving data files:   0%|          | 0/195 [00:00<?, ?it/s]"
      ]
     },
     "metadata": {},
     "output_type": "display_data"
    },
    {
     "data": {
      "application/vnd.jupyter.widget-view+json": {
       "model_id": "186a237293b54cb6ba2f0f24674b6102",
       "version_major": 2,
       "version_minor": 0
      },
      "text/plain": [
       "Loading dataset shards:   0%|          | 0/178 [00:00<?, ?it/s]"
      ]
     },
     "metadata": {},
     "output_type": "display_data"
    },
    {
     "name": "stdout",
     "output_type": "stream",
     "text": [
      "Codec loaded with 61.93 M parameters\n"
     ]
    }
   ],
   "source": [
    "# Cell 3: Load Dataset and Codec\n",
    "dataset = datasets.load_dataset(\"danjacobellis/LSDIR\").map(lambda x: {\"text\": \"\"})\n",
    "\n",
    "# Load codec model\n",
    "checkpoint = torch.load('../hf/dance/LF_rgb_f16c12_v1.0.pth', map_location=device, weights_only=False)\n",
    "config = checkpoint['config']\n",
    "state_dict = checkpoint['state_dict']\n",
    "\n",
    "codec_model = AutoEncoderND(\n",
    "    dim=2,\n",
    "    input_channels=config.input_channels,\n",
    "    J=int(config.F**0.5),\n",
    "    latent_dim=config.latent_dim,\n",
    "    lightweight_encode=config.lightweight_encode,\n",
    "    lightweight_decode=config.lightweight_decode\n",
    ").to(device)\n",
    "codec_model.load_state_dict(state_dict)\n",
    "codec_model.eval()\n",
    "print(f\"Codec loaded with {sum(p.numel() for p in codec_model.parameters())/1e6:.2f} M parameters\")"
   ]
  },
  {
   "cell_type": "code",
   "execution_count": 3,
   "id": "1486f3de-104d-466a-821b-c960e7328d37",
   "metadata": {},
   "outputs": [],
   "source": [
    "config = SimpleNamespace(\n",
    "    pretrained_model_name_or_path=\"black-forest-labs/FLUX.1-dev\",\n",
    "    output_dir=\"controlnet-output\",\n",
    "    resolution=128,\n",
    "    train_batch_size=2,\n",
    "    num_train_epochs=10,\n",
    "    checkpointing_steps=1000,\n",
    "    learning_rate=1e-5,\n",
    "    mixed_precision=\"bf16\",\n",
    "    proportion_empty_prompts=1.0,\n",
    "    max_train_steps=None,\n",
    "    gradient_accumulation_steps=1,\n",
    "    seed=42\n",
    ")"
   ]
  },
  {
   "cell_type": "code",
   "execution_count": 4,
   "id": "f37f3eba-8e23-4ce7-a00a-221a7dc1cd15",
   "metadata": {},
   "outputs": [],
   "source": [
    "# Cell 5: Dataset Preparation\n",
    "def prepare_train_dataset(dataset, resolution):\n",
    "    image_transforms = transforms.Compose([\n",
    "        transforms.Resize(resolution, interpolation=transforms.InterpolationMode.BILINEAR),\n",
    "        transforms.CenterCrop(resolution),\n",
    "        transforms.ToTensor(),\n",
    "        transforms.Normalize([0.5], [0.5]),\n",
    "    ])\n",
    "    \n",
    "    def preprocess_train(examples):\n",
    "        images = [image_transforms(image.convert(\"RGB\")) for image in examples['image']]\n",
    "        examples['pixel_values'] = images\n",
    "        return examples\n",
    "    \n",
    "    return dataset.with_transform(preprocess_train)\n",
    "\n",
    "train_dataset = prepare_train_dataset(dataset['train'], config.resolution)"
   ]
  },
  {
   "cell_type": "code",
   "execution_count": 5,
   "id": "239bb81b-4ace-4e48-90b4-0d5d7a0bdf0d",
   "metadata": {},
   "outputs": [],
   "source": [
    "def compute_embeddings(batch, vae, codec_model, weight_dtype, pipeline):\n",
    "    device = torch.device(\"cuda:0\")  # Ensure this matches your intended device\n",
    "    pixel_values = torch.stack(batch['pixel_values']).to(device, dtype=weight_dtype)\n",
    "    \n",
    "    # Compute decoded images using codec\n",
    "    with torch.no_grad():\n",
    "        z = codec_model.encode(pixel_values)\n",
    "        latent = codec_model.quantize.compand(z).round()\n",
    "        control_values = codec_model.decode(latent)\n",
    "    \n",
    "    # Encode both with VAE\n",
    "    pixel_latents_tmp = vae.encode(pixel_values).latent_dist.sample()\n",
    "    pixel_latents = FluxControlNetPipeline._pack_latents(\n",
    "        pixel_latents_tmp - vae.config.shift_factor * vae.config.scaling_factor,\n",
    "        pixel_values.shape[0], pixel_latents_tmp.shape[1], pixel_latents_tmp.shape[2], pixel_latents_tmp.shape[3]\n",
    "    )\n",
    "    \n",
    "    control_latents_tmp = vae.encode(control_values).latent_dist.sample()\n",
    "    control_latents = FluxControlNetPipeline._pack_latents(\n",
    "        control_latents_tmp - vae.config.shift_factor * vae.config.scaling_factor,\n",
    "        control_values.shape[0], control_latents_tmp.shape[1], control_latents_tmp.shape[2], control_latents_tmp.shape[3]\n",
    "    )\n",
    "    \n",
    "    # Dummy text embeddings (empty prompts)\n",
    "    prompt_batch = [\"\"] * len(batch['pixel_values'])\n",
    "    prompt_embeds, pooled_prompt_embeds, text_ids = pipeline.encode_prompt(prompt_batch, prompt_2=prompt_batch)\n",
    "    \n",
    "    # Split text_ids into a list of tensors along the batch dimension\n",
    "    text_ids_list = [text_ids[i] for i in range(text_ids.shape[0])]\n",
    "    \n",
    "    latent_image_ids = FluxControlNetPipeline._prepare_latent_image_ids(\n",
    "        batch_size=pixel_values.shape[0],\n",
    "        height=pixel_values.shape[2] // 2,\n",
    "        width=pixel_values.shape[3] // 2,\n",
    "        device=device,\n",
    "        dtype=weight_dtype\n",
    "    )\n",
    "    \n",
    "    return {\n",
    "        'pixel_latents': pixel_latents,\n",
    "        'control_latents': control_latents,\n",
    "        'prompt_ids': prompt_embeds.to(weight_dtype),\n",
    "        'pooled_prompt_embeds': pooled_prompt_embeds.to(weight_dtype),\n",
    "        'time_ids': text_ids_list,\n",
    "        'latent_image_ids': latent_image_ids\n",
    "    }"
   ]
  },
  {
   "cell_type": "code",
   "execution_count": 6,
   "id": "484b2bfb-23b3-443c-bd29-97ab6e94b6ca",
   "metadata": {},
   "outputs": [],
   "source": [
    "def collate_fn(examples):\n",
    "    return {key: torch.stack([example[key] for example in examples]) for key in examples[0].keys()}"
   ]
  },
  {
   "cell_type": "code",
   "execution_count": 7,
   "id": "3ba68021-7fb6-4efc-b87f-023424544d58",
   "metadata": {},
   "outputs": [],
   "source": [
    "accelerator = Accelerator(\n",
    "    mixed_precision=config.mixed_precision,\n",
    "    gradient_accumulation_steps=config.gradient_accumulation_steps,\n",
    ")"
   ]
  },
  {
   "cell_type": "code",
   "execution_count": 8,
   "id": "807cca7e-202b-476b-83ef-d149e2ddbf7c",
   "metadata": {},
   "outputs": [
    {
     "data": {
      "application/vnd.jupyter.widget-view+json": {
       "model_id": "14b4fea5be86404ea2deb22eb3dd4d2d",
       "version_major": 2,
       "version_minor": 0
      },
      "text/plain": [
       "Fetching 3 files:   0%|          | 0/3 [00:00<?, ?it/s]"
      ]
     },
     "metadata": {},
     "output_type": "display_data"
    }
   ],
   "source": [
    "vae = AutoencoderKL.from_pretrained(config.pretrained_model_name_or_path, subfolder=\"vae\").to(device)\n",
    "flux_transformer = FluxTransformer2DModel.from_pretrained(config.pretrained_model_name_or_path, subfolder=\"transformer\").to(device)\n",
    "flux_controlnet = FluxControlNetModel.from_transformer(flux_transformer, num_layers=4, num_single_layers=0)\n",
    "noise_scheduler = FlowMatchEulerDiscreteScheduler.from_pretrained(config.pretrained_model_name_or_path, subfolder=\"scheduler\")"
   ]
  },
  {
   "cell_type": "code",
   "execution_count": 9,
   "id": "9b4efb4c-2c7d-4851-82bf-ab9814837e8b",
   "metadata": {},
   "outputs": [],
   "source": [
    "vae.requires_grad_(False)\n",
    "flux_transformer.requires_grad_(False)\n",
    "flux_controlnet.train();"
   ]
  },
  {
   "cell_type": "code",
   "execution_count": 10,
   "id": "e707aecf-6443-4bbd-8c56-0b1a64c1fd91",
   "metadata": {},
   "outputs": [],
   "source": [
    "optimizer = torch.optim.AdamW(flux_controlnet.parameters(), lr=config.learning_rate)\n",
    "train_dataloader = torch.utils.data.DataLoader(\n",
    "    train_dataset, batch_size=config.train_batch_size, shuffle=True, collate_fn=collate_fn\n",
    ");"
   ]
  },
  {
   "cell_type": "code",
   "execution_count": 11,
   "id": "96693684-1775-4646-af39-cfd7b3234f8b",
   "metadata": {},
   "outputs": [
    {
     "data": {
      "application/vnd.jupyter.widget-view+json": {
       "model_id": "457f1f7c4c8c42ccae7f95e16d86dbf2",
       "version_major": 2,
       "version_minor": 0
      },
      "text/plain": [
       "Loading pipeline components...:   0%|          | 0/7 [00:00<?, ?it/s]"
      ]
     },
     "metadata": {},
     "output_type": "display_data"
    },
    {
     "data": {
      "application/vnd.jupyter.widget-view+json": {
       "model_id": "9ac92602e3624f43a9658332506190fc",
       "version_major": 2,
       "version_minor": 0
      },
      "text/plain": [
       "Loading checkpoint shards:   0%|          | 0/2 [00:00<?, ?it/s]"
      ]
     },
     "metadata": {},
     "output_type": "display_data"
    },
    {
     "name": "stderr",
     "output_type": "stream",
     "text": [
      "You set `add_prefix_space`. The tokenizer needs to be converted from the slow tokenizers\n"
     ]
    },
    {
     "ename": "OutOfMemoryError",
     "evalue": "CUDA out of memory. Tried to allocate 180.00 MiB. GPU 0 has a total capacity of 79.14 GiB of which 93.88 MiB is free. Including non-PyTorch memory, this process has 78.95 GiB memory in use. Of the allocated memory 78.49 GiB is allocated by PyTorch, and 94.21 MiB is reserved by PyTorch but unallocated. If reserved but unallocated memory is large try setting PYTORCH_CUDA_ALLOC_CONF=expandable_segments:True to avoid fragmentation.  See documentation for Memory Management  (https://pytorch.org/docs/stable/notes/cuda.html#environment-variables)",
     "output_type": "error",
     "traceback": [
      "\u001b[0;31m---------------------------------------------------------------------------\u001b[0m",
      "\u001b[0;31mOutOfMemoryError\u001b[0m                          Traceback (most recent call last)",
      "Cell \u001b[0;32mIn[11], line 2\u001b[0m\n\u001b[1;32m      1\u001b[0m weight_dtype \u001b[38;5;241m=\u001b[39m torch\u001b[38;5;241m.\u001b[39mbfloat16 \u001b[38;5;28;01mif\u001b[39;00m config\u001b[38;5;241m.\u001b[39mmixed_precision \u001b[38;5;241m==\u001b[39m \u001b[38;5;124m\"\u001b[39m\u001b[38;5;124mbf16\u001b[39m\u001b[38;5;124m\"\u001b[39m \u001b[38;5;28;01melse\u001b[39;00m torch\u001b[38;5;241m.\u001b[39mfloat32\n\u001b[0;32m----> 2\u001b[0m pipeline \u001b[38;5;241m=\u001b[39m \u001b[43mFluxPipeline\u001b[49m\u001b[38;5;241;43m.\u001b[39;49m\u001b[43mfrom_pretrained\u001b[49m\u001b[43m(\u001b[49m\u001b[43mconfig\u001b[49m\u001b[38;5;241;43m.\u001b[39;49m\u001b[43mpretrained_model_name_or_path\u001b[49m\u001b[43m,\u001b[49m\u001b[43m \u001b[49m\u001b[43mvae\u001b[49m\u001b[38;5;241;43m=\u001b[39;49m\u001b[43mvae\u001b[49m\u001b[43m)\u001b[49m\u001b[38;5;241;43m.\u001b[39;49m\u001b[43mto\u001b[49m\u001b[43m(\u001b[49m\u001b[43mdevice\u001b[49m\u001b[43m)\u001b[49m\n\u001b[1;32m      3\u001b[0m compute_embeddings_fn \u001b[38;5;241m=\u001b[39m \u001b[38;5;28;01mlambda\u001b[39;00m batch: compute_embeddings(batch, vae, codec_model, weight_dtype, pipeline)\n\u001b[1;32m      4\u001b[0m train_dataset \u001b[38;5;241m=\u001b[39m train_dataset\u001b[38;5;241m.\u001b[39mmap(compute_embeddings_fn, batched\u001b[38;5;241m=\u001b[39m\u001b[38;5;28;01mTrue\u001b[39;00m, batch_size\u001b[38;5;241m=\u001b[39m\u001b[38;5;241m1\u001b[39m)\n",
      "File \u001b[0;32m~/.local/lib/python3.10/site-packages/diffusers/pipelines/pipeline_utils.py:461\u001b[0m, in \u001b[0;36mDiffusionPipeline.to\u001b[0;34m(self, *args, **kwargs)\u001b[0m\n\u001b[1;32m    459\u001b[0m     module\u001b[38;5;241m.\u001b[39mto(device\u001b[38;5;241m=\u001b[39mdevice)\n\u001b[1;32m    460\u001b[0m \u001b[38;5;28;01melif\u001b[39;00m \u001b[38;5;129;01mnot\u001b[39;00m is_loaded_in_4bit_bnb \u001b[38;5;129;01mand\u001b[39;00m \u001b[38;5;129;01mnot\u001b[39;00m is_loaded_in_8bit_bnb:\n\u001b[0;32m--> 461\u001b[0m     \u001b[43mmodule\u001b[49m\u001b[38;5;241;43m.\u001b[39;49m\u001b[43mto\u001b[49m\u001b[43m(\u001b[49m\u001b[43mdevice\u001b[49m\u001b[43m,\u001b[49m\u001b[43m \u001b[49m\u001b[43mdtype\u001b[49m\u001b[43m)\u001b[49m\n\u001b[1;32m    463\u001b[0m \u001b[38;5;28;01mif\u001b[39;00m (\n\u001b[1;32m    464\u001b[0m     module\u001b[38;5;241m.\u001b[39mdtype \u001b[38;5;241m==\u001b[39m torch\u001b[38;5;241m.\u001b[39mfloat16\n\u001b[1;32m    465\u001b[0m     \u001b[38;5;129;01mand\u001b[39;00m \u001b[38;5;28mstr\u001b[39m(device) \u001b[38;5;129;01min\u001b[39;00m [\u001b[38;5;124m\"\u001b[39m\u001b[38;5;124mcpu\u001b[39m\u001b[38;5;124m\"\u001b[39m]\n\u001b[1;32m    466\u001b[0m     \u001b[38;5;129;01mand\u001b[39;00m \u001b[38;5;129;01mnot\u001b[39;00m silence_dtype_warnings\n\u001b[1;32m    467\u001b[0m     \u001b[38;5;129;01mand\u001b[39;00m \u001b[38;5;129;01mnot\u001b[39;00m is_offloaded\n\u001b[1;32m    468\u001b[0m ):\n\u001b[1;32m    469\u001b[0m     logger\u001b[38;5;241m.\u001b[39mwarning(\n\u001b[1;32m    470\u001b[0m         \u001b[38;5;124m\"\u001b[39m\u001b[38;5;124mPipelines loaded with `dtype=torch.float16` cannot run with `cpu` device. It\u001b[39m\u001b[38;5;124m\"\u001b[39m\n\u001b[1;32m    471\u001b[0m         \u001b[38;5;124m\"\u001b[39m\u001b[38;5;124m is not recommended to move them to `cpu` as running them will fail. Please make\u001b[39m\u001b[38;5;124m\"\u001b[39m\n\u001b[0;32m   (...)\u001b[0m\n\u001b[1;32m    474\u001b[0m         \u001b[38;5;124m\"\u001b[39m\u001b[38;5;124m `torch_dtype=torch.float16` argument, or use another device for inference.\u001b[39m\u001b[38;5;124m\"\u001b[39m\n\u001b[1;32m    475\u001b[0m     )\n",
      "File \u001b[0;32m~/.local/lib/python3.10/site-packages/diffusers/models/modeling_utils.py:1077\u001b[0m, in \u001b[0;36mModelMixin.to\u001b[0;34m(self, *args, **kwargs)\u001b[0m\n\u001b[1;32m   1072\u001b[0m     \u001b[38;5;28;01melif\u001b[39;00m is_bitsandbytes_version(\u001b[38;5;124m\"\u001b[39m\u001b[38;5;124m<\u001b[39m\u001b[38;5;124m\"\u001b[39m, \u001b[38;5;124m\"\u001b[39m\u001b[38;5;124m0.43.2\u001b[39m\u001b[38;5;124m\"\u001b[39m):\n\u001b[1;32m   1073\u001b[0m         \u001b[38;5;28;01mraise\u001b[39;00m \u001b[38;5;167;01mValueError\u001b[39;00m(\n\u001b[1;32m   1074\u001b[0m             \u001b[38;5;124m\"\u001b[39m\u001b[38;5;124mCalling `to()` is not supported for `4-bit` quantized models with the installed version of bitsandbytes. \u001b[39m\u001b[38;5;124m\"\u001b[39m\n\u001b[1;32m   1075\u001b[0m             \u001b[38;5;124mf\u001b[39m\u001b[38;5;124m\"\u001b[39m\u001b[38;5;124mThe current device is `\u001b[39m\u001b[38;5;132;01m{\u001b[39;00m\u001b[38;5;28mself\u001b[39m\u001b[38;5;241m.\u001b[39mdevice\u001b[38;5;132;01m}\u001b[39;00m\u001b[38;5;124m`. If you intended to move the model, please install bitsandbytes >= 0.43.2.\u001b[39m\u001b[38;5;124m\"\u001b[39m\n\u001b[1;32m   1076\u001b[0m         )\n\u001b[0;32m-> 1077\u001b[0m \u001b[38;5;28;01mreturn\u001b[39;00m \u001b[38;5;28;43msuper\u001b[39;49m\u001b[43m(\u001b[49m\u001b[43m)\u001b[49m\u001b[38;5;241;43m.\u001b[39;49m\u001b[43mto\u001b[49m\u001b[43m(\u001b[49m\u001b[38;5;241;43m*\u001b[39;49m\u001b[43margs\u001b[49m\u001b[43m,\u001b[49m\u001b[43m \u001b[49m\u001b[38;5;241;43m*\u001b[39;49m\u001b[38;5;241;43m*\u001b[39;49m\u001b[43mkwargs\u001b[49m\u001b[43m)\u001b[49m\n",
      "File \u001b[0;32m~/.local/lib/python3.10/site-packages/torch/nn/modules/module.py:1343\u001b[0m, in \u001b[0;36mModule.to\u001b[0;34m(self, *args, **kwargs)\u001b[0m\n\u001b[1;32m   1340\u001b[0m         \u001b[38;5;28;01melse\u001b[39;00m:\n\u001b[1;32m   1341\u001b[0m             \u001b[38;5;28;01mraise\u001b[39;00m\n\u001b[0;32m-> 1343\u001b[0m \u001b[38;5;28;01mreturn\u001b[39;00m \u001b[38;5;28;43mself\u001b[39;49m\u001b[38;5;241;43m.\u001b[39;49m\u001b[43m_apply\u001b[49m\u001b[43m(\u001b[49m\u001b[43mconvert\u001b[49m\u001b[43m)\u001b[49m\n",
      "File \u001b[0;32m~/.local/lib/python3.10/site-packages/torch/nn/modules/module.py:903\u001b[0m, in \u001b[0;36mModule._apply\u001b[0;34m(self, fn, recurse)\u001b[0m\n\u001b[1;32m    901\u001b[0m \u001b[38;5;28;01mif\u001b[39;00m recurse:\n\u001b[1;32m    902\u001b[0m     \u001b[38;5;28;01mfor\u001b[39;00m module \u001b[38;5;129;01min\u001b[39;00m \u001b[38;5;28mself\u001b[39m\u001b[38;5;241m.\u001b[39mchildren():\n\u001b[0;32m--> 903\u001b[0m         \u001b[43mmodule\u001b[49m\u001b[38;5;241;43m.\u001b[39;49m\u001b[43m_apply\u001b[49m\u001b[43m(\u001b[49m\u001b[43mfn\u001b[49m\u001b[43m)\u001b[49m\n\u001b[1;32m    905\u001b[0m \u001b[38;5;28;01mdef\u001b[39;00m \u001b[38;5;21mcompute_should_use_set_data\u001b[39m(tensor, tensor_applied):\n\u001b[1;32m    906\u001b[0m     \u001b[38;5;28;01mif\u001b[39;00m torch\u001b[38;5;241m.\u001b[39m_has_compatible_shallow_copy_type(tensor, tensor_applied):\n\u001b[1;32m    907\u001b[0m         \u001b[38;5;66;03m# If the new tensor has compatible tensor type as the existing tensor,\u001b[39;00m\n\u001b[1;32m    908\u001b[0m         \u001b[38;5;66;03m# the current behavior is to change the tensor in-place using `.data =`,\u001b[39;00m\n\u001b[0;32m   (...)\u001b[0m\n\u001b[1;32m    913\u001b[0m         \u001b[38;5;66;03m# global flag to let the user control whether they want the future\u001b[39;00m\n\u001b[1;32m    914\u001b[0m         \u001b[38;5;66;03m# behavior of overwriting the existing tensor or not.\u001b[39;00m\n",
      "File \u001b[0;32m~/.local/lib/python3.10/site-packages/torch/nn/modules/module.py:903\u001b[0m, in \u001b[0;36mModule._apply\u001b[0;34m(self, fn, recurse)\u001b[0m\n\u001b[1;32m    901\u001b[0m \u001b[38;5;28;01mif\u001b[39;00m recurse:\n\u001b[1;32m    902\u001b[0m     \u001b[38;5;28;01mfor\u001b[39;00m module \u001b[38;5;129;01min\u001b[39;00m \u001b[38;5;28mself\u001b[39m\u001b[38;5;241m.\u001b[39mchildren():\n\u001b[0;32m--> 903\u001b[0m         \u001b[43mmodule\u001b[49m\u001b[38;5;241;43m.\u001b[39;49m\u001b[43m_apply\u001b[49m\u001b[43m(\u001b[49m\u001b[43mfn\u001b[49m\u001b[43m)\u001b[49m\n\u001b[1;32m    905\u001b[0m \u001b[38;5;28;01mdef\u001b[39;00m \u001b[38;5;21mcompute_should_use_set_data\u001b[39m(tensor, tensor_applied):\n\u001b[1;32m    906\u001b[0m     \u001b[38;5;28;01mif\u001b[39;00m torch\u001b[38;5;241m.\u001b[39m_has_compatible_shallow_copy_type(tensor, tensor_applied):\n\u001b[1;32m    907\u001b[0m         \u001b[38;5;66;03m# If the new tensor has compatible tensor type as the existing tensor,\u001b[39;00m\n\u001b[1;32m    908\u001b[0m         \u001b[38;5;66;03m# the current behavior is to change the tensor in-place using `.data =`,\u001b[39;00m\n\u001b[0;32m   (...)\u001b[0m\n\u001b[1;32m    913\u001b[0m         \u001b[38;5;66;03m# global flag to let the user control whether they want the future\u001b[39;00m\n\u001b[1;32m    914\u001b[0m         \u001b[38;5;66;03m# behavior of overwriting the existing tensor or not.\u001b[39;00m\n",
      "File \u001b[0;32m~/.local/lib/python3.10/site-packages/torch/nn/modules/module.py:903\u001b[0m, in \u001b[0;36mModule._apply\u001b[0;34m(self, fn, recurse)\u001b[0m\n\u001b[1;32m    901\u001b[0m \u001b[38;5;28;01mif\u001b[39;00m recurse:\n\u001b[1;32m    902\u001b[0m     \u001b[38;5;28;01mfor\u001b[39;00m module \u001b[38;5;129;01min\u001b[39;00m \u001b[38;5;28mself\u001b[39m\u001b[38;5;241m.\u001b[39mchildren():\n\u001b[0;32m--> 903\u001b[0m         \u001b[43mmodule\u001b[49m\u001b[38;5;241;43m.\u001b[39;49m\u001b[43m_apply\u001b[49m\u001b[43m(\u001b[49m\u001b[43mfn\u001b[49m\u001b[43m)\u001b[49m\n\u001b[1;32m    905\u001b[0m \u001b[38;5;28;01mdef\u001b[39;00m \u001b[38;5;21mcompute_should_use_set_data\u001b[39m(tensor, tensor_applied):\n\u001b[1;32m    906\u001b[0m     \u001b[38;5;28;01mif\u001b[39;00m torch\u001b[38;5;241m.\u001b[39m_has_compatible_shallow_copy_type(tensor, tensor_applied):\n\u001b[1;32m    907\u001b[0m         \u001b[38;5;66;03m# If the new tensor has compatible tensor type as the existing tensor,\u001b[39;00m\n\u001b[1;32m    908\u001b[0m         \u001b[38;5;66;03m# the current behavior is to change the tensor in-place using `.data =`,\u001b[39;00m\n\u001b[0;32m   (...)\u001b[0m\n\u001b[1;32m    913\u001b[0m         \u001b[38;5;66;03m# global flag to let the user control whether they want the future\u001b[39;00m\n\u001b[1;32m    914\u001b[0m         \u001b[38;5;66;03m# behavior of overwriting the existing tensor or not.\u001b[39;00m\n",
      "File \u001b[0;32m~/.local/lib/python3.10/site-packages/torch/nn/modules/module.py:930\u001b[0m, in \u001b[0;36mModule._apply\u001b[0;34m(self, fn, recurse)\u001b[0m\n\u001b[1;32m    926\u001b[0m \u001b[38;5;66;03m# Tensors stored in modules are graph leaves, and we don't want to\u001b[39;00m\n\u001b[1;32m    927\u001b[0m \u001b[38;5;66;03m# track autograd history of `param_applied`, so we have to use\u001b[39;00m\n\u001b[1;32m    928\u001b[0m \u001b[38;5;66;03m# `with torch.no_grad():`\u001b[39;00m\n\u001b[1;32m    929\u001b[0m \u001b[38;5;28;01mwith\u001b[39;00m torch\u001b[38;5;241m.\u001b[39mno_grad():\n\u001b[0;32m--> 930\u001b[0m     param_applied \u001b[38;5;241m=\u001b[39m \u001b[43mfn\u001b[49m\u001b[43m(\u001b[49m\u001b[43mparam\u001b[49m\u001b[43m)\u001b[49m\n\u001b[1;32m    931\u001b[0m p_should_use_set_data \u001b[38;5;241m=\u001b[39m compute_should_use_set_data(param, param_applied)\n\u001b[1;32m    933\u001b[0m \u001b[38;5;66;03m# subclasses may have multiple child tensors so we need to use swap_tensors\u001b[39;00m\n",
      "File \u001b[0;32m~/.local/lib/python3.10/site-packages/torch/nn/modules/module.py:1329\u001b[0m, in \u001b[0;36mModule.to.<locals>.convert\u001b[0;34m(t)\u001b[0m\n\u001b[1;32m   1322\u001b[0m     \u001b[38;5;28;01mif\u001b[39;00m convert_to_format \u001b[38;5;129;01mis\u001b[39;00m \u001b[38;5;129;01mnot\u001b[39;00m \u001b[38;5;28;01mNone\u001b[39;00m \u001b[38;5;129;01mand\u001b[39;00m t\u001b[38;5;241m.\u001b[39mdim() \u001b[38;5;129;01min\u001b[39;00m (\u001b[38;5;241m4\u001b[39m, \u001b[38;5;241m5\u001b[39m):\n\u001b[1;32m   1323\u001b[0m         \u001b[38;5;28;01mreturn\u001b[39;00m t\u001b[38;5;241m.\u001b[39mto(\n\u001b[1;32m   1324\u001b[0m             device,\n\u001b[1;32m   1325\u001b[0m             dtype \u001b[38;5;28;01mif\u001b[39;00m t\u001b[38;5;241m.\u001b[39mis_floating_point() \u001b[38;5;129;01mor\u001b[39;00m t\u001b[38;5;241m.\u001b[39mis_complex() \u001b[38;5;28;01melse\u001b[39;00m \u001b[38;5;28;01mNone\u001b[39;00m,\n\u001b[1;32m   1326\u001b[0m             non_blocking,\n\u001b[1;32m   1327\u001b[0m             memory_format\u001b[38;5;241m=\u001b[39mconvert_to_format,\n\u001b[1;32m   1328\u001b[0m         )\n\u001b[0;32m-> 1329\u001b[0m     \u001b[38;5;28;01mreturn\u001b[39;00m \u001b[43mt\u001b[49m\u001b[38;5;241;43m.\u001b[39;49m\u001b[43mto\u001b[49m\u001b[43m(\u001b[49m\n\u001b[1;32m   1330\u001b[0m \u001b[43m        \u001b[49m\u001b[43mdevice\u001b[49m\u001b[43m,\u001b[49m\n\u001b[1;32m   1331\u001b[0m \u001b[43m        \u001b[49m\u001b[43mdtype\u001b[49m\u001b[43m \u001b[49m\u001b[38;5;28;43;01mif\u001b[39;49;00m\u001b[43m \u001b[49m\u001b[43mt\u001b[49m\u001b[38;5;241;43m.\u001b[39;49m\u001b[43mis_floating_point\u001b[49m\u001b[43m(\u001b[49m\u001b[43m)\u001b[49m\u001b[43m \u001b[49m\u001b[38;5;129;43;01mor\u001b[39;49;00m\u001b[43m \u001b[49m\u001b[43mt\u001b[49m\u001b[38;5;241;43m.\u001b[39;49m\u001b[43mis_complex\u001b[49m\u001b[43m(\u001b[49m\u001b[43m)\u001b[49m\u001b[43m \u001b[49m\u001b[38;5;28;43;01melse\u001b[39;49;00m\u001b[43m \u001b[49m\u001b[38;5;28;43;01mNone\u001b[39;49;00m\u001b[43m,\u001b[49m\n\u001b[1;32m   1332\u001b[0m \u001b[43m        \u001b[49m\u001b[43mnon_blocking\u001b[49m\u001b[43m,\u001b[49m\n\u001b[1;32m   1333\u001b[0m \u001b[43m    \u001b[49m\u001b[43m)\u001b[49m\n\u001b[1;32m   1334\u001b[0m \u001b[38;5;28;01mexcept\u001b[39;00m \u001b[38;5;167;01mNotImplementedError\u001b[39;00m \u001b[38;5;28;01mas\u001b[39;00m e:\n\u001b[1;32m   1335\u001b[0m     \u001b[38;5;28;01mif\u001b[39;00m \u001b[38;5;28mstr\u001b[39m(e) \u001b[38;5;241m==\u001b[39m \u001b[38;5;124m\"\u001b[39m\u001b[38;5;124mCannot copy out of meta tensor; no data!\u001b[39m\u001b[38;5;124m\"\u001b[39m:\n",
      "\u001b[0;31mOutOfMemoryError\u001b[0m: CUDA out of memory. Tried to allocate 180.00 MiB. GPU 0 has a total capacity of 79.14 GiB of which 93.88 MiB is free. Including non-PyTorch memory, this process has 78.95 GiB memory in use. Of the allocated memory 78.49 GiB is allocated by PyTorch, and 94.21 MiB is reserved by PyTorch but unallocated. If reserved but unallocated memory is large try setting PYTORCH_CUDA_ALLOC_CONF=expandable_segments:True to avoid fragmentation.  See documentation for Memory Management  (https://pytorch.org/docs/stable/notes/cuda.html#environment-variables)"
     ]
    }
   ],
   "source": [
    "weight_dtype = torch.bfloat16 if config.mixed_precision == \"bf16\" else torch.float32\n",
    "pipeline = FluxPipeline.from_pretrained(config.pretrained_model_name_or_path, vae=vae).to(device)\n",
    "compute_embeddings_fn = lambda batch: compute_embeddings(batch, vae, codec_model, weight_dtype, pipeline)\n",
    "train_dataset = train_dataset.map(compute_embeddings_fn, batched=True, batch_size=1)"
   ]
  },
  {
   "cell_type": "code",
   "execution_count": null,
   "id": "8b002cf5-8efc-4340-9382-e0047babdeff",
   "metadata": {},
   "outputs": [],
   "source": [
    "# flux_controlnet, optimizer, train_dataloader = accelerator.prepare(flux_controlnet, optimizer, train_dataloader)"
   ]
  },
  {
   "cell_type": "code",
   "execution_count": null,
   "id": "02a83e05-6b47-4d2e-a31c-03e8410f15c2",
   "metadata": {},
   "outputs": [],
   "source": [
    "# num_update_steps_per_epoch = len(train_dataloader) // config.gradient_accumulation_steps']\n",
    "# if config.max_train_steps'] is None:\n",
    "#     config.max_train_steps'] = config.num_train_epochs'] * num_update_steps_per_epoch"
   ]
  },
  {
   "cell_type": "code",
   "execution_count": null,
   "id": "2a1f814d-4fce-4148-9ed7-98c45ca2df3d",
   "metadata": {},
   "outputs": [],
   "source": [
    "# # Training loop\n",
    "# global_step = 0\n",
    "# mb = tqdm(range(config.num_train_epochs']), desc=\"Epochs\")\n",
    "# for epoch in mb:\n",
    "#     pb = tqdm(train_dataloader, desc=\"Steps\", leave=False)\n",
    "#     for step, batch in enumerate(pb):\n",
    "#         with accelerator.accumulate(flux_controlnet):\n",
    "#             pixel_latents = batch['pixel_latents'].to(weight_dtype)\n",
    "#             control_latents = batch['control_latents'].to(weight_dtype)\n",
    "#             latent_image_ids = batch['latent_image_ids'].to(weight_dtype)\n",
    "            \n",
    "#             noise = torch.randn_like(pixel_latents).to(device, dtype=weight_dtype)\n",
    "#             bsz = pixel_latents.shape[0]\n",
    "#             timesteps = torch.sigmoid(torch.randn((bsz,), device=device, dtype=weight_dtype))\n",
    "            \n",
    "#             noisy_latents = (1 - timesteps.view(-1, 1, 1)) * pixel_latents + timesteps.view(-1, 1, 1) * noise\n",
    "#             guidance_vec = torch.full((bsz,), 3.5, device=device, dtype=weight_dtype)\n",
    "            \n",
    "#             controlnet_block_samples, controlnet_single_block_samples = flux_controlnet(\n",
    "#                 hidden_states=noisy_latents,\n",
    "#                 controlnet_cond=control_latents,\n",
    "#                 timestep=timesteps,\n",
    "#                 guidance=guidance_vec,\n",
    "#                 pooled_projections=batch['unet_added_conditions']['pooled_prompt_embeds'].to(weight_dtype),\n",
    "#                 encoder_hidden_states=batch['prompt_ids'].to(weight_dtype),\n",
    "#                 txt_ids=batch['unet_added_conditions']['time_ids'][0].to(weight_dtype),\n",
    "#                 img_ids=latent_image_ids[0],\n",
    "#                 return_dict=False\n",
    "#             )\n",
    "            \n",
    "#             noise_pred = flux_transformer(\n",
    "#                 hidden_states=noisy_latents,\n",
    "#                 timestep=timesteps,\n",
    "#                 guidance=guidance_vec,\n",
    "#                 pooled_projections=batch['unet_added_conditions']['pooled_prompt_embeds'].to(weight_dtype),\n",
    "#                 encoder_hidden_states=batch['prompt_ids'].to(weight_dtype),\n",
    "#                 controlnet_block_samples=[s.to(weight_dtype) for s in controlnet_block_samples],\n",
    "#                 controlnet_single_block_samples=[s.to(weight_dtype) for s in controlnet_single_block_samples],\n",
    "#                 txt_ids=batch['unet_added_conditions']['time_ids'][0].to(weight_dtype),\n",
    "#                 img_ids=latent_image_ids[0],\n",
    "#                 return_dict=False\n",
    "#             )[0]\n",
    "            \n",
    "#             loss = nn.functional.mse_loss(noise_pred.float(), noise.float())\n",
    "#             accelerator.backward(loss)\n",
    "#             optimizer.step()\n",
    "#             optimizer.zero_grad()\n",
    "            \n",
    "#             if accelerator.sync_gradients:\n",
    "#                 global_step += 1\n",
    "#                 pb.set_postfix({'loss': loss.item()})\n",
    "                \n",
    "#                 if global_step % config.checkpointing_steps == 0:\n",
    "#                     save_path = f\"{config.output_dir}/checkpoint-{global_step}\"\n",
    "#                     accelerator.save_state(save_path)\n",
    "#                     print(f\"Saved checkpoint to {save_path}\")\n",
    "            \n",
    "#             if global_step >= config.max_train_steps:\n",
    "#                 break\n",
    "    \n",
    "#     if global_step >= config.max_train_steps:\n",
    "#         break\n",
    "\n",
    "# # Save final model\n",
    "# accelerator.wait_for_everyone()\n",
    "# if accelerator.is_main_process:\n",
    "#     flux_controlnet = accelerator.unwrap_model(flux_controlnet)\n",
    "#     flux_controlnet.save_pretrained(config.output_dir)\n",
    "#     print(f\"Model saved to {config.output_dir}\")"
   ]
  }
 ],
 "metadata": {
  "kernelspec": {
   "display_name": "Python 3 (ipykernel)",
   "language": "python",
   "name": "python3"
  },
  "language_info": {
   "codemirror_mode": {
    "name": "ipython",
    "version": 3
   },
   "file_extension": ".py",
   "mimetype": "text/x-python",
   "name": "python",
   "nbconvert_exporter": "python",
   "pygments_lexer": "ipython3",
   "version": "3.10.12"
  }
 },
 "nbformat": 4,
 "nbformat_minor": 5
}
