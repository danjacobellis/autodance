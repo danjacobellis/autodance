{
 "cells": [
  {
   "cell_type": "code",
   "execution_count": 1,
   "id": "e3510095-2530-47e4-9be4-f7195bdc9d7c",
   "metadata": {},
   "outputs": [
    {
     "name": "stdout",
     "output_type": "stream",
     "text": [
      "env: CUDA_VISIBLE_DEVICES=MIG-768d9c1d-110f-52e2-b0a2-3252f78280f8\n"
     ]
    }
   ],
   "source": [
    "%env CUDA_VISIBLE_DEVICES=MIG-768d9c1d-110f-52e2-b0a2-3252f78280f8\n",
    "device=\"cuda\"\n",
    "import io\n",
    "import torch\n",
    "import torch.nn as nn\n",
    "import PIL.Image\n",
    "import einops\n",
    "import matplotlib.pyplot as plt\n",
    "import numpy as np\n",
    "import datasets\n",
    "import math\n",
    "import torchaudio\n",
    "import random\n",
    "from itertools import combinations\n",
    "from IPython.display import HTML, Audio\n",
    "from types import SimpleNamespace\n",
    "from timm.optim import Mars\n",
    "from fastprogress import progress_bar, master_bar\n",
    "from torchvision.transforms.v2 import ToPILImage, PILToTensor, CenterCrop, RandomCrop, Resize\n",
    "from autocodec.codec import AutoCodecND, latent_to_pil, pil_to_latent"
   ]
  },
  {
   "cell_type": "code",
   "execution_count": 2,
   "id": "fa14f8d5-d6f6-43f9-8a23-b0e298e4a82b",
   "metadata": {},
   "outputs": [
    {
     "data": {
      "application/vnd.jupyter.widget-view+json": {
       "model_id": "b370253fbb5b4460a759259babf9480b",
       "version_major": 2,
       "version_minor": 0
      },
      "text/plain": [
       "Resolving data files:   0%|          | 0/41 [00:00<?, ?it/s]"
      ]
     },
     "metadata": {},
     "output_type": "display_data"
    },
    {
     "data": {
      "application/vnd.jupyter.widget-view+json": {
       "model_id": "8309fc0963ec4d27a8fe24b025d783f7",
       "version_major": 2,
       "version_minor": 0
      },
      "text/plain": [
       "Resolving data files:   0%|          | 0/22 [00:00<?, ?it/s]"
      ]
     },
     "metadata": {},
     "output_type": "display_data"
    },
    {
     "data": {
      "application/vnd.jupyter.widget-view+json": {
       "model_id": "321246b1ed3d4b7c99a3fc709db97030",
       "version_major": 2,
       "version_minor": 0
      },
      "text/plain": [
       "Resolving data files:   0%|          | 0/41 [00:00<?, ?it/s]"
      ]
     },
     "metadata": {},
     "output_type": "display_data"
    },
    {
     "data": {
      "application/vnd.jupyter.widget-view+json": {
       "model_id": "ca9702dd8df84094bc1faa58b31036bd",
       "version_major": 2,
       "version_minor": 0
      },
      "text/plain": [
       "Resolving data files:   0%|          | 0/22 [00:00<?, ?it/s]"
      ]
     },
     "metadata": {},
     "output_type": "display_data"
    },
    {
     "data": {
      "application/vnd.jupyter.widget-view+json": {
       "model_id": "8cf4ab858d784fe5aec971db31b9feec",
       "version_major": 2,
       "version_minor": 0
      },
      "text/plain": [
       "Loading dataset shards:   0%|          | 0/34 [00:00<?, ?it/s]"
      ]
     },
     "metadata": {},
     "output_type": "display_data"
    },
    {
     "data": {
      "application/vnd.jupyter.widget-view+json": {
       "model_id": "60f8499fbeb04eebb4468d8ca7b7b039",
       "version_major": 2,
       "version_minor": 0
      },
      "text/plain": [
       "Loading dataset shards:   0%|          | 0/21 [00:00<?, ?it/s]"
      ]
     },
     "metadata": {},
     "output_type": "display_data"
    }
   ],
   "source": [
    "dataset = datasets.load_dataset(\"danjacobellis/musdb_segments\")"
   ]
  },
  {
   "cell_type": "code",
   "execution_count": 3,
   "id": "31802a5a-cddf-4ebd-9d87-2aca01836585",
   "metadata": {},
   "outputs": [
    {
     "name": "stdout",
     "output_type": "stream",
     "text": [
      "524288 2097152\n"
     ]
    }
   ],
   "source": [
    "config = SimpleNamespace()\n",
    "config.F = 512\n",
    "config.latent_dim = 16;\n",
    "config.input_channels = 2\n",
    "config.lightweight_encode = True\n",
    "config.lightweight_decode = False\n",
    "config.post_filter = False\n",
    "config.freeze_encoder_after = 0.7\n",
    "config.λ = 3e-2\n",
    "config.lr_pow = 6\n",
    "config.progressive_sizes = [config.F*int(s) for s in 2**(np.linspace(10,12,1000))]; print(config.progressive_sizes[0],config.progressive_sizes[-1])\n",
    "config.batch_size = 16\n",
    "config.max_lr = (64/config.batch_size)*1e-3\n",
    "config.min_lr = config.max_lr / 1e3\n",
    "config.num_workers = 32\n",
    "config.epochs = 1000\n",
    "config.total_steps = config.epochs * (dataset['train'].num_rows // config.batch_size)\n",
    "config.checkpoint = False"
   ]
  },
  {
   "cell_type": "code",
   "execution_count": 4,
   "id": "efcd33e0-b5ba-46a5-a126-b7aa9b80178f",
   "metadata": {},
   "outputs": [
    {
     "name": "stdout",
     "output_type": "stream",
     "text": [
      "103.72328 M parameters\n"
     ]
    }
   ],
   "source": [
    "model = AutoCodecND(\n",
    "    dim=1,\n",
    "    input_channels=config.input_channels,\n",
    "    J = int(np.log2(config.F)),\n",
    "    latent_dim=config.latent_dim,\n",
    "    lightweight_encode = config.lightweight_encode,\n",
    "    lightweight_decode = config.lightweight_decode,\n",
    "    post_filter=config.post_filter\n",
    ").to(device)\n",
    "\n",
    "if config.checkpoint:\n",
    "    checkpoint = torch.load(config.checkpoint,weights_only=False)\n",
    "    model.load_state_dict(checkpoint['state_dict'])\n",
    "\n",
    "print(f\"{sum(p.numel() for p in model.parameters())/1e6} M parameters\")\n",
    "\n",
    "optimizer = Mars(model.parameters(), lr=1.0, caution=True)\n",
    "\n",
    "def rc_sched(i_step, config):\n",
    "    t = i_step / config.total_steps\n",
    "    return (config.max_lr - config.min_lr) * (1 - ((np.cos(np.pi*t))**(2*config.lr_pow))) + config.min_lr\n",
    "\n",
    "schedule = torch.optim.lr_scheduler.LambdaLR(\n",
    "    optimizer,\n",
    "    lr_lambda=lambda i_step: rc_sched(i_step, config)\n",
    ")"
   ]
  },
  {
   "cell_type": "code",
   "execution_count": 5,
   "id": "c923fce2-de6a-4fb2-844f-ac0a5913cb77",
   "metadata": {},
   "outputs": [],
   "source": [
    "mixing_weights = []\n",
    "\n",
    "# Original mixture\n",
    "mixing_weights.append(torch.ones(4))\n",
    "\n",
    "# Amplify two channels, attenuate two\n",
    "for indices in combinations(range(4), 2):\n",
    "    weights = torch.full((4,), 0.5)\n",
    "    weights[list(indices)] = 1.5\n",
    "    mixing_weights.append(weights)\n",
    "\n",
    "# Combinations of 3 channels (set to 1.0), one channel set to 0.0\n",
    "for indices in combinations(range(4), 3):\n",
    "    weights = torch.zeros(4)\n",
    "    weights[list(indices)] = 1.0\n",
    "    mixing_weights.append(weights)\n",
    "\n",
    "# Combinations of 2 channels (set to 1.0), others set to 0.0\n",
    "for indices in combinations(range(4), 2):\n",
    "    weights = torch.zeros(4)\n",
    "    weights[list(indices)] = 1.0\n",
    "    mixing_weights.append(weights)\n",
    "\n",
    "# Combinations of 1 channel\n",
    "for index in range(4):\n",
    "    weights = torch.zeros(4)\n",
    "    weights[index] = 1.0\n",
    "    mixing_weights.append(weights)\n",
    "\n",
    "def get_epoch_size(epoch):\n",
    "    idx = min(epoch, len(config.progressive_sizes)-1)\n",
    "    return config.progressive_sizes[idx]\n",
    "\n",
    "def collate_fn(batch,epoch):\n",
    "    L = get_epoch_size(epoch)\n",
    "    C = config.input_channels\n",
    "    crop = RandomCrop((4, L))\n",
    "    B = len(batch)\n",
    "    x = torch.zeros((B, C, L), dtype=torch.float)\n",
    "    for i_sample, sample in enumerate(batch):\n",
    "        xi = torch.zeros((C,4,2**21), dtype=torch.int16)\n",
    "        for i_instr, instr in enumerate(['vocal', 'bass', 'drums', 'other']):\n",
    "            audio, fs = torchaudio.load(sample[f'audio_{instr}']['bytes'], normalize=False)\n",
    "            xi[:,i_instr,:] = audio\n",
    "        xi = crop(xi).to(torch.float)\n",
    "        w = random.choice(mixing_weights).view(1, -1, 1)\n",
    "        xi = (w*xi).sum(dim=1)\n",
    "        xi = xi - xi.mean()\n",
    "        max_abs = xi.abs().max()\n",
    "        xi = xi / (max_abs + 1e-8)\n",
    "        x[i_sample,:,:] = xi\n",
    "    return x"
   ]
  },
  {
   "cell_type": "code",
   "execution_count": null,
   "id": "1fd35e91-63fe-4268-aac3-d1bf00b1c085",
   "metadata": {},
   "outputs": [
    {
     "data": {
      "text/html": [
       "\n",
       "<style>\n",
       "    /* Turns off some styling */\n",
       "    progress {\n",
       "        /* gets rid of default border in Firefox and Opera. */\n",
       "        border: none;\n",
       "        /* Needs to be in here for Safari polyfill so background images work as expected. */\n",
       "        background-size: auto;\n",
       "    }\n",
       "    progress:not([value]), progress:not([value])::-webkit-progress-bar {\n",
       "        background: repeating-linear-gradient(45deg, #7e7e7e, #7e7e7e 10px, #5c5c5c 10px, #5c5c5c 20px);\n",
       "    }\n",
       "    .progress-bar-interrupted, .progress-bar-interrupted::-webkit-progress-bar {\n",
       "        background: #F44336;\n",
       "    }\n",
       "</style>\n"
      ],
      "text/plain": [
       "<IPython.core.display.HTML object>"
      ]
     },
     "metadata": {},
     "output_type": "display_data"
    },
    {
     "data": {
      "text/html": [
       "\n",
       "    <div>\n",
       "      <progress value='638' class='' max='1000' style='width:300px; height:20px; vertical-align: middle;'></progress>\n",
       "      63.80% [638/1000 5:11:34&lt;2:56:47]\n",
       "    </div>\n",
       "    \n",
       "\n",
       "\n",
       "    <div>\n",
       "      <progress value='13' class='' max='29' style='width:300px; height:20px; vertical-align: middle;'></progress>\n",
       "      44.83% [13/29 00:21&lt;00:26 PSNR: 30.2, R: 1, LR: 0.004]\n",
       "    </div>\n",
       "    "
      ],
      "text/plain": [
       "<IPython.core.display.HTML object>"
      ]
     },
     "metadata": {},
     "output_type": "display_data"
    }
   ],
   "source": [
    "learning_rates = [optimizer.param_groups[0]['lr']]\n",
    "mb = master_bar(range(config.epochs))\n",
    "losses = []\n",
    "rate_losses = []\n",
    "\n",
    "global_step = 0\n",
    "model.train()\n",
    "for i_epoch in mb:\n",
    "    model.train()\n",
    "    dataloader_train = torch.utils.data.DataLoader(\n",
    "            dataset['train'],\n",
    "            batch_size=config.batch_size,\n",
    "            num_workers=config.num_workers,\n",
    "            drop_last=True,\n",
    "            shuffle=True,\n",
    "            collate_fn=lambda batch: collate_fn(batch, i_epoch)\n",
    "        )\n",
    "    pb = progress_bar(dataloader_train, parent=mb)\n",
    "    for i_batch, x in enumerate(pb):\n",
    "        x = x.to(device)\n",
    "\n",
    "        if i_epoch/config.epochs <= config.freeze_encoder_after :\n",
    "            z = model.encode(x)\n",
    "            z_noisy = model.quantize(z) \n",
    "            x_hat = model.decode(z_noisy)\n",
    "        else:\n",
    "            with torch.no_grad():\n",
    "                z = model.encode(x)\n",
    "                z_quant = model.quantize.compand(z).round()\n",
    "            x_hat = model.decode(z_quant)\n",
    "\n",
    "        if config.post_filter:\n",
    "            x_hat = model.post_filter(x_hat)\n",
    "\n",
    "        # Reconstruction and rate loss\n",
    "        mse_loss = torch.nn.functional.mse_loss(x, x_hat).log10()\n",
    "        losses.append(mse_loss.item())\n",
    "        rate = model.quantize.compand(z).std().log2()\n",
    "        rate_losses.append(rate.item())\n",
    "\n",
    "        if i_epoch/config.epochs <= config.freeze_encoder_after :\n",
    "            total_loss = mse_loss + config.λ * rate\n",
    "        else:\n",
    "            total_loss = mse_loss\n",
    "\n",
    "        pb.comment = (f\"PSNR: {-10*losses[-1]+6.02:.3g}, R: {rate:.2g}, \"\n",
    "                          f\"LR: {learning_rates[-1]:.2g}\")\n",
    "\n",
    "        # Backpropagation and optimizer step\n",
    "        total_loss.backward()\n",
    "        optimizer.step()\n",
    "        optimizer.zero_grad()\n",
    "        schedule.step()\n",
    "        learning_rates.append(optimizer.param_groups[0]['lr'])\n",
    "\n",
    "        global_step += 1\n",
    "\n",
    "    torch.save({\n",
    "        'config': config,\n",
    "        'state_dict': model.state_dict()\n",
    "    }, 'checkpoint.pth')"
   ]
  },
  {
   "cell_type": "code",
   "execution_count": 7,
   "id": "082e9000-a698-4d03-a9aa-5663f8512e1d",
   "metadata": {},
   "outputs": [
    {
     "data": {
      "text/html": [
       "\n",
       "    <div>\n",
       "      <progress value='936' class='' max='1000' style='width:300px; height:20px; vertical-align: middle;'></progress>\n",
       "      93.60% [936/1000 9:09:27&lt;37:34]\n",
       "    </div>\n",
       "    "
      ],
      "text/plain": [
       "<IPython.core.display.HTML object>"
      ]
     },
     "metadata": {},
     "output_type": "display_data"
    },
    {
     "data": {
      "text/html": [
       "\n",
       "    <div>\n",
       "      <progress value='0' class='' max='29' style='width:300px; height:20px; vertical-align: middle;'></progress>\n",
       "      0.00% [0/29 00:00&lt;?]\n",
       "    </div>\n",
       "    "
      ],
      "text/plain": [
       "<IPython.core.display.HTML object>"
      ]
     },
     "metadata": {},
     "output_type": "display_data"
    },
    {
     "data": {
      "image/png": "[encoded data removed]",
      "text/plain": [
       "<Figure size 640x480 with 2 Axes>"
      ]
     },
     "metadata": {},
     "output_type": "display_data"
    }
   ],
   "source": [
    "display(HTML(mb.main_bar.progress))\n",
    "display(HTML(pb.progress))\n",
    "fig, ax1 = plt.subplots()\n",
    "ax1.plot(-10*np.array(losses)+6.02)\n",
    "ax1.grid(True)\n",
    "ax1.tick_params(axis='y', labelcolor='blue')\n",
    "ax2 = ax1.twinx()\n",
    "ax2.plot(-10*np.array(rate_losses), color='red', alpha=0.5)\n",
    "ax2.tick_params(axis='y', labelcolor='red')\n",
    "plt.show()"
   ]
  },
  {
   "cell_type": "code",
   "execution_count": 8,
   "id": "5694919d-3605-4c37-a853-1d24dc401774",
   "metadata": {},
   "outputs": [],
   "source": [
    "torch.save({\n",
    "    'config': config,\n",
    "    'state_dict': model.state_dict()\n",
    "}, '../hf/dance/LF_stereo_f512c16_v1.0.pth')"
   ]
  },
  {
   "cell_type": "code",
   "execution_count": 14,
   "id": "cf864018-bbc2-4df1-9a74-edb82af05a11",
   "metadata": {},
   "outputs": [
    {
     "data": {
      "image/jpeg": "[encoded data removed]",
      "text/plain": [
       "<PIL.Image.Image image mode=CMYK size=64x64>"
      ]
     },
     "metadata": {},
     "output_type": "display_data"
    },
    {
     "name": "stdout",
     "output_type": "stream",
     "text": [
      "143.01363884342607 compression ratio\n",
      "64.0× dimension reduction\n",
      "34.03336050033569 dB PSNR\n"
     ]
    }
   ],
   "source": [
    "import einops\n",
    "\n",
    "L = 2**19\n",
    "C = config.input_channels\n",
    "center_crop = CenterCrop((1, L))\n",
    "def valid_collate_fn(batch):\n",
    "    B = len(batch)\n",
    "    x = torch.zeros((B, C, L), dtype=torch.float)\n",
    "    for i_sample, sample in enumerate(batch):\n",
    "        xi = torch.zeros((C, 1, 2**21), dtype=torch.int16)\n",
    "        audio_mix, fs = torchaudio.load(sample['audio_mix']['bytes'], normalize=False)\n",
    "        xi[:, 0, :] = audio_mix\n",
    "        xi = center_crop(xi).to(torch.float)\n",
    "        xi = xi.squeeze(1)\n",
    "        xi = xi - xi.mean()\n",
    "        max_abs = xi.abs().max()\n",
    "        xi = xi / (max_abs + 1e-8)\n",
    "        x[i_sample, :, :] = xi\n",
    "    return x\n",
    "\n",
    "batch = dataset['validation'].select([0])\n",
    "x = valid_collate_fn(batch).to(device)\n",
    "model.eval()\n",
    "with torch.no_grad():\n",
    "    z = model.encode(x)\n",
    "    latent = model.quantize.compand(z).round().cpu()\n",
    "    latent_reshaped = einops.rearrange(latent, 'b c (h w) -> b c h w', h=32)\n",
    "    latent_img = latent_to_pil(latent_reshaped, n_bits=8, C=4)\n",
    "    display(latent_img[0])\n",
    "    buff = io.BytesIO()\n",
    "    latent_img[0].save(buff, format='TIFF', compression='tiff_adobe_deflate')\n",
    "    tiff_bytes = buff.getbuffer()\n",
    "    print(f\"{x.numel()/len(tiff_bytes)} compression ratio\")\n",
    "    print(f\"{x.numel()/z.numel()}× dimension reduction\")\n",
    "    latent_decoded = pil_to_latent([PIL.Image.open(buff)], N=16, n_bits=8, C=4)\n",
    "    latent_decoded = einops.rearrange(latent_decoded, 'b c h w -> b c (h w)')\n",
    "    x_hat = model.decode(latent_decoded.to(device))\n",
    "    if config.post_filter:\n",
    "        x_hat = model.post_filter(x_hat)\n",
    "    x_hat = x_hat.clamp(-1,1)\n",
    "mse = torch.nn.functional.mse_loss(x,x_hat)\n",
    "PSNR = -10*mse.log10().item() + 6.02\n",
    "print(f\"{PSNR} dB PSNR\")"
   ]
  },
  {
   "cell_type": "code",
   "execution_count": null,
   "id": "f7fdacef-ab65-4668-b99d-c8a13190d574",
   "metadata": {},
   "outputs": [],
   "source": [
    "Audio(x_hat[0].cpu(),rate=44100)"
   ]
  },
  {
   "cell_type": "code",
   "execution_count": 9,
   "id": "40caa286-6e53-4a42-898d-5d090abd9b8b",
   "metadata": {},
   "outputs": [
    {
     "data": {
      "text/plain": [
       "(-4.0, 4.0)"
      ]
     },
     "execution_count": 9,
     "metadata": {},
     "output_type": "execute_result"
    },
    {
     "data": {
      "image/png": "[encoded data removed]",
      "text/plain": [
       "<Figure size 640x480 with 1 Axes>"
      ]
     },
     "metadata": {},
     "output_type": "display_data"
    }
   ],
   "source": [
    "plt.hist(z_quant.flatten().cpu().numpy(),range=(-127.5,127.5),bins=255,width=0.9);\n",
    "plt.xlim([-4,4])"
   ]
  }
 ],
 "metadata": {
  "kernelspec": {
   "display_name": "Python 3 (ipykernel)",
   "language": "python",
   "name": "python3"
  },
  "language_info": {
   "codemirror_mode": {
    "name": "ipython",
    "version": 3
   },
   "file_extension": ".py",
   "mimetype": "text/x-python",
   "name": "python",
   "nbconvert_exporter": "python",
   "pygments_lexer": "ipython3",
   "version": "3.10.12"
  }
 },
 "nbformat": 4,
 "nbformat_minor": 5
}
