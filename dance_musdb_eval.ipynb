{
 "cells": [
  {
   "cell_type": "code",
   "execution_count": 1,
   "id": "edb7d1ed-cfe7-4a60-a5ef-4e7083205b0e",
   "metadata": {},
   "outputs": [],
   "source": [
    "import torch\n",
    "import torch.nn as nn\n",
    "import PIL.Image\n",
    "import io\n",
    "import numpy as np\n",
    "import datasets\n",
    "import torchaudio\n",
    "from IPython.display import Audio as play\n",
    "from torchvision.transforms.v2 import CenterCrop, PILToTensor, ToPILImage, Pad, CenterCrop\n",
    "from types import SimpleNamespace\n",
    "from autocodec.codec import AutoCodecND, latent_to_pil, pil_to_latent"
   ]
  },
  {
   "cell_type": "code",
   "execution_count": 2,
   "id": "a5324e50-c936-4374-a382-3029cb398692",
   "metadata": {},
   "outputs": [
    {
     "data": {
      "application/vnd.jupyter.widget-view+json": {
       "model_id": "20ce5b13ab694d25ac00c2fcc32c1958",
       "version_major": 2,
       "version_minor": 0
      },
      "text/plain": [
       "Resolving data files:   0%|          | 0/41 [00:00<?, ?it/s]"
      ]
     },
     "metadata": {},
     "output_type": "display_data"
    },
    {
     "data": {
      "application/vnd.jupyter.widget-view+json": {
       "model_id": "71bcb3d6cec14aa1a74f23ee1eca3429",
       "version_major": 2,
       "version_minor": 0
      },
      "text/plain": [
       "Resolving data files:   0%|          | 0/22 [00:00<?, ?it/s]"
      ]
     },
     "metadata": {},
     "output_type": "display_data"
    },
    {
     "data": {
      "application/vnd.jupyter.widget-view+json": {
       "model_id": "8ae5cd5c543e4c9891c13951e394d46e",
       "version_major": 2,
       "version_minor": 0
      },
      "text/plain": [
       "Resolving data files:   0%|          | 0/41 [00:00<?, ?it/s]"
      ]
     },
     "metadata": {},
     "output_type": "display_data"
    },
    {
     "data": {
      "application/vnd.jupyter.widget-view+json": {
       "model_id": "1d3ef1263fa3468490d4cf5cee266ef9",
       "version_major": 2,
       "version_minor": 0
      },
      "text/plain": [
       "Resolving data files:   0%|          | 0/22 [00:00<?, ?it/s]"
      ]
     },
     "metadata": {},
     "output_type": "display_data"
    },
    {
     "data": {
      "application/vnd.jupyter.widget-view+json": {
       "model_id": "879944d65f3643eabb5154073350ce72",
       "version_major": 2,
       "version_minor": 0
      },
      "text/plain": [
       "Loading dataset shards:   0%|          | 0/21 [00:00<?, ?it/s]"
      ]
     },
     "metadata": {},
     "output_type": "display_data"
    }
   ],
   "source": [
    "device = \"cpu\"\n",
    "valid_dataset = dataset = datasets.load_dataset(\"danjacobellis/musdb_segments\",split='validation')"
   ]
  },
  {
   "cell_type": "code",
   "execution_count": 3,
   "id": "52ed372f-663c-40c1-87dd-dbeb881b30eb",
   "metadata": {},
   "outputs": [
    {
     "data": {
      "text/plain": [
       "<All keys matched successfully>"
      ]
     },
     "execution_count": 3,
     "metadata": {},
     "output_type": "execute_result"
    }
   ],
   "source": [
    "checkpoint = torch.load('checkpoint.pth', map_location=device,weights_only=False)\n",
    "config = checkpoint['config']\n",
    "model = AutoCodecND(\n",
    "    dim=1,\n",
    "    input_channels=config.input_channels,\n",
    "    J=int(np.log2(config.F)),\n",
    "    latent_dim=config.latent_dim,\n",
    "    lightweight_encode=config.lightweight_encode,\n",
    "    lightweight_decode=config.lightweight_decode,\n",
    "    post_filter=config.post_filter\n",
    ").to(device)\n",
    "\n",
    "model.load_state_dict(checkpoint['state_dict'])"
   ]
  },
  {
   "cell_type": "code",
   "execution_count": 4,
   "id": "e6c4f7f2-7c41-4f7c-b532-e048abfb1594",
   "metadata": {},
   "outputs": [],
   "source": [
    "L = 2**19\n",
    "C = config.input_channels\n",
    "center_crop = CenterCrop((1, L))\n",
    "def valid_collate_fn(batch):\n",
    "    B = len(batch)\n",
    "    x = torch.zeros((B, C, L), dtype=torch.float)\n",
    "    for i_sample, sample in enumerate(batch):\n",
    "        xi = torch.zeros((C, 1, 2**21), dtype=torch.int16)\n",
    "        audio_mix, fs = torchaudio.load(sample['audio_mix']['bytes'], normalize=False)\n",
    "        xi[:, 0, :] = audio_mix\n",
    "        xi = center_crop(xi).to(torch.float)\n",
    "        xi = xi.squeeze(1)\n",
    "        xi = xi - xi.mean()\n",
    "        max_abs = xi.abs().max()\n",
    "        xi = xi / (max_abs + 1e-8)\n",
    "        x[i_sample, :, :] = xi\n",
    "    return x"
   ]
  },
  {
   "cell_type": "code",
   "execution_count": 5,
   "id": "805ba5ae-c251-42f6-b3ca-f22ae2593606",
   "metadata": {},
   "outputs": [
    {
     "name": "stdout",
     "output_type": "stream",
     "text": [
      "43.85758640289306 dB PSNR\n"
     ]
    }
   ],
   "source": [
    "batch = dataset.select(range(4))\n",
    "x = valid_collate_fn(batch).to(device)\n",
    "model.eval()\n",
    "with torch.no_grad():\n",
    "    z = model.encode(x)\n",
    "    latent = model.quantize.compand(z)\n",
    "    x_hat = model.decode(latent)\n",
    "    if config.post_filter:\n",
    "        x_hat = model.post_filter(x_hat)\n",
    "    x_hat = x_hat.clamp(-1,1)\n",
    "mse = torch.nn.functional.mse_loss(x,x_hat)\n",
    "PSNR = -10*mse.log10().item() + 6.02\n",
    "print(f\"{PSNR} dB PSNR\")"
   ]
  },
  {
   "cell_type": "code",
   "execution_count": null,
   "id": "8f59984e-06f1-4c6d-bbee-16c6d5580428",
   "metadata": {},
   "outputs": [],
   "source": [
    "play(x[0].cpu(),rate=44100)"
   ]
  },
  {
   "cell_type": "code",
   "execution_count": null,
   "id": "c3df6997-154f-4666-86f8-db2d37a29947",
   "metadata": {},
   "outputs": [],
   "source": [
    "play(x_hat[0].cpu(),rate=44100)"
   ]
  }
 ],
 "metadata": {
  "kernelspec": {
   "display_name": "Python 3 (ipykernel)",
   "language": "python",
   "name": "python3"
  },
  "language_info": {
   "codemirror_mode": {
    "name": "ipython",
    "version": 3
   },
   "file_extension": ".py",
   "mimetype": "text/x-python",
   "name": "python",
   "nbconvert_exporter": "python",
   "pygments_lexer": "ipython3",
   "version": "3.10.12"
  }
 },
 "nbformat": 4,
 "nbformat_minor": 5
}
