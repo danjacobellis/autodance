{
 "cells": [
  {
   "cell_type": "code",
   "execution_count": 1,
   "id": "e3510095-2530-47e4-9be4-f7195bdc9d7c",
   "metadata": {},
   "outputs": [
    {
     "data": {
      "application/vnd.jupyter.widget-view+json": {
       "model_id": "b61821997c234117ac0c27acdd3aeb58",
       "version_major": 2,
       "version_minor": 0
      },
      "text/plain": [
       "Resolving data files:   0%|          | 0/195 [00:00<?, ?it/s]"
      ]
     },
     "metadata": {},
     "output_type": "display_data"
    },
    {
     "data": {
      "application/vnd.jupyter.widget-view+json": {
       "model_id": "95213edc23fa4eafab9aa2f9bf95dd01",
       "version_major": 2,
       "version_minor": 0
      },
      "text/plain": [
       "Resolving data files:   0%|          | 0/195 [00:00<?, ?it/s]"
      ]
     },
     "metadata": {},
     "output_type": "display_data"
    },
    {
     "data": {
      "application/vnd.jupyter.widget-view+json": {
       "model_id": "6cb235aa80004ca1a17e76853db6c143",
       "version_major": 2,
       "version_minor": 0
      },
      "text/plain": [
       "Loading dataset shards:   0%|          | 0/178 [00:00<?, ?it/s]"
      ]
     },
     "metadata": {},
     "output_type": "display_data"
    }
   ],
   "source": [
    "device=\"cuda:0\"\n",
    "import io\n",
    "import torch\n",
    "import torch.nn as nn\n",
    "import PIL.Image\n",
    "import einops\n",
    "import matplotlib.pyplot as plt\n",
    "import numpy as np\n",
    "import datasets\n",
    "import math\n",
    "from IPython.display import HTML\n",
    "from types import SimpleNamespace\n",
    "from timm.optim import Mars\n",
    "from fastprogress import progress_bar, master_bar\n",
    "from torchvision.transforms.v2 import ToPILImage, PILToTensor, CenterCrop, RandomCrop, Resize\n",
    "from autocodec.codec import AutoCodecND, latent_to_pil, pil_to_latent\n",
    "dataset = datasets.load_dataset(\"danjacobellis/LSDIR\")"
   ]
  },
  {
   "cell_type": "code",
   "execution_count": 2,
   "id": "31802a5a-cddf-4ebd-9d87-2aca01836585",
   "metadata": {},
   "outputs": [
    {
     "name": "stdout",
     "output_type": "stream",
     "text": [
      "(start res, end_res) (128, 480)\n"
     ]
    }
   ],
   "source": [
    "config = SimpleNamespace()\n",
    "config.F = 16\n",
    "config.latent_dim = 12\n",
    "config.input_channels = 3\n",
    "config.encoder_depth = 4\n",
    "config.encoder_kernel_size = 3\n",
    "config.decoder_depth = 8\n",
    "config.lightweight_encode = True\n",
    "config.lightweight_decode = False\n",
    "config.λ = 3e-2\n",
    "config.lr_pow = 2\n",
    "config.encoder_epochs = 3\n",
    "config.epochs = 6\n",
    "config.progressive_sizes = [16 * int(s) for s in 2 ** (np.linspace(3, 4.95, config.epochs))]\n",
    "config.batch_size = 16\n",
    "config.max_lr = (64 / config.batch_size) * 1e-3\n",
    "config.min_lr = config.max_lr / 1e3\n",
    "config.num_workers = 32\n",
    "config.encoder_steps = config.encoder_epochs * (dataset['train'].num_rows // config.batch_size)\n",
    "config.total_steps = config.epochs * (dataset['train'].num_rows // config.batch_size)\n",
    "config.checkpoint = False\n",
    "print(f\"(start res, end_res) {(config.progressive_sizes[0], config.progressive_sizes[-1])}\")"
   ]
  },
  {
   "cell_type": "code",
   "execution_count": 3,
   "id": "88bb22cf-349c-4d75-b4f1-1e0a475f02ba",
   "metadata": {},
   "outputs": [
    {
     "name": "stdout",
     "output_type": "stream",
     "text": [
      "79.326876 M parameters\n"
     ]
    }
   ],
   "source": [
    "model = AutoCodecND(\n",
    "    dim=2,\n",
    "    input_channels=config.input_channels,\n",
    "    J = int(np.log2(config.F)),\n",
    "    latent_dim=config.latent_dim,\n",
    "    encoder_depth = config.encoder_depth,\n",
    "    encoder_kernel_size=config.encoder_kernel_size,\n",
    "    decoder_depth = config.decoder_depth,\n",
    "    lightweight_encode = config.lightweight_encode,\n",
    "    lightweight_decode = config.lightweight_decode,\n",
    ").to(device)\n",
    "\n",
    "if config.checkpoint:\n",
    "    checkpoint = torch.load(config.checkpoint,weights_only=False)\n",
    "    model.load_state_dict(checkpoint['state_dict'])\n",
    "\n",
    "print(f\"{sum(p.numel() for p in model.parameters())/1e6} M parameters\")"
   ]
  },
  {
   "cell_type": "code",
   "execution_count": 4,
   "id": "efcd33e0-b5ba-46a5-a126-b7aa9b80178f",
   "metadata": {},
   "outputs": [],
   "source": [
    "def rc_sched(i_step, min_lr, max_lr, lr_pow, steps):\n",
    "    t = i_step / steps\n",
    "    return (max_lr - min_lr) * (1 - ((np.cos(np.pi*t))**(2*lr_pow))) + min_lr\n",
    "\n",
    "optimizer_enc = Mars(list(model.encoder_blocks.parameters()) + list(model.conv_down.parameters()), lr=1.0, caution=True)\n",
    "optimizer_dec = Mars(list(model.decoder_blocks.parameters()) + list(model.conv_up.parameters()), lr=1.0, caution=True)\n",
    "\n",
    "sched_enc = torch.optim.lr_scheduler.LambdaLR(\n",
    "    optimizer_enc,\n",
    "    lr_lambda=lambda step: rc_sched(step, config.min_lr, config.max_lr, config.lr_pow, config.encoder_steps)\n",
    ")\n",
    "sched_dec = torch.optim.lr_scheduler.LambdaLR(\n",
    "    optimizer_dec,\n",
    "    lr_lambda=lambda step: rc_sched(step, config.min_lr, config.max_lr, config.lr_pow, config.total_steps)\n",
    ")"
   ]
  },
  {
   "cell_type": "code",
   "execution_count": 5,
   "id": "c923fce2-de6a-4fb2-844f-ac0a5913cb77",
   "metadata": {},
   "outputs": [],
   "source": [
    "def get_epoch_size(epoch):\n",
    "    idx = min(epoch, len(config.progressive_sizes)-1)\n",
    "    return config.progressive_sizes[idx]\n",
    "\n",
    "def collate_fn(batch, epoch):\n",
    "    img_size = get_epoch_size(epoch)\n",
    "    return torch.cat([\n",
    "        PILToTensor()(RandomCrop(img_size)(Resize(img_size)(sample['image']))).unsqueeze(0)\n",
    "        for sample in batch\n",
    "    ]).to(torch.float)/127.5 - 1.0"
   ]
  },
  {
   "cell_type": "code",
   "execution_count": 6,
   "id": "1fd35e91-63fe-4268-aac3-d1bf00b1c085",
   "metadata": {},
   "outputs": [
    {
     "data": {
      "text/html": [
       "\n",
       "<style>\n",
       "    /* Turns off some styling */\n",
       "    progress {\n",
       "        /* gets rid of default border in Firefox and Opera. */\n",
       "        border: none;\n",
       "        /* Needs to be in here for Safari polyfill so background images work as expected. */\n",
       "        background-size: auto;\n",
       "    }\n",
       "    progress:not([value]), progress:not([value])::-webkit-progress-bar {\n",
       "        background: repeating-linear-gradient(45deg, #7e7e7e, #7e7e7e 10px, #5c5c5c 10px, #5c5c5c 20px);\n",
       "    }\n",
       "    .progress-bar-interrupted, .progress-bar-interrupted::-webkit-progress-bar {\n",
       "        background: #F44336;\n",
       "    }\n",
       "</style>\n"
      ],
      "text/plain": [
       "<IPython.core.display.HTML object>"
      ]
     },
     "metadata": {},
     "output_type": "display_data"
    },
    {
     "data": {
      "text/html": [],
      "text/plain": [
       "<IPython.core.display.HTML object>"
      ]
     },
     "metadata": {},
     "output_type": "display_data"
    }
   ],
   "source": [
    "learning_rates_enc = [optimizer_enc.param_groups[0]['lr']]\n",
    "learning_rates_dec = [optimizer_dec.param_groups[0]['lr']]\n",
    "mb = master_bar(range(config.epochs))\n",
    "losses = []\n",
    "rate_losses = []\n",
    "\n",
    "global_step = 0\n",
    "model.train()\n",
    "for i_epoch in mb:\n",
    "    #-----Train-----\n",
    "    model.train()\n",
    "    dataloader_train = torch.utils.data.DataLoader(\n",
    "            dataset['train'],\n",
    "            batch_size=config.batch_size,\n",
    "            num_workers=config.num_workers,\n",
    "            drop_last=True,\n",
    "            shuffle=True,\n",
    "            collate_fn=lambda batch: collate_fn(batch, i_epoch)\n",
    "        )\n",
    "    pb = progress_bar(dataloader_train, parent=mb)\n",
    "    for i_batch, x in enumerate(pb):\n",
    "        x = x.to(device)\n",
    "        if i_epoch < config.encoder_epochs:\n",
    "            # Soft quantization with additive noise\n",
    "            z = model.encode(x)\n",
    "            z_noisy = model.quantize(z) \n",
    "            x_hat = model.decode(z_noisy)\n",
    "        else:\n",
    "            # Hard quantization\n",
    "            with torch.no_grad():\n",
    "                z = model.encode(x)\n",
    "                z_quant = model.quantize.compand(z).round()\n",
    "            x_hat = model.decode(z_quant)\n",
    "\n",
    "        # Loss and optimizer\n",
    "        total_loss = torch.nn.functional.mse_loss(x, x_hat).log10()\n",
    "        losses.append(total_loss.item())\n",
    "\n",
    "        if i_epoch < config.encoder_epochs:\n",
    "            rate = model.quantize.compand(z).std().log2()\n",
    "            rate_losses.append(rate.item())\n",
    "            total_loss += config.λ * rate\n",
    "            \n",
    "        total_loss.backward()\n",
    "\n",
    "        if i_epoch < config.encoder_epochs:\n",
    "            optimizer_enc.step()\n",
    "            optimizer_enc.zero_grad()\n",
    "            sched_enc.step()\n",
    "            learning_rates_enc.append(optimizer_enc.param_groups[0]['lr'])\n",
    "\n",
    "        optimizer_dec.step()\n",
    "        optimizer_dec.zero_grad()\n",
    "        sched_dec.step()\n",
    "        learning_rates_dec.append(optimizer_dec.param_groups[0]['lr'])\n",
    "        \n",
    "        pb.comment = (f\"PSNR: {-10 * losses[-1] + 6.02:.3g}, R: {rate:.2g}, \"\n",
    "                      f\"LR_enc: {learning_rates_enc[-1]:.2g}, LR_dec: {learning_rates_dec[-1]:.2g}\")\n",
    "        global_step += 1\n",
    "\n",
    "    torch.save({\n",
    "        'config': config,\n",
    "        'state_dict': model.state_dict()\n",
    "    }, 'checkpoint.pth')"
   ]
  },
  {
   "cell_type": "code",
   "execution_count": 7,
   "id": "082e9000-a698-4d03-a9aa-5663f8512e1d",
   "metadata": {},
   "outputs": [
    {
     "data": {
      "text/html": [
       "\n",
       "    <div>\n",
       "      <progress value='6' class='' max='6' style='width:300px; height:20px; vertical-align: middle;'></progress>\n",
       "      100.00% [6/6 1:09:23&lt;00:00]\n",
       "    </div>\n",
       "    "
      ],
      "text/plain": [
       "<IPython.core.display.HTML object>"
      ]
     },
     "metadata": {},
     "output_type": "display_data"
    },
    {
     "data": {
      "text/html": [
       "\n",
       "    <div>\n",
       "      <progress value='5311' class='' max='5311' style='width:300px; height:20px; vertical-align: middle;'></progress>\n",
       "      100.00% [5311/5311 24:58&lt;00:00 PSNR: 24.8, R: 1.3, LR_enc: 4e-06, LR_dec: 4e-06]\n",
       "    </div>\n",
       "    "
      ],
      "text/plain": [
       "<IPython.core.display.HTML object>"
      ]
     },
     "metadata": {},
     "output_type": "display_data"
    },
    {
     "data": {
      "image/png": "[encoded data removed]",
      "text/plain": [
       "<Figure size 640x480 with 2 Axes>"
      ]
     },
     "metadata": {},
     "output_type": "display_data"
    }
   ],
   "source": [
    "display(HTML(mb.main_bar.progress))\n",
    "display(HTML(pb.progress))\n",
    "fig, ax1 = plt.subplots()\n",
    "ax1.plot(-10*np.array(losses)+6.02)\n",
    "ax1.set_yticks(range(15,36))\n",
    "ax1.set_ylim([15,35])\n",
    "ax1.grid(True)\n",
    "ax1.tick_params(axis='y', labelcolor='blue')\n",
    "ax2 = ax1.twinx()\n",
    "ax2.plot(-10*np.array(rate_losses), color='red', alpha=0.5)\n",
    "ax2.tick_params(axis='y', labelcolor='red')\n",
    "plt.show()"
   ]
  },
  {
   "cell_type": "code",
   "execution_count": 8,
   "id": "5694919d-3605-4c37-a853-1d24dc401774",
   "metadata": {},
   "outputs": [],
   "source": [
    "# torch.save({\n",
    "#     'config': config,\n",
    "#     'state_dict': model.state_dict()\n",
    "# }, '../hf/dance/LF_rgb_f16c12_v1.6_pf.pth')"
   ]
  },
  {
   "cell_type": "code",
   "execution_count": 8,
   "id": "bcb1f01c-2e40-43df-a46d-c4c575e8802a",
   "metadata": {},
   "outputs": [
    {
     "name": "stdout",
     "output_type": "stream",
     "text": [
      "4.782 KB\n",
      "144.54203262233375x compression ratio\n",
      "64.0x dimension reduction\n",
      "22.66757490158081 dB PSNR\n"
     ]
    }
   ],
   "source": [
    "model.eval()\n",
    "config.img_size=480\n",
    "img = CenterCrop(config.img_size)(dataset['validation'][28]['image'])\n",
    "x = PILToTensor()(img).to(device).unsqueeze(0).to(torch.float) / 127.5 - 1.0\n",
    "x_orig = x[0]\n",
    "orig_dim = x.numel()\n",
    "\n",
    "if True:\n",
    "    model.eval()\n",
    "    with torch.no_grad():\n",
    "        z = model.encode(x)\n",
    "        latent = model.quantize.compand(z).round()\n",
    "    webp = latent_to_pil(latent.cpu(),n_bits=8, C=3)\n",
    "    buff = io.BytesIO()\n",
    "    webp[0].save(buff, format='WEBP', lossless=True)\n",
    "    size_bytes = len(buff.getbuffer())\n",
    "    print(f\"{size_bytes/1e3} KB\")\n",
    "    print(f\"{orig_dim/size_bytes}x compression ratio\")\n",
    "    print(f\"{orig_dim/latent.numel()}x dimension reduction\")\n",
    "    latent_decoded = pil_to_latent(webp, N=config.latent_dim, n_bits=8, C=3).to(device)\n",
    "else:\n",
    "    model.train()\n",
    "    with torch.no_grad():\n",
    "        z = model.encode(x)\n",
    "        latent_decoded = model.quantize(z)\n",
    "\n",
    "with torch.no_grad():\n",
    "    x_hat = model.decode(latent_decoded)\n",
    "    x_hat = x_hat.clamp(-1,1)\n",
    "mse = torch.nn.functional.mse_loss(x,x_hat)\n",
    "PSNR = -10*mse.log10().item() + 6.02\n",
    "print(f\"{PSNR} dB PSNR\")\n",
    "# display(webp[0])\n",
    "# ToPILImage()(x_hat[0]/2+0.5)"
   ]
  },
  {
   "cell_type": "code",
   "execution_count": 10,
   "id": "cd7862bc-0d72-411d-90c2-126861f18fb0",
   "metadata": {},
   "outputs": [
    {
     "name": "stdout",
     "output_type": "stream",
     "text": [
      "bpc: 3.4395094267646313, cr: 148.8584377806494\n"
     ]
    },
    {
     "data": {
      "image/png": "[encoded data removed]",
      "text/plain": [
       "<Figure size 640x480 with 1 Axes>"
      ]
     },
     "metadata": {},
     "output_type": "display_data"
    }
   ],
   "source": [
    "from torch.distributions import Categorical\n",
    "x_int8 = torch.tensor(np.array(webp[0]))\n",
    "h = plt.hist(x_int8.flatten(),range=(-0.5,255.5),bins=256,width=0.8,density=True)\n",
    "bpc = np.log2(np.exp(1))*Categorical(torch.tensor(h[0])).entropy()\n",
    "plt.xlim([110,143])\n",
    "print(f\"bpc: {bpc.item()}, cr: {orig_dim/latent.numel()*(8/bpc.item())}\")"
   ]
  },
  {
   "cell_type": "code",
   "execution_count": 11,
   "id": "a7151481-9c5c-48b6-9bbc-e026cc5b9963",
   "metadata": {},
   "outputs": [
    {
     "data": {
      "text/plain": [
       "-1.5336647570648883"
      ]
     },
     "execution_count": 11,
     "metadata": {},
     "output_type": "execute_result"
    }
   ],
   "source": [
    "1/(np.mean(rate_losses[-100:])/np.mean(losses[-100:]))"
   ]
  }
 ],
 "metadata": {
  "kernelspec": {
   "display_name": "Python 3 (ipykernel)",
   "language": "python",
   "name": "python3"
  },
  "language_info": {
   "codemirror_mode": {
    "name": "ipython",
    "version": 3
   },
   "file_extension": ".py",
   "mimetype": "text/x-python",
   "name": "python",
   "nbconvert_exporter": "python",
   "pygments_lexer": "ipython3",
   "version": "3.10.12"
  }
 },
 "nbformat": 4,
 "nbformat_minor": 5
}
