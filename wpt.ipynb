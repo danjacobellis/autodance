{
 "cells": [
  {
   "cell_type": "code",
   "execution_count": 1,
   "id": "8ef0f771-477a-4dcd-9eb4-52cdc4e45197",
   "metadata": {},
   "outputs": [],
   "source": [
    "import torch\n",
    "from wt import DWT1DForward, DWT1DInverse, DWT2DForward, DWT2DInverse\n",
    "from tft.transforms import WPT1D, WPT2D, IWPT1D, IWPT2D\n",
    "\n",
    "wt1d = DWT1DForward(J=1, mode='periodization', wave='bior4.4')\n",
    "wpt1d = WPT1D(wt=wt1d, J=8)\n",
    "iwt1d = DWT1DInverse(mode='periodization', wave='bior4.4')\n",
    "iwpt1d = IWPT1D(iwt=iwt1d, J=8)\n",
    "\n",
    "wt2d = DWT2DForward(J=1, mode='periodization', wave='bior4.4')\n",
    "wpt2d = WPT2D(wt=wt2d, J=4)\n",
    "iwt2d = DWT2DInverse(mode='periodization', wave='bior4.4')\n",
    "iwpt2d = IWPT2D(iwt=iwt2d, J=4)\n",
    "\n",
    "b = 4; c = 12; h = 384; w = 256; ℓ = 49152\n",
    "x1d = torch.randn(b, c, ℓ)\n",
    "x2d = torch.randn(b, c, h, w)\n",
    "\n",
    "with torch.no_grad():\n",
    "    X1d = wpt1d(x1d)\n",
    "    xhat1d = iwpt1d(X1d)\n",
    "    X2d = wpt2d(x2d)\n",
    "    xhat2d = iwpt2d(X2d)\n",
    "\n",
    "assert (xhat1d - x1d).abs().max() < 1e-5\n",
    "assert (xhat2d - x2d).abs().max() < 1e-5"
   ]
  }
 ],
 "metadata": {
  "kernelspec": {
   "display_name": "Python 3 (ipykernel)",
   "language": "python",
   "name": "python3"
  },
  "language_info": {
   "codemirror_mode": {
    "name": "ipython",
    "version": 3
   },
   "file_extension": ".py",
   "mimetype": "text/x-python",
   "name": "python",
   "nbconvert_exporter": "python",
   "pygments_lexer": "ipython3",
   "version": "3.10.12"
  }
 },
 "nbformat": 4,
 "nbformat_minor": 5
}
