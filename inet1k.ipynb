{
 "cells": [
  {
   "cell_type": "code",
   "execution_count": 1,
   "id": "65434349-eb3f-472f-8eb0-51eb09fd6ba3",
   "metadata": {},
   "outputs": [],
   "source": [
    "import warnings\n",
    "import torch\n",
    "import numpy as np\n",
    "import random\n",
    "import math\n",
    "import matplotlib.pyplot as plt\n",
    "from IPython.display import display, HTML\n",
    "from types import SimpleNamespace\n",
    "from datasets import load_dataset\n",
    "from timm.optim import Mars\n",
    "from autocodec.codec import AutoCodecND, latent_to_pil, pil_to_latent\n",
    "from autocodec.evit import EfficientVitLargeStageND\n",
    "from torchvision.transforms.v2 import (\n",
    "    Compose, RandomCrop, CenterCrop, \n",
    "    PILToTensor, ToDtype, MixUp, ToPILImage\n",
    ")\n",
    "from torchvision.transforms.v2.functional import to_pil_image, pil_to_tensor\n",
    "from fastprogress.fastprogress import master_bar, progress_bar\n",
    "import copy\n",
    "import PIL.Image"
   ]
  },
  {
   "cell_type": "code",
   "execution_count": 2,
   "id": "a13d07b4-216e-4aeb-a71c-267a306dd8a7",
   "metadata": {},
   "outputs": [],
   "source": [
    "torch.set_float32_matmul_precision('highest')\n",
    "device = \"cuda:0\"\n",
    "dataset_train = load_dataset('danjacobellis/inet1k_compressed', split='train')\n",
    "dataset_valid = load_dataset('danjacobellis/inet1k_compressed', split='validation')"
   ]
  },
  {
   "cell_type": "code",
   "execution_count": 3,
   "id": "1d780ec5-f8dd-4444-98a3-6a123e10828b",
   "metadata": {},
   "outputs": [],
   "source": [
    "config = SimpleNamespace()\n",
    "config.epochs = 48\n",
    "config.batch_size = 128\n",
    "config.steps_per_epoch = dataset_train.num_rows // config.batch_size\n",
    "config.total_steps = config.epochs * config.steps_per_epoch\n",
    "\n",
    "config.num_workers = 32\n",
    "config.grad_accum_steps = 1\n",
    "config.max_lr = 5e-4 * (config.batch_size/128)\n",
    "config.min_lr = config.max_lr/1e6;\n",
    "config.lr_pow = 6; assert (config.lr_pow/2)%1 == 0\n",
    "\n",
    "config.weight_decay = 0.1\n",
    "config.no_wd_keys = ['norm', 'bias']\n",
    "\n",
    "config.progressive_sizes = 6*[6] + [8,10,12] + 3*[14] \n",
    "\n",
    "config.mixup_alpha = 1.0\n",
    "config.label_smoothing = 0.1\n",
    "\n",
    "config.mesa = True\n",
    "config.ema_decay = 0.999\n",
    "config.mesa_ratio = 2.0\n",
    "config.mesa_start = 0.25\n",
    "\n",
    "config.channels=12\n",
    "config.classifier_num_classes=1000\n",
    "\n",
    "config.log_filename = 'log'"
   ]
  },
  {
   "cell_type": "code",
   "execution_count": 4,
   "id": "cebc8a3f-2f13-4d95-b6ca-80703a855fda",
   "metadata": {},
   "outputs": [
    {
     "name": "stdout",
     "output_type": "stream",
     "text": [
      "90.289896\n",
      "1.184256 \t stem\n",
      "74.488832 \t stages\n",
      "14.616808 \t head\n"
     ]
    }
   ],
   "source": [
    "from timm.models.efficientvit_mit import EfficientVitLarge, GELUTanh\n",
    "from autocodec.evit import GroupNorm8\n",
    "\n",
    "model = EfficientVitLarge(\n",
    "    in_chans=config.channels,\n",
    "    widths=(256,512,),\n",
    "    depths=(1,6,),\n",
    "    head_dim=32,\n",
    "    norm_layer=GroupNorm8,\n",
    "    act_layer=GELUTanh,\n",
    "    global_pool='avg',\n",
    "    head_widths=(3072, 3200),\n",
    "    drop_rate=0.0,\n",
    "    num_classes=config.classifier_num_classes\n",
    ")\n",
    "model.stem.in_conv.conv = torch.nn.Conv2d(12,256, kernel_size=1, stride=1, bias=False)\n",
    "model.head.in_conv.norm = torch.nn.GroupNorm(\n",
    "    num_groups=8,\n",
    "    num_channels=model.head.in_conv.norm.num_features,\n",
    "    affine=model.head.in_conv.norm.affine,\n",
    "    eps=model.head.in_conv.norm.eps\n",
    ")\n",
    "\n",
    "model.to(device)\n",
    "\n",
    "print(sum(p.numel() for p in model.parameters())/1e6)\n",
    "for name, module in model.named_children():\n",
    "    print(f\"{sum(p.numel() for p in module.parameters())/1e6} \\t {name}\")\n"
   ]
  },
  {
   "cell_type": "code",
   "execution_count": 5,
   "id": "6022268e-4f38-4f3f-95bc-6cf9008a7ac1",
   "metadata": {},
   "outputs": [],
   "source": [
    "param_groups = []\n",
    "for name, p in model.named_parameters():\n",
    "    if p.requires_grad:\n",
    "        use_wd = True\n",
    "        for kw in config.no_wd_keys:\n",
    "            if kw in name.lower():\n",
    "                use_wd = False\n",
    "                break\n",
    "        wd_val = config.weight_decay if use_wd else 0.0\n",
    "        param_groups.append({'params': [p], 'weight_decay': wd_val})\n",
    "\n",
    "optimizer = Mars(param_groups, lr=1.0, weight_decay=0.0, caution=True)\n",
    "\n",
    "def rc_sched(i_step, config):\n",
    "    t = i_step / config.total_steps\n",
    "    return (config.max_lr - config.min_lr) * (1 - ((np.cos(np.pi*t))**(2*config.lr_pow))) + config.min_lr\n",
    "\n",
    "schedule = torch.optim.lr_scheduler.LambdaLR(\n",
    "    optimizer,\n",
    "    lr_lambda=lambda i_step: rc_sched(i_step, config)\n",
    ")"
   ]
  },
  {
   "cell_type": "code",
   "execution_count": 34,
   "id": "1f610425-e727-40e5-b735-a0c304b80777",
   "metadata": {},
   "outputs": [],
   "source": [
    "# learning_rates = [optimizer.param_groups[0]['lr']]\n",
    "# for i_step in range(config.total_steps):\n",
    "#     schedule.step()\n",
    "#     learning_rates.append(optimizer.param_groups[0]['lr'])\n",
    "# plt.plot(learning_rates)"
   ]
  },
  {
   "cell_type": "code",
   "execution_count": 6,
   "id": "3342b886-54da-455b-ba10-6a5c0cfede5e",
   "metadata": {},
   "outputs": [],
   "source": [
    "class EMAHelper:\n",
    "    def __init__(self, model, decay=0.9999):\n",
    "        self.decay = decay\n",
    "        self.teacher = copy.deepcopy(model)\n",
    "        for p in self.teacher.parameters():\n",
    "            p.requires_grad_(False)\n",
    "\n",
    "    def update(self, student):\n",
    "        with torch.no_grad():\n",
    "            d = self.decay\n",
    "            for tparam, sparam in zip(self.teacher.parameters(), student.parameters()):\n",
    "                tparam.copy_(tparam * d + sparam * (1 - d))\n",
    "    \n",
    "    def forward(self, x):\n",
    "        return self.teacher(x)"
   ]
  },
  {
   "cell_type": "code",
   "execution_count": 7,
   "id": "935afcfd-41b7-4462-a1a3-1a504c16ded8",
   "metadata": {},
   "outputs": [],
   "source": [
    "mixup_tfm = MixUp(alpha=config.mixup_alpha, num_classes=config.classifier_num_classes)\n",
    "\n",
    "def get_epoch_size(epoch):\n",
    "    stage_len = config.epochs // len(config.progressive_sizes)\n",
    "    idx = min(epoch // stage_len, len(config.progressive_sizes)-1)\n",
    "    return config.progressive_sizes[idx]\n",
    "\n",
    "def build_train_prebatch_transform(epoch):\n",
    "    return Compose([\n",
    "        RandomCrop(get_epoch_size(epoch)),\n",
    "        PILToTensor(),\n",
    "        ToDtype(torch.float32,scale=False),\n",
    "    ])\n",
    "\n",
    "def build_valid_transform():\n",
    "    return Compose([\n",
    "        CenterCrop(config.progressive_sizes[-1]),\n",
    "        PILToTensor(),\n",
    "        ToDtype(torch.float32,scale=False),\n",
    "    ])\n",
    "    \n",
    "def train_collate_fn(batch, epoch):\n",
    "    transform = build_train_prebatch_transform(epoch)\n",
    "    x_list, y_list = [], []\n",
    "    for sample in batch:\n",
    "        latent = pil_to_latent([sample['image']], N=12, n_bits=8, C=3)[0]\n",
    "        x_ = transform(latent)\n",
    "        x_list.append(x_)\n",
    "        y_list.append(sample['cls'])\n",
    "    x = torch.stack(x_list, dim=0)\n",
    "    y = torch.tensor(y_list, dtype=torch.long)\n",
    "    return x, torch.nn.functional.one_hot(y, num_classes=config.classifier_num_classes)\n",
    "\n",
    "def valid_collate_fn(batch):\n",
    "    transform = build_valid_transform()\n",
    "    x_list, y_list = [], []\n",
    "    for sample in batch:\n",
    "        latent = pil_to_latent([sample['image']], N=12, n_bits=8, C=3)[0]\n",
    "        x_ = transform(latent)\n",
    "        y_ = sample['cls']\n",
    "        x_list.append(x_)\n",
    "        y_list.append(y_)\n",
    "    x = torch.stack(x_list, dim=0)\n",
    "    y = torch.tensor(y_list, dtype=torch.long)\n",
    "    return x, y"
   ]
  },
  {
   "cell_type": "code",
   "execution_count": null,
   "id": "0f1c6ecb-4940-4b19-9ee5-a116eb1d9fb9",
   "metadata": {},
   "outputs": [],
   "source": [
    "learning_rates = [optimizer.param_groups[0]['lr']]\n",
    "\n",
    "ema_helper = EMAHelper(model, decay=config.ema_decay) if config.mesa else None\n",
    "\n",
    "mb = master_bar(range(config.epochs))\n",
    "global_step = 0\n",
    "\n",
    "train_losses = []\n",
    "valid_accs = []\n",
    "\n",
    "for i_epoch in mb:\n",
    "    model.train()\n",
    "    if ema_helper:\n",
    "        ema_helper.teacher.eval()\n",
    "\n",
    "    train_loader = torch.utils.data.DataLoader(\n",
    "        dataset_train,\n",
    "        batch_size=config.batch_size,\n",
    "        shuffle=True,\n",
    "        num_workers=config.num_workers,\n",
    "        drop_last=True,\n",
    "        pin_memory=True,\n",
    "        collate_fn=lambda batch: train_collate_fn(batch,i_epoch)\n",
    "    )\n",
    "\n",
    "    # Training\n",
    "    pb = progress_bar(train_loader, parent=mb)\n",
    "    for (x, y) in pb:\n",
    "        x, y = x.to(device), y.to(device)\n",
    "\n",
    "        (x, y) = mixup_tfm((x, y))\n",
    "\n",
    "        if config.label_smoothing>0:\n",
    "            y = (1 - config.label_smoothing) * y + config.label_smoothing / config.classifier_num_classes\n",
    "\n",
    "        logits = model(x)\n",
    "        loss = torch.nn.BCEWithLogitsLoss()(logits, y)\n",
    "        if global_step % 128 == 0:\n",
    "            train_losses.append(loss.item())\n",
    "\n",
    "        if ema_helper:\n",
    "            frac = i_epoch / config.epochs\n",
    "            if frac >= config.mesa_start:\n",
    "                with torch.no_grad():\n",
    "                    teacher_out = ema_helper.teacher(x)\n",
    "                teacher_prob = torch.sigmoid(teacher_out)\n",
    "                student_prob = torch.sigmoid(logits)\n",
    "                mesa_loss = torch.nn.functional.binary_cross_entropy(student_prob, teacher_prob)\n",
    "                loss = loss + config.mesa_ratio * mesa_loss\n",
    "\n",
    "        optimizer.zero_grad()\n",
    "        loss.backward()\n",
    "        torch.nn.utils.clip_grad_norm_(model.parameters(), 5.0, norm_type=2.0)\n",
    "        optimizer.step()\n",
    "\n",
    "        if ema_helper:\n",
    "            ema_helper.update(model)\n",
    "\n",
    "        schedule.step()\n",
    "        learning_rates.append(optimizer.param_groups[0]['lr'])\n",
    "        global_step += 1\n",
    "\n",
    "    model.eval()\n",
    "    correct = 0\n",
    "\n",
    "    val_loader = torch.utils.data.DataLoader(\n",
    "        dataset_valid,\n",
    "        batch_size=config.batch_size,\n",
    "        shuffle=False,\n",
    "        num_workers=config.num_workers,\n",
    "        drop_last=False,\n",
    "        pin_memory=True,\n",
    "        collate_fn=valid_collate_fn\n",
    "    )\n",
    "    for (xv, yv) in progress_bar(val_loader, parent=mb):\n",
    "        xv, yv = xv.to(device), yv.to(device)\n",
    "        with torch.no_grad():\n",
    "            logits_val = model(xv)\n",
    "        preds = logits_val.argmax(dim=1)\n",
    "        correct += (preds == yv).sum().item()\n",
    "\n",
    "    val_acc = correct / dataset_valid.num_rows\n",
    "    valid_accs.append(val_acc)\n",
    "\n",
    "    mb.main_bar.comment = f\"Epoch={i_epoch} | Train Loss={train_losses[-1]:.4f} | Val Acc={val_acc:.4f}\"\n",
    "    torch.save({\n",
    "        'i_epoch': i_epoch,\n",
    "        'model_state_dict': model.state_dict(),\n",
    "        'ema_state_dict': ema_helper.teacher.state_dict() if ema_helper else None,\n",
    "        'optimizer_state_dict': optimizer.state_dict(),\n",
    "        'train_loss': train_losses,\n",
    "        'valid_acc': valid_accs,\n",
    "        'config': vars(config),\n",
    "    }, f'{config.log_filename}.pth')"
   ]
  },
  {
   "cell_type": "code",
   "execution_count": 9,
   "id": "5ca7925e-d032-4832-b2b6-7395cc9c4f6a",
   "metadata": {},
   "outputs": [
    {
     "data": {
      "text/html": [
       "\n",
       "    <div>\n",
       "      <progress value='21' class='' max='48' style='width:300px; height:20px; vertical-align: middle;'></progress>\n",
       "      43.75% [21/48 2:09:45&lt;2:46:49 Epoch=20 | Train Loss=0.0072 | Val Acc=0.1409]\n",
       "    </div>\n",
       "    "
      ],
      "text/plain": [
       "<IPython.core.display.HTML object>"
      ]
     },
     "metadata": {},
     "output_type": "display_data"
    },
    {
     "data": {
      "text/html": [
       "\n",
       "    <div>\n",
       "      <progress value='2939' class='' max='10009' style='width:300px; height:20px; vertical-align: middle;'></progress>\n",
       "      29.36% [2939/10009 01:54&lt;04:35]\n",
       "    </div>\n",
       "    "
      ],
      "text/plain": [
       "<IPython.core.display.HTML object>"
      ]
     },
     "metadata": {},
     "output_type": "display_data"
    }
   ],
   "source": [
    "display(HTML(mb.main_bar.progress))\n",
    "display(HTML(mb.child.progress))"
   ]
  },
  {
   "cell_type": "code",
   "execution_count": 10,
   "id": "12c0fcd6-35d5-441a-806a-d3cc64e52c5e",
   "metadata": {},
   "outputs": [
    {
     "data": {
      "text/plain": [
       "[<matplotlib.lines.Line2D at 0x76f26dcb37c0>]"
      ]
     },
     "execution_count": 10,
     "metadata": {},
     "output_type": "execute_result"
    },
    {
     "data": {
      "image/png": "[encoded data removed]",
      "text/plain": [
       "<Figure size 640x480 with 1 Axes>"
      ]
     },
     "metadata": {},
     "output_type": "display_data"
    }
   ],
   "source": [
    "plt.plot(learning_rates)"
   ]
  },
  {
   "cell_type": "code",
   "execution_count": 11,
   "id": "fca0168f-b012-4232-bd06-16324e1ec560",
   "metadata": {},
   "outputs": [
    {
     "data": {
      "text/plain": [
       "[<matplotlib.lines.Line2D at 0x76f26b29aa40>]"
      ]
     },
     "execution_count": 11,
     "metadata": {},
     "output_type": "execute_result"
    },
    {
     "data": {
      "image/png": "[encoded data removed]",
      "text/plain": [
       "<Figure size 640x480 with 1 Axes>"
      ]
     },
     "metadata": {},
     "output_type": "display_data"
    }
   ],
   "source": [
    "plt.plot(train_losses[50:])"
   ]
  },
  {
   "cell_type": "code",
   "execution_count": 12,
   "id": "2d3a2c8e-808f-48ac-a744-79a13c9d7c7d",
   "metadata": {},
   "outputs": [
    {
     "data": {
      "text/plain": [
       "[<matplotlib.lines.Line2D at 0x76f26f122170>]"
      ]
     },
     "execution_count": 12,
     "metadata": {},
     "output_type": "execute_result"
    },
    {
     "data": {
      "image/png": "[encoded data removed]",
      "text/plain": [
       "<Figure size 640x480 with 1 Axes>"
      ]
     },
     "metadata": {},
     "output_type": "display_data"
    }
   ],
   "source": [
    "plt.plot(valid_accs)"
   ]
  },
  {
   "cell_type": "code",
   "execution_count": null,
   "id": "fa9a1297-66ac-4cdb-91d9-a60fa30539e5",
   "metadata": {},
   "outputs": [],
   "source": [
    "# ema_helper.teacher.eval()\n",
    "# for resolution, crop_size in [(224,224),(256,224),(256,256),(288,224),(288,256),(288,288)]:\n",
    "#     def valid_collate_fn(batch):\n",
    "#         transform = Compose([\n",
    "#                 Resize(resolution, interpolation=PIL.Image.Resampling.LANCZOS),\n",
    "#                 CenterCrop(crop_size),\n",
    "#                 PILToTensor(),\n",
    "#                 ToDtype(torch.float32,scale=False),\n",
    "#                 lambda x: x/127.5 - 1.0 ])\n",
    "#         x_list, y_list = [], []\n",
    "#         for sample in batch:\n",
    "#             img = sample['jpg'].convert(\"RGB\")\n",
    "#             x_ = transform(img)\n",
    "#             y_ = sample['cls']\n",
    "#             x_list.append(x_)\n",
    "#             y_list.append(y_)\n",
    "#         x = torch.stack(x_list, dim=0)\n",
    "#         y = torch.tensor(y_list, dtype=torch.long)\n",
    "#         return x, y\n",
    "        \n",
    "#     val_loader = torch.utils.data.DataLoader(\n",
    "#         dataset_valid,\n",
    "#         batch_size=config.batch_size,\n",
    "#         shuffle=False,\n",
    "#         num_workers=config.num_workers,\n",
    "#         drop_last=False,\n",
    "#         pin_memory=True,\n",
    "#         collate_fn=valid_collate_fn\n",
    "#     )\n",
    "\n",
    "#     correct = 0\n",
    "#     for (xv, yv) in progress_bar(val_loader):\n",
    "#         xv, yv = xv.to(device), yv.to(device)\n",
    "#         with torch.no_grad():\n",
    "#             logits_val =  ema_helper.teacher(xv)\n",
    "#         preds = logits_val.argmax(dim=1)\n",
    "#         correct += (preds == yv).sum().item()\n",
    "#     print(f\"resolution: {resolution}, crop size: {crop_size}, acc:{correct/dataset_valid.num_rows}\")"
   ]
  },
  {
   "cell_type": "code",
   "execution_count": null,
   "id": "c05670d3-2ea2-46b0-9b6e-12c08b009ab9",
   "metadata": {},
   "outputs": [],
   "source": [
    "# ema_helper.teacher.eval()\n",
    "# transform = Compose([\n",
    "#     PILToTensor(),\n",
    "#     ToDtype(torch.float32,scale=False),\n",
    "#     lambda x: x/127.5 - 1.0 ])\n",
    "\n",
    "# for resolution in [192,224,256,288]:\n",
    "#     correct = 0\n",
    "#     seq_len = []\n",
    "#     for sample in progress_bar(dataset_valid):\n",
    "    \n",
    "#         img = sample['jpg'].convert(\"RGB\")\n",
    "#         aspect = img.width/img.height;\n",
    "#         aspect = 1/aspect if aspect < 1 else aspect\n",
    "#         img = Resize(int(32*((resolution/(aspect)**0.5)//32)),interpolation=PIL.Image.Resampling.LANCZOS)(img)\n",
    "#         img = CenterCrop((32*(img.height//32),32*(img.width//32)))(img)\n",
    "\n",
    "#         xv = transform(img).to(device).unsqueeze(0)\n",
    "#         seq_len.append(xv.shape[2]*xv.shape[3]/32/32)\n",
    "#         yv = torch.tensor(sample['cls'],dtype=torch.long).to(device)\n",
    "        \n",
    "#         with torch.no_grad():\n",
    "#             logits_val =  ema_helper.teacher(xv)\n",
    "#         preds = logits_val.argmax(dim=1)\n",
    "#         correct += (preds == yv).sum().item()\n",
    "#     print(f\"resolution: {resolution}, seq_len: {np.mean(seq_len)}, acc:{correct/dataset_valid.num_rows}\")"
   ]
  },
  {
   "cell_type": "code",
   "execution_count": null,
   "id": "7c63031d-b9cd-4bd2-95f9-bc3216112c88",
   "metadata": {},
   "outputs": [],
   "source": [
    "# for resolution in [320,352,384,416,448,480]:\n",
    "#     correct = 0\n",
    "#     seq_len = []\n",
    "#     for sample in progress_bar(dataset_valid):\n",
    "    \n",
    "#         img = sample['jpg'].convert(\"RGB\")\n",
    "#         aspect = img.width/img.height;\n",
    "#         aspect = 1/aspect if aspect < 1 else aspect\n",
    "#         img = Resize(int(32*((resolution/(aspect)**0.5)//32)),interpolation=PIL.Image.Resampling.LANCZOS)(img)\n",
    "#         img = CenterCrop((32*(img.height//32),32*(img.width//32)))(img)\n",
    "\n",
    "#         xv = transform(img).to(device).unsqueeze(0)\n",
    "#         seq_len.append(xv.shape[2]*xv.shape[3]/32/32)\n",
    "#         yv = torch.tensor(sample['cls'],dtype=torch.long).to(device)\n",
    "        \n",
    "#         with torch.no_grad():\n",
    "#             logits_val =  ema_helper.teacher(xv)\n",
    "#         preds = logits_val.argmax(dim=1)\n",
    "#         correct += (preds == yv).sum().item()\n",
    "#     print(f\"resolution: {resolution}, seq_len: {np.mean(seq_len)}, acc:{correct/dataset_valid.num_rows}\")"
   ]
  },
  {
   "cell_type": "code",
   "execution_count": null,
   "id": "29704d93-9d09-4ddc-83d2-a2818b92d924",
   "metadata": {},
   "outputs": [],
   "source": [
    "# torch.save({\n",
    "#     'i_epoch': i_epoch,\n",
    "#     'model_state_dict': model.state_dict(),\n",
    "#     'ema_state_dict': ema_helper.teacher.state_dict() if ema_helper else None,\n",
    "#     'optimizer_state_dict': optimizer.state_dict(),\n",
    "#     'train_loss': train_losses,\n",
    "#     'valid_acc': valid_accs,\n",
    "#     'config': vars(config),\n",
    "# }, f'../../hf/tft/noaug.pth')"
   ]
  }
 ],
 "metadata": {
  "kernelspec": {
   "display_name": "Python 3 (ipykernel)",
   "language": "python",
   "name": "python3"
  },
  "language_info": {
   "codemirror_mode": {
    "name": "ipython",
    "version": 3
   },
   "file_extension": ".py",
   "mimetype": "text/x-python",
   "name": "python",
   "nbconvert_exporter": "python",
   "pygments_lexer": "ipython3",
   "version": "3.10.12"
  }
 },
 "nbformat": 4,
 "nbformat_minor": 5
}
