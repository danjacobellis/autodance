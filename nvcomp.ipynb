{
 "cells": [
  {
   "cell_type": "code",
   "execution_count": 1,
   "id": "3e484da3-62e8-434e-8348-117411a7403e",
   "metadata": {},
   "outputs": [],
   "source": [
    "import torch\n",
    "import nvidia.nvcomp as nvcomp\n",
    "\n",
    "def encode(codec, x):\n",
    "    assert x.dtype == torch.uint8, \"Input tensor must be of type torch.uint8\"\n",
    "    shape = x.shape\n",
    "    x_flat = x.contiguous().view(-1)\n",
    "    nvcomp_array = nvcomp.as_array(x_flat)\n",
    "    c = codec.encode(nvcomp_array)\n",
    "    return c, shape\n",
    "\n",
    "def decode(codec, c, shape):\n",
    "    decompressed_array = codec.decode(c)\n",
    "    xhat_flat = torch.utils.dlpack.from_dlpack(decompressed_array.to_dlpack())\n",
    "    xhat = xhat_flat.view(shape)\n",
    "    return xhat"
   ]
  },
  {
   "cell_type": "code",
   "execution_count": 2,
   "id": "85ea2122-a9f3-4d9b-8f68-bf0ff46ecb17",
   "metadata": {},
   "outputs": [],
   "source": [
    "x = torch.ones((1, 3, 256, 256), dtype=torch.uint8, device='cuda')\n",
    "codec = nvcomp.Codec(algorithm=\"bitcomp\", data_type='|u1', algorithm_type=0)"
   ]
  },
  {
   "cell_type": "code",
   "execution_count": 3,
   "id": "0329ecd2-b2c7-4422-bcef-4a1c3aefff0c",
   "metadata": {},
   "outputs": [
    {
     "name": "stdout",
     "output_type": "stream",
     "text": [
      "Ratio: 327.68\n"
     ]
    }
   ],
   "source": [
    "c, shape = encode(codec, x)\n",
    "print(f\"Ratio: {x.numel()/c.buffer_size}\")\n",
    "xhat = decode(codec, c, shape)\n",
    "assert torch.equal(x, xhat)"
   ]
  }
 ],
 "metadata": {
  "kernelspec": {
   "display_name": "Python 3 (ipykernel)",
   "language": "python",
   "name": "python3"
  },
  "language_info": {
   "codemirror_mode": {
    "name": "ipython",
    "version": 3
   },
   "file_extension": ".py",
   "mimetype": "text/x-python",
   "name": "python",
   "nbconvert_exporter": "python",
   "pygments_lexer": "ipython3",
   "version": "3.10.12"
  }
 },
 "nbformat": 4,
 "nbformat_minor": 5
}
