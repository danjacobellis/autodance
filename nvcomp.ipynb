{
 "cells": [
  {
   "cell_type": "code",
   "execution_count": 1,
   "id": "cc05740d-e9a1-4f5c-9bbf-cbea7ef5f02b",
   "metadata": {},
   "outputs": [],
   "source": [
    "import torch\n",
    "import numpy as np\n",
    "import nvidia.nvcomp as nvcomp\n",
    "import PIL.Image\n",
    "import matplotlib.pyplot as plt\n",
    "from torchvision.transforms.v2.functional import pil_to_tensor\n",
    "from torch.distributions import Categorical"
   ]
  },
  {
   "cell_type": "code",
   "execution_count": 2,
   "id": "71515a72-4be3-4666-95af-edc9c99841b3",
   "metadata": {},
   "outputs": [
    {
     "name": "stdout",
     "output_type": "stream",
     "text": [
      "tensor(2.0340, dtype=torch.float64)\n"
     ]
    },
    {
     "data": {
      "image/png": "[encoded data removed]",
      "text/plain": [
       "<Figure size 640x480 with 1 Axes>"
      ]
     },
     "metadata": {},
     "output_type": "display_data"
    }
   ],
   "source": [
    "device = \"cuda\"\n",
    "x = pil_to_tensor(PIL.Image.open(\"compressed.png\")).to(device)\n",
    "x = (x.to(torch.int16) - 128).to(torch.int8)\n",
    "\n",
    "h = plt.hist(x.cpu().flatten(),range=(-127.5,127.5),bins=255,width=0.8,density=True)\n",
    "bpc = np.log2(np.exp(1))*Categorical(torch.tensor(h[0])).entropy()\n",
    "plt.xlim([-7,7])\n",
    "print(bpc)"
   ]
  },
  {
   "cell_type": "code",
   "execution_count": 3,
   "id": "3e484da3-62e8-434e-8348-117411a7403e",
   "metadata": {},
   "outputs": [],
   "source": [
    "def encode(codec, x):\n",
    "    shape = x.shape\n",
    "    x_flat = x.contiguous().view(-1)\n",
    "    nvcomp_array = nvcomp.as_array(x_flat)\n",
    "    c = codec.encode(nvcomp_array)\n",
    "    return c, shape\n",
    "\n",
    "def decode(codec, c, shape):\n",
    "    decompressed_array = codec.decode(c)\n",
    "    xhat_flat = torch.utils.dlpack.from_dlpack(decompressed_array.to_dlpack())\n",
    "    xhat = xhat_flat.view(shape)\n",
    "    return xhat"
   ]
  },
  {
   "cell_type": "code",
   "execution_count": 4,
   "id": "85ea2122-a9f3-4d9b-8f68-bf0ff46ecb17",
   "metadata": {},
   "outputs": [],
   "source": [
    "codec = nvcomp.Codec(algorithm=\"bitcomp\", data_type='|i1', algorithm_type=0)"
   ]
  },
  {
   "cell_type": "code",
   "execution_count": 5,
   "id": "0329ecd2-b2c7-4422-bcef-4a1c3aefff0c",
   "metadata": {},
   "outputs": [
    {
     "name": "stdout",
     "output_type": "stream",
     "text": [
      "Ratio: 2.909090909090909\n"
     ]
    }
   ],
   "source": [
    "c, shape = encode(codec, x)\n",
    "print(f\"Ratio: {x.numel()/c.buffer_size}\")\n",
    "xhat = decode(codec, c, shape)\n",
    "assert torch.equal(x, xhat)"
   ]
  }
 ],
 "metadata": {
  "kernelspec": {
   "display_name": "Python 3 (ipykernel)",
   "language": "python",
   "name": "python3"
  },
  "language_info": {
   "codemirror_mode": {
    "name": "ipython",
    "version": 3
   },
   "file_extension": ".py",
   "mimetype": "text/x-python",
   "name": "python",
   "nbconvert_exporter": "python",
   "pygments_lexer": "ipython3",
   "version": "3.10.12"
  }
 },
 "nbformat": 4,
 "nbformat_minor": 5
}
