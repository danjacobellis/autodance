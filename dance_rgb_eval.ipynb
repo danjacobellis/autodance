{
 "cells": [
  {
   "cell_type": "code",
   "execution_count": 1,
   "id": "edb7d1ed-cfe7-4a60-a5ef-4e7083205b0e",
   "metadata": {},
   "outputs": [],
   "source": [
    "import torch\n",
    "import torch.nn as nn\n",
    "import PIL.Image\n",
    "import io\n",
    "import numpy as np\n",
    "import datasets\n",
    "from torchvision.transforms.v2 import CenterCrop, PILToTensor, ToPILImage, Pad, CenterCrop\n",
    "from types import SimpleNamespace\n",
    "from autocodec.codec import AutoCodecND, latent_to_pil, pil_to_latent"
   ]
  },
  {
   "cell_type": "code",
   "execution_count": 2,
   "id": "a5324e50-c936-4374-a382-3029cb398692",
   "metadata": {},
   "outputs": [
    {
     "data": {
      "application/vnd.jupyter.widget-view+json": {
       "model_id": "cabd8045409a454092563487c423f849",
       "version_major": 2,
       "version_minor": 0
      },
      "text/plain": [
       "Resolving data files:   0%|          | 0/1024 [00:00<?, ?it/s]"
      ]
     },
     "metadata": {},
     "output_type": "display_data"
    },
    {
     "data": {
      "application/vnd.jupyter.widget-view+json": {
       "model_id": "95c4ac805000494a89fe288712f2c830",
       "version_major": 2,
       "version_minor": 0
      },
      "text/plain": [
       "Resolving data files:   0%|          | 0/64 [00:00<?, ?it/s]"
      ]
     },
     "metadata": {},
     "output_type": "display_data"
    }
   ],
   "source": [
    "device = \"cuda\"\n",
    "# kodak = datasets.load_dataset(\"danjacobellis/kodak\", split='validation')\n",
    "# lsdir = datasets.load_dataset(\"danjacobellis/LSDIR_val\", split='validation')\n",
    "inet = datasets.load_dataset(\"timm/imagenet-1k-wds\",split='validation')"
   ]
  },
  {
   "cell_type": "code",
   "execution_count": 3,
   "id": "96f2bd3e-e30c-4873-bf2d-1cbcb2ca23f5",
   "metadata": {},
   "outputs": [],
   "source": [
    "checkpoint = torch.load('../hf/dance/LF_rgb_f16c12_v1.9_finetune3.pth', map_location=device,weights_only=False)\n",
    "config = checkpoint['config']\n",
    "state_dict = checkpoint['state_dict']\n",
    "\n",
    "model = AutoCodecND(\n",
    "    dim=2,\n",
    "    input_channels=config.input_channels,\n",
    "    J=int(config.F**0.5),\n",
    "    latent_dim=config.latent_dim,\n",
    "    encoder_depth = config.encoder_depth,\n",
    "    encoder_kernel_size = config.encoder_kernel_size,\n",
    "    decoder_depth = config.decoder_depth,\n",
    "    lightweight_encode=config.lightweight_encode,\n",
    "    lightweight_decode=config.lightweight_decode,\n",
    ").to(device)\n",
    "model.load_state_dict(state_dict)\n",
    "model.eval();"
   ]
  },
  {
   "cell_type": "code",
   "execution_count": 4,
   "id": "faf8b98c-a42c-49e3-861c-a59f41aaba2c",
   "metadata": {},
   "outputs": [],
   "source": [
    "# # img = lsdir[28]['image'].crop((512+256,512,1024+256,1024)).resize((768,768),resample=PIL.Image.Resampling.LANCZOS)\n",
    "# # img = kodak[22]['image'].crop((0,0,512,512))\n",
    "# img = inet[2]['jpg']\n",
    "# aspect = img.width/img.height\n",
    "# img = img.resize((int(16*(1024*aspect//16)),1024),resample=PIL.Image.Resampling.LANCZOS)\n",
    "# x = PILToTensor()(img).to(device).unsqueeze(0).to(torch.float) / 127.5 - 1.0\n",
    "# x_orig = x[0]\n",
    "# orig_dim = x.numel()\n",
    "\n",
    "# with torch.no_grad():\n",
    "#     z = model.encode(x)\n",
    "#     latent = model.quantize.compand(z).round()\n",
    "\n",
    "# webp = latent_to_pil(latent.cpu(), n_bits=8, C=3)\n",
    "\n",
    "# buff = io.BytesIO()\n",
    "# webp[0].save(buff, format='WEBP', lossless=True)\n",
    "# size_bytes = len(buff.getbuffer())\n",
    "# print(f\"{size_bytes/1e3} KB\")\n",
    "# print(f\"{orig_dim/size_bytes}x compression ratio\")\n",
    "# print(f\"{orig_dim/latent.numel()}x dimension reduction\")\n",
    "\n",
    "# latent_decoded = pil_to_latent(webp, N=config.latent_dim, n_bits=8, C=3).to(device)\n",
    "\n",
    "# with torch.no_grad():\n",
    "#     x_hat = model.decode(latent_decoded)\n",
    "#     x_hat = x_hat.clamp(-1,1)\n",
    "\n",
    "# mse = torch.nn.functional.mse_loss(x_orig, x_hat[0])\n",
    "# PSNR = -10 * mse.log10().item() + 20*np.log10(2)\n",
    "# print(f\"{PSNR} dB PSNR\")\n",
    "\n",
    "# # display(ToPILImage()(x_orig.clamp(-1, 1) / 2 + 0.5))  # Original image\n",
    "# # display(webp[0])  # Compressed WEBP image\n",
    "# display(ToPILImage()(x_hat[0].clamp(-1, 1) / 2 + 0.5))  # Reconstructed image"
   ]
  },
  {
   "cell_type": "code",
   "execution_count": 5,
   "id": "b11511b5-960b-453d-b18a-214fab5fb179",
   "metadata": {},
   "outputs": [],
   "source": [
    "# buff = io.BytesIO()\n",
    "# img.save(buff, format='JPEG', quality=0, subsampling=2)\n",
    "# size_bytes = len(buff.getbuffer())\n",
    "# print(f\"{size_bytes/1e3} KB\")\n",
    "# print(f\"{orig_dim/size_bytes}x compression ratio\")\n",
    "# buff.seek(0)\n",
    "# webp = PIL.Image.open(buff)\n",
    "# MSE = torch.nn.functional.mse_loss(PILToTensor()(webp).to(torch.float)/255, x_orig.to(\"cpu\")/2 + 0.5)\n",
    "# print(f\"{-10*MSE.log10()} PSNR\")\n",
    "# display(webp)"
   ]
  },
  {
   "cell_type": "code",
   "execution_count": 6,
   "id": "8fc64255-60d6-480a-b381-6fa623f072e4",
   "metadata": {},
   "outputs": [],
   "source": [
    "# import matplotlib.pyplot as plt\n",
    "# plt.hist(latent.flatten().cpu(),bins=255, range=(-127.5,127.5),width=0.9,density=True);\n",
    "# plt.xlim([-15,15])\n",
    "\n",
    "# def entropy_bits(x):\n",
    "#     unique_values, counts = torch.unique(x, return_counts=True)\n",
    "#     p = counts.float() / x.numel()\n",
    "#     return -torch.sum(p * torch.log2(p))\n",
    "\n",
    "# 64*(8/entropy_bits(latent))"
   ]
  },
  {
   "cell_type": "code",
   "execution_count": 7,
   "id": "597406c8-c83a-4a31-98cc-ddb58bc9eb17",
   "metadata": {},
   "outputs": [],
   "source": [
    "# buff = io.BytesIO()\n",
    "# img.save(buff, format='JPEG2000', quality_layers=[500])\n",
    "# size_bytes = len(buff.getbuffer())\n",
    "# print(f\"{size_bytes/1e3} KB\")\n",
    "# print(f\"{orig_dim/size_bytes}x compression ratio\")\n",
    "# buff.seek(0)\n",
    "# webp = PIL.Image.open(buff)\n",
    "# MSE = torch.nn.functional.mse_loss(PILToTensor()(webp).to(torch.float)/255, x_orig.to(\"cpu\")/2 + 0.5)\n",
    "# print(f\"{-10*MSE.log10()} PSNR\")\n",
    "# display(webp)"
   ]
  },
  {
   "cell_type": "code",
   "execution_count": 8,
   "id": "79dd0d1b-22dc-4e42-b9aa-2cbba9fbbfc9",
   "metadata": {},
   "outputs": [
    {
     "name": "stderr",
     "output_type": "stream",
     "text": [
      "/home/dgj335/.local/lib/python3.10/site-packages/torchvision/models/_utils.py:208: UserWarning: The parameter 'pretrained' is deprecated since 0.13 and may be removed in the future, please use 'weights' instead.\n",
      "  warnings.warn(\n",
      "/home/dgj335/.local/lib/python3.10/site-packages/torchvision/models/_utils.py:223: UserWarning: Arguments other than a weight enum or `None` for 'weights' are deprecated since 0.13 and may be removed in the future. The current behavior is equivalent to passing `weights=VGG16_Weights.IMAGENET1K_V1`. You can also use `weights=VGG16_Weights.DEFAULT` to get the most up-to-date weights.\n",
      "  warnings.warn(msg)\n"
     ]
    }
   ],
   "source": [
    "import io\n",
    "import time\n",
    "import torch\n",
    "import numpy as np\n",
    "from PIL import Image as PILImage\n",
    "from torchvision.transforms import Pad, CenterCrop, PILToTensor\n",
    "from datasets import Dataset\n",
    "from piq import LPIPS, DISTS, SSIMLoss\n",
    "\n",
    "# Initialize LPIPS and DISTS on GPU for faster computation\n",
    "lpips_loss = LPIPS().to(device)\n",
    "dists_loss = DISTS().to(device)\n",
    "ssim_loss = SSIMLoss().to(device)"
   ]
  },
  {
   "cell_type": "code",
   "execution_count": 9,
   "id": "b06d2d79-fd36-419d-bfc8-96579af4aae7",
   "metadata": {},
   "outputs": [],
   "source": [
    "def compress_and_evaluate(sample):\n",
    "    img = sample['jpg'].convert(\"RGB\")\n",
    "    aspect = img.width/img.height\n",
    "    img = img.resize((int(16*(1024*aspect//16)),1024),resample=PIL.Image.Resampling.LANCZOS)\n",
    "    x_orig = PILToTensor()(img).to(device).unsqueeze(0).to(torch.float) / 127.5 - 1.0\n",
    "    orig_dim = x_orig.numel() \n",
    "\n",
    "    t0 = time.time()\n",
    "    with torch.no_grad():\n",
    "        z = model.encode(x_orig)\n",
    "        latent = model.quantize.compand(z).round()\n",
    "    webp = latent_to_pil(latent.cpu(), n_bits=8, C=3)\n",
    "    buff = io.BytesIO()\n",
    "    webp[0].save(buff, format='WEBP', lossless=True)\n",
    "    encode_time = time.time() - t0\n",
    "    size_bytes = len(buff.getbuffer())\n",
    "    t0 = time.time()\n",
    "    latent_decoded = pil_to_latent(webp, N=config.latent_dim, n_bits=8, C=3).to(device)\n",
    "    with torch.no_grad():\n",
    "        x_hat = model.decode(latent_decoded).clamp(-1,1)\n",
    "    decode_time = time.time() - t0\n",
    "\n",
    "    x_orig_01 = x_orig / 2 + 0.5\n",
    "    x_hat_01 = x_hat / 2 + 0.5\n",
    "\n",
    "    pixels = img.width * img.height\n",
    "    bpp = 8 * size_bytes / pixels\n",
    "    mse = torch.nn.functional.mse_loss(x_orig_01[0], x_hat_01[0])\n",
    "    PSNR = -10 * mse.log10().item()\n",
    "    LPIPS_dB = -10 * np.log10(lpips_loss(x_orig_01.to(\"cuda\"), x_hat_01.to(\"cuda\")).item())\n",
    "    DISTS_dB = -10 * np.log10(dists_loss(x_orig_01.to(\"cuda\"), x_hat_01.to(\"cuda\")).item())\n",
    "    SSIM = 1 - ssim_loss(x_orig_01.to(\"cuda\"), x_hat_01.to(\"cuda\")).item()\n",
    "\n",
    "    return {\n",
    "        'pixels': pixels,\n",
    "        'bpp': bpp,\n",
    "        'PSNR': PSNR,\n",
    "        'LPIPS_dB': LPIPS_dB,\n",
    "        'DISTS_dB': DISTS_dB,\n",
    "        'SSIM': SSIM,\n",
    "        'encode_time': encode_time,\n",
    "        'decode_time': decode_time,\n",
    "    }\n",
    "\n",
    "metrics = [\n",
    "    'pixels',\n",
    "    'bpp',\n",
    "    'PSNR',\n",
    "    'LPIPS_dB',\n",
    "    'DISTS_dB',\n",
    "    'SSIM',\n",
    "    'encode_time',\n",
    "    'decode_time',\n",
    "]"
   ]
  },
  {
   "cell_type": "code",
   "execution_count": 10,
   "id": "4d30e515-2200-47cd-966c-f246ff51679d",
   "metadata": {},
   "outputs": [
    {
     "data": {
      "application/vnd.jupyter.widget-view+json": {
       "model_id": "28cd9e02e0c94db187c9e12334585f44",
       "version_major": 2,
       "version_minor": 0
      },
      "text/plain": [
       "Map:   0%|          | 0/50000 [00:00<?, ? examples/s]"
      ]
     },
     "metadata": {},
     "output_type": "display_data"
    },
    {
     "name": "stdout",
     "output_type": "stream",
     "text": [
      "mean\n",
      "---\n",
      "pixels: 1233140.44928\n",
      "bpp: 0.14418009079073607\n",
      "PSNR: 31.374087136149406\n",
      "LPIPS_dB: 5.915179945723589\n",
      "DISTS_dB: 11.888906668262273\n",
      "SSIM: 0.9438396998894215\n",
      "encode_time: 0.009707624049186707\n",
      "decode_time: 0.004420396466255188\n",
      "134.2711730073299 MP/sec\n"
     ]
    }
   ],
   "source": [
    "results_dataset = inet.map(compress_and_evaluate)\n",
    "\n",
    "print(\"mean\\n---\")\n",
    "for metric in metrics:\n",
    "    μ = np.mean(results_dataset[metric])\n",
    "    print(f\"{metric}: {μ}\")\n",
    "print(f\"{np.mean(np.array(results_dataset['pixels'])/1e6/np.array(results_dataset['encode_time']))} MP/sec\")"
   ]
  }
 ],
 "metadata": {
  "kernelspec": {
   "display_name": "Python 3 (ipykernel)",
   "language": "python",
   "name": "python3"
  },
  "language_info": {
   "codemirror_mode": {
    "name": "ipython",
    "version": 3
   },
   "file_extension": ".py",
   "mimetype": "text/x-python",
   "name": "python",
   "nbconvert_exporter": "python",
   "pygments_lexer": "ipython3",
   "version": "3.10.12"
  }
 },
 "nbformat": 4,
 "nbformat_minor": 5
}
