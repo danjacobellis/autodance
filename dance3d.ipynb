{
 "cells": [
  {
   "cell_type": "code",
   "execution_count": 1,
   "id": "e3510095-2530-47e4-9be4-f7195bdc9d7c",
   "metadata": {},
   "outputs": [],
   "source": [
    "device=\"cpu\"\n",
    "import io\n",
    "import torch\n",
    "import torch.nn as nn\n",
    "import PIL.Image\n",
    "import einops\n",
    "import matplotlib.pyplot as plt\n",
    "import numpy as np\n",
    "import datasets\n",
    "import math\n",
    "from IPython.display import HTML\n",
    "from types import SimpleNamespace\n",
    "from timm.optim import Mars\n",
    "from fastprogress import progress_bar, master_bar\n",
    "from torchvision.transforms.v2 import ToPILImage, PILToTensor, CenterCrop, RandomCrop\n",
    "from timm.models.efficientvit_mit import GELUTanh, EfficientVitBlock, ResidualBlock, build_local_block\n",
    "from pytorch_wavelets import DWTForward, DWTInverse\n",
    "from tft.wavelet import WPT3D, IWPT3D\n",
    "from tft.utils import compand, decompand\n",
    "dataset = datasets.load_dataset(\"danjacobellis/organmnist3d_64\")"
   ]
  },
  {
   "cell_type": "code",
   "execution_count": 2,
   "id": "31802a5a-cddf-4ebd-9d87-2aca01836585",
   "metadata": {},
   "outputs": [],
   "source": [
    "config = SimpleNamespace()\n",
    "config.F = 8\n",
    "config.target_bits_per_channel = np.log2(7)\n",
    "config.latent_dim = 128;\n",
    "config.channels = 1\n",
    "config.max_noise_penalty = 1e-5\n",
    "config.encoder_depth = 6\n",
    "config.max_lr = 1e-3\n",
    "config.min_lr = config.max_lr / 1e3\n",
    "config.lr_pow = 2\n",
    "config.volume_size = 48\n",
    "config.batch_size = 64\n",
    "config.num_workers = 32\n",
    "config.epochs = 24\n",
    "config.total_steps = config.epochs * (dataset['train'].num_rows // config.batch_size)"
   ]
  },
  {
   "cell_type": "code",
   "execution_count": 3,
   "id": "5f943008-ea34-4474-90ac-295993a981d1",
   "metadata": {},
   "outputs": [],
   "source": [
    "from transforms import RandomCrop3D\n",
    "rand_crop = RandomCrop3D(64)\n",
    "def pil_to_grid3d(img):\n",
    "    x = torch.tensor(np.array(img))\n",
    "    x = einops.rearrange(x, '(a y) (b z) c -> (a b c) y z', a=4, b=4, c=4)\n",
    "    return x\n",
    "def collate_fn(batch):\n",
    "    return torch.cat([\n",
    "        rand_crop(pil_to_grid3d(sample['image']).unsqueeze(0).unsqueeze(0)) for sample in batch\n",
    "    ]).to(torch.float)/127.5 - 1.0"
   ]
  },
  {
   "cell_type": "code",
   "execution_count": 5,
   "id": "2555418e-9579-44dd-83d4-1daac6421e25",
   "metadata": {},
   "outputs": [],
   "source": [
    "batch = dataset['train'].select(range(8))\n",
    "x = collate_fn(batch)"
   ]
  },
  {
   "cell_type": "code",
   "execution_count": 7,
   "id": "862dddfb-4975-4c6b-8891-ab0832680b14",
   "metadata": {},
   "outputs": [
    {
     "data": {
      "application/vnd.jupyter.widget-view+json": {
       "model_id": "16df270ed7d14220808de6ab612f507b",
       "version_major": 2,
       "version_minor": 0
      },
      "text/plain": [
       "interactive(children=(IntSlider(value=23, description='index', max=47), Output()), _dom_classes=('widget-inter…"
      ]
     },
     "metadata": {},
     "output_type": "display_data"
    }
   ],
   "source": [
    "from IPython.display import display, clear_output\n",
    "from ipywidgets import interact\n",
    "\n",
    "volume = x[3,0].numpy()\n",
    "def show_slice(index):\n",
    "    clear_output(wait=True)  # Clear previous output\n",
    "    slice_data = volume[index, :, :]\n",
    "    img = ToPILImage()(slice_data/2+0.5).resize((256,256),resample=PIL.Image.Resampling.LANCZOS)\n",
    "    display(img)\n",
    "interact(show_slice, index=(0, 47, 1));"
   ]
  }
 ],
 "metadata": {
  "kernelspec": {
   "display_name": "Python 3 (ipykernel)",
   "language": "python",
   "name": "python3"
  },
  "language_info": {
   "codemirror_mode": {
    "name": "ipython",
    "version": 3
   },
   "file_extension": ".py",
   "mimetype": "text/x-python",
   "name": "python",
   "nbconvert_exporter": "python",
   "pygments_lexer": "ipython3",
   "version": "3.10.12"
  }
 },
 "nbformat": 4,
 "nbformat_minor": 5
}
